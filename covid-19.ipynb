{
 "cells": [
  {
   "cell_type": "code",
   "execution_count": 76,
   "id": "882d670d",
   "metadata": {},
   "outputs": [
    {
     "name": "stdout",
     "output_type": "stream",
     "text": [
      "Requirement already satisfied: pandas in c:\\users\\admin\\onedrive\\documents\\covid19 dashboard\\.venv\\lib\\site-packages (2.3.0)\n",
      "Requirement already satisfied: plotly in c:\\users\\admin\\onedrive\\documents\\covid19 dashboard\\.venv\\lib\\site-packages (6.2.0)\n",
      "Requirement already satisfied: requests in c:\\users\\admin\\onedrive\\documents\\covid19 dashboard\\.venv\\lib\\site-packages (2.32.4)\n",
      "Requirement already satisfied: jupyter in c:\\users\\admin\\onedrive\\documents\\covid19 dashboard\\.venv\\lib\\site-packages (1.1.1)\n",
      "Requirement already satisfied: numpy>=1.26.0 in c:\\users\\admin\\onedrive\\documents\\covid19 dashboard\\.venv\\lib\\site-packages (from pandas) (2.3.1)\n",
      "Requirement already satisfied: python-dateutil>=2.8.2 in c:\\users\\admin\\onedrive\\documents\\covid19 dashboard\\.venv\\lib\\site-packages (from pandas) (2.9.0.post0)\n",
      "Requirement already satisfied: pytz>=2020.1 in c:\\users\\admin\\onedrive\\documents\\covid19 dashboard\\.venv\\lib\\site-packages (from pandas) (2025.2)\n",
      "Requirement already satisfied: tzdata>=2022.7 in c:\\users\\admin\\onedrive\\documents\\covid19 dashboard\\.venv\\lib\\site-packages (from pandas) (2025.2)\n",
      "Requirement already satisfied: narwhals>=1.15.1 in c:\\users\\admin\\onedrive\\documents\\covid19 dashboard\\.venv\\lib\\site-packages (from plotly) (1.44.0)\n",
      "Requirement already satisfied: packaging in c:\\users\\admin\\onedrive\\documents\\covid19 dashboard\\.venv\\lib\\site-packages (from plotly) (25.0)\n",
      "Requirement already satisfied: charset_normalizer<4,>=2 in c:\\users\\admin\\onedrive\\documents\\covid19 dashboard\\.venv\\lib\\site-packages (from requests) (3.4.2)\n",
      "Requirement already satisfied: idna<4,>=2.5 in c:\\users\\admin\\onedrive\\documents\\covid19 dashboard\\.venv\\lib\\site-packages (from requests) (3.10)\n",
      "Requirement already satisfied: urllib3<3,>=1.21.1 in c:\\users\\admin\\onedrive\\documents\\covid19 dashboard\\.venv\\lib\\site-packages (from requests) (2.5.0)\n",
      "Requirement already satisfied: certifi>=2017.4.17 in c:\\users\\admin\\onedrive\\documents\\covid19 dashboard\\.venv\\lib\\site-packages (from requests) (2025.6.15)\n",
      "Requirement already satisfied: notebook in c:\\users\\admin\\onedrive\\documents\\covid19 dashboard\\.venv\\lib\\site-packages (from jupyter) (7.4.3)\n",
      "Requirement already satisfied: jupyter-console in c:\\users\\admin\\onedrive\\documents\\covid19 dashboard\\.venv\\lib\\site-packages (from jupyter) (6.6.3)\n",
      "Requirement already satisfied: nbconvert in c:\\users\\admin\\onedrive\\documents\\covid19 dashboard\\.venv\\lib\\site-packages (from jupyter) (7.16.6)\n",
      "Requirement already satisfied: ipykernel in c:\\users\\admin\\onedrive\\documents\\covid19 dashboard\\.venv\\lib\\site-packages (from jupyter) (6.29.5)\n",
      "Requirement already satisfied: ipywidgets in c:\\users\\admin\\onedrive\\documents\\covid19 dashboard\\.venv\\lib\\site-packages (from jupyter) (8.1.7)\n",
      "Requirement already satisfied: jupyterlab in c:\\users\\admin\\onedrive\\documents\\covid19 dashboard\\.venv\\lib\\site-packages (from jupyter) (4.4.4)\n",
      "Requirement already satisfied: six>=1.5 in c:\\users\\admin\\onedrive\\documents\\covid19 dashboard\\.venv\\lib\\site-packages (from python-dateutil>=2.8.2->pandas) (1.17.0)\n",
      "Requirement already satisfied: comm>=0.1.1 in c:\\users\\admin\\onedrive\\documents\\covid19 dashboard\\.venv\\lib\\site-packages (from ipykernel->jupyter) (0.2.2)\n",
      "Requirement already satisfied: debugpy>=1.6.5 in c:\\users\\admin\\onedrive\\documents\\covid19 dashboard\\.venv\\lib\\site-packages (from ipykernel->jupyter) (1.8.14)\n",
      "Requirement already satisfied: ipython>=7.23.1 in c:\\users\\admin\\onedrive\\documents\\covid19 dashboard\\.venv\\lib\\site-packages (from ipykernel->jupyter) (9.3.0)\n",
      "Requirement already satisfied: jupyter-client>=6.1.12 in c:\\users\\admin\\onedrive\\documents\\covid19 dashboard\\.venv\\lib\\site-packages (from ipykernel->jupyter) (8.6.3)\n",
      "Requirement already satisfied: jupyter-core!=5.0.*,>=4.12 in c:\\users\\admin\\onedrive\\documents\\covid19 dashboard\\.venv\\lib\\site-packages (from ipykernel->jupyter) (5.8.1)\n",
      "Requirement already satisfied: matplotlib-inline>=0.1 in c:\\users\\admin\\onedrive\\documents\\covid19 dashboard\\.venv\\lib\\site-packages (from ipykernel->jupyter) (0.1.7)\n",
      "Requirement already satisfied: nest-asyncio in c:\\users\\admin\\onedrive\\documents\\covid19 dashboard\\.venv\\lib\\site-packages (from ipykernel->jupyter) (1.6.0)\n",
      "Requirement already satisfied: psutil in c:\\users\\admin\\onedrive\\documents\\covid19 dashboard\\.venv\\lib\\site-packages (from ipykernel->jupyter) (7.0.0)\n",
      "Requirement already satisfied: pyzmq>=24 in c:\\users\\admin\\onedrive\\documents\\covid19 dashboard\\.venv\\lib\\site-packages (from ipykernel->jupyter) (27.0.0)\n",
      "Requirement already satisfied: tornado>=6.1 in c:\\users\\admin\\onedrive\\documents\\covid19 dashboard\\.venv\\lib\\site-packages (from ipykernel->jupyter) (6.5.1)\n",
      "Requirement already satisfied: traitlets>=5.4.0 in c:\\users\\admin\\onedrive\\documents\\covid19 dashboard\\.venv\\lib\\site-packages (from ipykernel->jupyter) (5.14.3)\n",
      "Requirement already satisfied: colorama in c:\\users\\admin\\onedrive\\documents\\covid19 dashboard\\.venv\\lib\\site-packages (from ipython>=7.23.1->ipykernel->jupyter) (0.4.6)\n",
      "Requirement already satisfied: decorator in c:\\users\\admin\\onedrive\\documents\\covid19 dashboard\\.venv\\lib\\site-packages (from ipython>=7.23.1->ipykernel->jupyter) (5.2.1)\n",
      "Requirement already satisfied: ipython-pygments-lexers in c:\\users\\admin\\onedrive\\documents\\covid19 dashboard\\.venv\\lib\\site-packages (from ipython>=7.23.1->ipykernel->jupyter) (1.1.1)\n",
      "Requirement already satisfied: jedi>=0.16 in c:\\users\\admin\\onedrive\\documents\\covid19 dashboard\\.venv\\lib\\site-packages (from ipython>=7.23.1->ipykernel->jupyter) (0.19.2)\n",
      "Requirement already satisfied: prompt_toolkit<3.1.0,>=3.0.41 in c:\\users\\admin\\onedrive\\documents\\covid19 dashboard\\.venv\\lib\\site-packages (from ipython>=7.23.1->ipykernel->jupyter) (3.0.51)\n",
      "Requirement already satisfied: pygments>=2.4.0 in c:\\users\\admin\\onedrive\\documents\\covid19 dashboard\\.venv\\lib\\site-packages (from ipython>=7.23.1->ipykernel->jupyter) (2.19.2)\n",
      "Requirement already satisfied: stack_data in c:\\users\\admin\\onedrive\\documents\\covid19 dashboard\\.venv\\lib\\site-packages (from ipython>=7.23.1->ipykernel->jupyter) (0.6.3)\n",
      "Requirement already satisfied: wcwidth in c:\\users\\admin\\onedrive\\documents\\covid19 dashboard\\.venv\\lib\\site-packages (from prompt_toolkit<3.1.0,>=3.0.41->ipython>=7.23.1->ipykernel->jupyter) (0.2.13)\n",
      "Requirement already satisfied: parso<0.9.0,>=0.8.4 in c:\\users\\admin\\onedrive\\documents\\covid19 dashboard\\.venv\\lib\\site-packages (from jedi>=0.16->ipython>=7.23.1->ipykernel->jupyter) (0.8.4)\n",
      "Requirement already satisfied: platformdirs>=2.5 in c:\\users\\admin\\onedrive\\documents\\covid19 dashboard\\.venv\\lib\\site-packages (from jupyter-core!=5.0.*,>=4.12->ipykernel->jupyter) (4.3.8)\n",
      "Requirement already satisfied: pywin32>=300 in c:\\users\\admin\\onedrive\\documents\\covid19 dashboard\\.venv\\lib\\site-packages (from jupyter-core!=5.0.*,>=4.12->ipykernel->jupyter) (310)\n",
      "Requirement already satisfied: widgetsnbextension~=4.0.14 in c:\\users\\admin\\onedrive\\documents\\covid19 dashboard\\.venv\\lib\\site-packages (from ipywidgets->jupyter) (4.0.14)\n",
      "Requirement already satisfied: jupyterlab_widgets~=3.0.15 in c:\\users\\admin\\onedrive\\documents\\covid19 dashboard\\.venv\\lib\\site-packages (from ipywidgets->jupyter) (3.0.15)\n",
      "Requirement already satisfied: async-lru>=1.0.0 in c:\\users\\admin\\onedrive\\documents\\covid19 dashboard\\.venv\\lib\\site-packages (from jupyterlab->jupyter) (2.0.5)\n",
      "Requirement already satisfied: httpx>=0.25.0 in c:\\users\\admin\\onedrive\\documents\\covid19 dashboard\\.venv\\lib\\site-packages (from jupyterlab->jupyter) (0.28.1)\n",
      "Requirement already satisfied: jinja2>=3.0.3 in c:\\users\\admin\\onedrive\\documents\\covid19 dashboard\\.venv\\lib\\site-packages (from jupyterlab->jupyter) (3.1.6)\n",
      "Requirement already satisfied: jupyter-lsp>=2.0.0 in c:\\users\\admin\\onedrive\\documents\\covid19 dashboard\\.venv\\lib\\site-packages (from jupyterlab->jupyter) (2.2.5)\n",
      "Requirement already satisfied: jupyter-server<3,>=2.4.0 in c:\\users\\admin\\onedrive\\documents\\covid19 dashboard\\.venv\\lib\\site-packages (from jupyterlab->jupyter) (2.16.0)\n",
      "Requirement already satisfied: jupyterlab-server<3,>=2.27.1 in c:\\users\\admin\\onedrive\\documents\\covid19 dashboard\\.venv\\lib\\site-packages (from jupyterlab->jupyter) (2.27.3)\n",
      "Requirement already satisfied: notebook-shim>=0.2 in c:\\users\\admin\\onedrive\\documents\\covid19 dashboard\\.venv\\lib\\site-packages (from jupyterlab->jupyter) (0.2.4)\n",
      "Requirement already satisfied: setuptools>=41.1.0 in c:\\users\\admin\\onedrive\\documents\\covid19 dashboard\\.venv\\lib\\site-packages (from jupyterlab->jupyter) (80.9.0)\n",
      "Requirement already satisfied: anyio>=3.1.0 in c:\\users\\admin\\onedrive\\documents\\covid19 dashboard\\.venv\\lib\\site-packages (from jupyter-server<3,>=2.4.0->jupyterlab->jupyter) (4.9.0)\n",
      "Requirement already satisfied: argon2-cffi>=21.1 in c:\\users\\admin\\onedrive\\documents\\covid19 dashboard\\.venv\\lib\\site-packages (from jupyter-server<3,>=2.4.0->jupyterlab->jupyter) (25.1.0)\n",
      "Requirement already satisfied: jupyter-events>=0.11.0 in c:\\users\\admin\\onedrive\\documents\\covid19 dashboard\\.venv\\lib\\site-packages (from jupyter-server<3,>=2.4.0->jupyterlab->jupyter) (0.12.0)\n",
      "Requirement already satisfied: jupyter-server-terminals>=0.4.4 in c:\\users\\admin\\onedrive\\documents\\covid19 dashboard\\.venv\\lib\\site-packages (from jupyter-server<3,>=2.4.0->jupyterlab->jupyter) (0.5.3)\n",
      "Requirement already satisfied: nbformat>=5.3.0 in c:\\users\\admin\\onedrive\\documents\\covid19 dashboard\\.venv\\lib\\site-packages (from jupyter-server<3,>=2.4.0->jupyterlab->jupyter) (5.10.4)\n",
      "Requirement already satisfied: overrides>=5.0 in c:\\users\\admin\\onedrive\\documents\\covid19 dashboard\\.venv\\lib\\site-packages (from jupyter-server<3,>=2.4.0->jupyterlab->jupyter) (7.7.0)\n",
      "Requirement already satisfied: prometheus-client>=0.9 in c:\\users\\admin\\onedrive\\documents\\covid19 dashboard\\.venv\\lib\\site-packages (from jupyter-server<3,>=2.4.0->jupyterlab->jupyter) (0.22.1)\n",
      "Requirement already satisfied: pywinpty>=2.0.1 in c:\\users\\admin\\onedrive\\documents\\covid19 dashboard\\.venv\\lib\\site-packages (from jupyter-server<3,>=2.4.0->jupyterlab->jupyter) (2.0.15)\n",
      "Requirement already satisfied: send2trash>=1.8.2 in c:\\users\\admin\\onedrive\\documents\\covid19 dashboard\\.venv\\lib\\site-packages (from jupyter-server<3,>=2.4.0->jupyterlab->jupyter) (1.8.3)\n",
      "Requirement already satisfied: terminado>=0.8.3 in c:\\users\\admin\\onedrive\\documents\\covid19 dashboard\\.venv\\lib\\site-packages (from jupyter-server<3,>=2.4.0->jupyterlab->jupyter) (0.18.1)\n",
      "Requirement already satisfied: websocket-client>=1.7 in c:\\users\\admin\\onedrive\\documents\\covid19 dashboard\\.venv\\lib\\site-packages (from jupyter-server<3,>=2.4.0->jupyterlab->jupyter) (1.8.0)\n",
      "Requirement already satisfied: babel>=2.10 in c:\\users\\admin\\onedrive\\documents\\covid19 dashboard\\.venv\\lib\\site-packages (from jupyterlab-server<3,>=2.27.1->jupyterlab->jupyter) (2.17.0)\n",
      "Requirement already satisfied: json5>=0.9.0 in c:\\users\\admin\\onedrive\\documents\\covid19 dashboard\\.venv\\lib\\site-packages (from jupyterlab-server<3,>=2.27.1->jupyterlab->jupyter) (0.12.0)\n",
      "Requirement already satisfied: jsonschema>=4.18.0 in c:\\users\\admin\\onedrive\\documents\\covid19 dashboard\\.venv\\lib\\site-packages (from jupyterlab-server<3,>=2.27.1->jupyterlab->jupyter) (4.24.0)\n",
      "Requirement already satisfied: sniffio>=1.1 in c:\\users\\admin\\onedrive\\documents\\covid19 dashboard\\.venv\\lib\\site-packages (from anyio>=3.1.0->jupyter-server<3,>=2.4.0->jupyterlab->jupyter) (1.3.1)\n",
      "Requirement already satisfied: argon2-cffi-bindings in c:\\users\\admin\\onedrive\\documents\\covid19 dashboard\\.venv\\lib\\site-packages (from argon2-cffi>=21.1->jupyter-server<3,>=2.4.0->jupyterlab->jupyter) (21.2.0)\n",
      "Requirement already satisfied: httpcore==1.* in c:\\users\\admin\\onedrive\\documents\\covid19 dashboard\\.venv\\lib\\site-packages (from httpx>=0.25.0->jupyterlab->jupyter) (1.0.9)\n",
      "Requirement already satisfied: h11>=0.16 in c:\\users\\admin\\onedrive\\documents\\covid19 dashboard\\.venv\\lib\\site-packages (from httpcore==1.*->httpx>=0.25.0->jupyterlab->jupyter) (0.16.0)\n",
      "Requirement already satisfied: MarkupSafe>=2.0 in c:\\users\\admin\\onedrive\\documents\\covid19 dashboard\\.venv\\lib\\site-packages (from jinja2>=3.0.3->jupyterlab->jupyter) (3.0.2)\n",
      "Requirement already satisfied: attrs>=22.2.0 in c:\\users\\admin\\onedrive\\documents\\covid19 dashboard\\.venv\\lib\\site-packages (from jsonschema>=4.18.0->jupyterlab-server<3,>=2.27.1->jupyterlab->jupyter) (25.3.0)\n",
      "Requirement already satisfied: jsonschema-specifications>=2023.03.6 in c:\\users\\admin\\onedrive\\documents\\covid19 dashboard\\.venv\\lib\\site-packages (from jsonschema>=4.18.0->jupyterlab-server<3,>=2.27.1->jupyterlab->jupyter) (2025.4.1)\n",
      "Requirement already satisfied: referencing>=0.28.4 in c:\\users\\admin\\onedrive\\documents\\covid19 dashboard\\.venv\\lib\\site-packages (from jsonschema>=4.18.0->jupyterlab-server<3,>=2.27.1->jupyterlab->jupyter) (0.36.2)\n",
      "Requirement already satisfied: rpds-py>=0.7.1 in c:\\users\\admin\\onedrive\\documents\\covid19 dashboard\\.venv\\lib\\site-packages (from jsonschema>=4.18.0->jupyterlab-server<3,>=2.27.1->jupyterlab->jupyter) (0.25.1)\n",
      "Requirement already satisfied: python-json-logger>=2.0.4 in c:\\users\\admin\\onedrive\\documents\\covid19 dashboard\\.venv\\lib\\site-packages (from jupyter-events>=0.11.0->jupyter-server<3,>=2.4.0->jupyterlab->jupyter) (3.3.0)\n",
      "Requirement already satisfied: pyyaml>=5.3 in c:\\users\\admin\\onedrive\\documents\\covid19 dashboard\\.venv\\lib\\site-packages (from jupyter-events>=0.11.0->jupyter-server<3,>=2.4.0->jupyterlab->jupyter) (6.0.2)\n",
      "Requirement already satisfied: rfc3339-validator in c:\\users\\admin\\onedrive\\documents\\covid19 dashboard\\.venv\\lib\\site-packages (from jupyter-events>=0.11.0->jupyter-server<3,>=2.4.0->jupyterlab->jupyter) (0.1.4)\n",
      "Requirement already satisfied: rfc3986-validator>=0.1.1 in c:\\users\\admin\\onedrive\\documents\\covid19 dashboard\\.venv\\lib\\site-packages (from jupyter-events>=0.11.0->jupyter-server<3,>=2.4.0->jupyterlab->jupyter) (0.1.1)\n",
      "Requirement already satisfied: fqdn in c:\\users\\admin\\onedrive\\documents\\covid19 dashboard\\.venv\\lib\\site-packages (from jsonschema[format-nongpl]>=4.18.0->jupyter-events>=0.11.0->jupyter-server<3,>=2.4.0->jupyterlab->jupyter) (1.5.1)\n",
      "Requirement already satisfied: isoduration in c:\\users\\admin\\onedrive\\documents\\covid19 dashboard\\.venv\\lib\\site-packages (from jsonschema[format-nongpl]>=4.18.0->jupyter-events>=0.11.0->jupyter-server<3,>=2.4.0->jupyterlab->jupyter) (20.11.0)\n",
      "Requirement already satisfied: jsonpointer>1.13 in c:\\users\\admin\\onedrive\\documents\\covid19 dashboard\\.venv\\lib\\site-packages (from jsonschema[format-nongpl]>=4.18.0->jupyter-events>=0.11.0->jupyter-server<3,>=2.4.0->jupyterlab->jupyter) (3.0.0)\n",
      "Requirement already satisfied: uri-template in c:\\users\\admin\\onedrive\\documents\\covid19 dashboard\\.venv\\lib\\site-packages (from jsonschema[format-nongpl]>=4.18.0->jupyter-events>=0.11.0->jupyter-server<3,>=2.4.0->jupyterlab->jupyter) (1.3.0)\n",
      "Requirement already satisfied: webcolors>=24.6.0 in c:\\users\\admin\\onedrive\\documents\\covid19 dashboard\\.venv\\lib\\site-packages (from jsonschema[format-nongpl]>=4.18.0->jupyter-events>=0.11.0->jupyter-server<3,>=2.4.0->jupyterlab->jupyter) (24.11.1)\n",
      "Requirement already satisfied: beautifulsoup4 in c:\\users\\admin\\onedrive\\documents\\covid19 dashboard\\.venv\\lib\\site-packages (from nbconvert->jupyter) (4.13.4)\n",
      "Requirement already satisfied: bleach!=5.0.0 in c:\\users\\admin\\onedrive\\documents\\covid19 dashboard\\.venv\\lib\\site-packages (from bleach[css]!=5.0.0->nbconvert->jupyter) (6.2.0)\n",
      "Requirement already satisfied: defusedxml in c:\\users\\admin\\onedrive\\documents\\covid19 dashboard\\.venv\\lib\\site-packages (from nbconvert->jupyter) (0.7.1)\n",
      "Requirement already satisfied: jupyterlab-pygments in c:\\users\\admin\\onedrive\\documents\\covid19 dashboard\\.venv\\lib\\site-packages (from nbconvert->jupyter) (0.3.0)\n",
      "Requirement already satisfied: mistune<4,>=2.0.3 in c:\\users\\admin\\onedrive\\documents\\covid19 dashboard\\.venv\\lib\\site-packages (from nbconvert->jupyter) (3.1.3)\n",
      "Requirement already satisfied: nbclient>=0.5.0 in c:\\users\\admin\\onedrive\\documents\\covid19 dashboard\\.venv\\lib\\site-packages (from nbconvert->jupyter) (0.10.2)\n",
      "Requirement already satisfied: pandocfilters>=1.4.1 in c:\\users\\admin\\onedrive\\documents\\covid19 dashboard\\.venv\\lib\\site-packages (from nbconvert->jupyter) (1.5.1)\n",
      "Requirement already satisfied: webencodings in c:\\users\\admin\\onedrive\\documents\\covid19 dashboard\\.venv\\lib\\site-packages (from bleach!=5.0.0->bleach[css]!=5.0.0->nbconvert->jupyter) (0.5.1)\n",
      "Requirement already satisfied: tinycss2<1.5,>=1.1.0 in c:\\users\\admin\\onedrive\\documents\\covid19 dashboard\\.venv\\lib\\site-packages (from bleach[css]!=5.0.0->nbconvert->jupyter) (1.4.0)\n",
      "Requirement already satisfied: fastjsonschema>=2.15 in c:\\users\\admin\\onedrive\\documents\\covid19 dashboard\\.venv\\lib\\site-packages (from nbformat>=5.3.0->jupyter-server<3,>=2.4.0->jupyterlab->jupyter) (2.21.1)\n",
      "Requirement already satisfied: cffi>=1.0.1 in c:\\users\\admin\\onedrive\\documents\\covid19 dashboard\\.venv\\lib\\site-packages (from argon2-cffi-bindings->argon2-cffi>=21.1->jupyter-server<3,>=2.4.0->jupyterlab->jupyter) (1.17.1)\n",
      "Requirement already satisfied: pycparser in c:\\users\\admin\\onedrive\\documents\\covid19 dashboard\\.venv\\lib\\site-packages (from cffi>=1.0.1->argon2-cffi-bindings->argon2-cffi>=21.1->jupyter-server<3,>=2.4.0->jupyterlab->jupyter) (2.22)\n",
      "Requirement already satisfied: soupsieve>1.2 in c:\\users\\admin\\onedrive\\documents\\covid19 dashboard\\.venv\\lib\\site-packages (from beautifulsoup4->nbconvert->jupyter) (2.7)\n",
      "Requirement already satisfied: typing-extensions>=4.0.0 in c:\\users\\admin\\onedrive\\documents\\covid19 dashboard\\.venv\\lib\\site-packages (from beautifulsoup4->nbconvert->jupyter) (4.14.0)\n",
      "Requirement already satisfied: arrow>=0.15.0 in c:\\users\\admin\\onedrive\\documents\\covid19 dashboard\\.venv\\lib\\site-packages (from isoduration->jsonschema[format-nongpl]>=4.18.0->jupyter-events>=0.11.0->jupyter-server<3,>=2.4.0->jupyterlab->jupyter) (1.3.0)\n",
      "Requirement already satisfied: types-python-dateutil>=2.8.10 in c:\\users\\admin\\onedrive\\documents\\covid19 dashboard\\.venv\\lib\\site-packages (from arrow>=0.15.0->isoduration->jsonschema[format-nongpl]>=4.18.0->jupyter-events>=0.11.0->jupyter-server<3,>=2.4.0->jupyterlab->jupyter) (2.9.0.20250516)\n",
      "Requirement already satisfied: executing>=1.2.0 in c:\\users\\admin\\onedrive\\documents\\covid19 dashboard\\.venv\\lib\\site-packages (from stack_data->ipython>=7.23.1->ipykernel->jupyter) (2.2.0)\n",
      "Requirement already satisfied: asttokens>=2.1.0 in c:\\users\\admin\\onedrive\\documents\\covid19 dashboard\\.venv\\lib\\site-packages (from stack_data->ipython>=7.23.1->ipykernel->jupyter) (3.0.0)\n",
      "Requirement already satisfied: pure-eval in c:\\users\\admin\\onedrive\\documents\\covid19 dashboard\\.venv\\lib\\site-packages (from stack_data->ipython>=7.23.1->ipykernel->jupyter) (0.2.3)\n",
      "Note: you may need to restart the kernel to use updated packages.\n"
     ]
    }
   ],
   "source": [
    "pip install pandas plotly requests jupyter "
   ]
  },
  {
   "cell_type": "code",
   "execution_count": 3,
   "id": "e93b0337",
   "metadata": {},
   "outputs": [],
   "source": [
    "import pandas as pd \n",
    "import plotly.express as px\n",
    "import plotly.graph_objects as go\n",
    "from plotly.subplots import make_subplots\n",
    "import requests\n",
    "from datetime import datetime, timedelta\n"
   ]
  },
  {
   "cell_type": "code",
   "execution_count": null,
   "id": "9a0c407b",
   "metadata": {},
   "outputs": [],
   "source": []
  },
  {
   "cell_type": "code",
   "execution_count": 4,
   "id": "7f88afd1",
   "metadata": {},
   "outputs": [
    {
     "name": "stdout",
     "output_type": "stream",
     "text": [
      "<Response [200]>\n"
     ]
    },
    {
     "data": {
      "application/vnd.plotly.v1+json": {
       "config": {
        "plotlyServerURL": "https://plot.ly"
       },
       "data": [
        {
         "line": {
          "color": "blue"
         },
         "name": "Cases",
         "type": "scatter",
         "x": [
          "2023-02-08T00:00:00.000000000",
          "2023-02-09T00:00:00.000000000",
          "2023-02-10T00:00:00.000000000",
          "2023-02-11T00:00:00.000000000",
          "2023-02-12T00:00:00.000000000",
          "2023-02-13T00:00:00.000000000",
          "2023-02-14T00:00:00.000000000",
          "2023-02-15T00:00:00.000000000",
          "2023-02-16T00:00:00.000000000",
          "2023-02-17T00:00:00.000000000",
          "2023-02-18T00:00:00.000000000",
          "2023-02-19T00:00:00.000000000",
          "2023-02-20T00:00:00.000000000",
          "2023-02-21T00:00:00.000000000",
          "2023-02-22T00:00:00.000000000",
          "2023-02-23T00:00:00.000000000",
          "2023-02-24T00:00:00.000000000",
          "2023-02-25T00:00:00.000000000",
          "2023-02-26T00:00:00.000000000",
          "2023-02-27T00:00:00.000000000",
          "2023-02-28T00:00:00.000000000",
          "2023-03-01T00:00:00.000000000",
          "2023-03-02T00:00:00.000000000",
          "2023-03-03T00:00:00.000000000",
          "2023-03-04T00:00:00.000000000",
          "2023-03-05T00:00:00.000000000",
          "2023-03-06T00:00:00.000000000",
          "2023-03-07T00:00:00.000000000",
          "2023-03-08T00:00:00.000000000",
          "2023-03-09T00:00:00.000000000"
         ],
         "xaxis": "x",
         "y": {
          "bdata": "qmkSKAFdFigEiBgoc4waKMG7Gyij1h0o48ogKAd0JCgcoCcoMZMqKIT2KyglSC0oZZ0uKAldMShgHjUoBH44KF6qOijpWzsoPlw8KG9MPih+mUAoRPdDKMfZRihUo0koB3dKKEVSSyj9NEwogjJOKHjvUCglpFMo",
          "dtype": "i4"
         },
         "yaxis": "y"
        },
        {
         "line": {
          "color": "red"
         },
         "name": "Deaths",
         "type": "scatter",
         "x": [
          "2023-02-08T00:00:00.000000000",
          "2023-02-09T00:00:00.000000000",
          "2023-02-10T00:00:00.000000000",
          "2023-02-11T00:00:00.000000000",
          "2023-02-12T00:00:00.000000000",
          "2023-02-13T00:00:00.000000000",
          "2023-02-14T00:00:00.000000000",
          "2023-02-15T00:00:00.000000000",
          "2023-02-16T00:00:00.000000000",
          "2023-02-17T00:00:00.000000000",
          "2023-02-18T00:00:00.000000000",
          "2023-02-19T00:00:00.000000000",
          "2023-02-20T00:00:00.000000000",
          "2023-02-21T00:00:00.000000000",
          "2023-02-22T00:00:00.000000000",
          "2023-02-23T00:00:00.000000000",
          "2023-02-24T00:00:00.000000000",
          "2023-02-25T00:00:00.000000000",
          "2023-02-26T00:00:00.000000000",
          "2023-02-27T00:00:00.000000000",
          "2023-02-28T00:00:00.000000000",
          "2023-03-01T00:00:00.000000000",
          "2023-03-02T00:00:00.000000000",
          "2023-03-03T00:00:00.000000000",
          "2023-03-04T00:00:00.000000000",
          "2023-03-05T00:00:00.000000000",
          "2023-03-06T00:00:00.000000000",
          "2023-03-07T00:00:00.000000000",
          "2023-03-08T00:00:00.000000000",
          "2023-03-09T00:00:00.000000000"
         ],
         "xaxis": "x",
         "y": {
          "bdata": "Zo1oAIiWaAD1mmgAbp1oAOOeaAABomgAq6ZoAJ2saADDtGgAAbxoAHi9aABHv2gAh8FoAKjEaADFy2gAOdNoABbXaADw12gA5NhoAADbaABq3mgAX+VoAH/raACN8GgAofFoADXyaACj82gAPvdoAOP8aAAKAmkA",
          "dtype": "i4"
         },
         "yaxis": "y2"
        },
        {
         "line": {
          "color": "green"
         },
         "name": "Recovered",
         "type": "scatter",
         "x": [
          "2023-02-08T00:00:00.000000000",
          "2023-02-09T00:00:00.000000000",
          "2023-02-10T00:00:00.000000000",
          "2023-02-11T00:00:00.000000000",
          "2023-02-12T00:00:00.000000000",
          "2023-02-13T00:00:00.000000000",
          "2023-02-14T00:00:00.000000000",
          "2023-02-15T00:00:00.000000000",
          "2023-02-16T00:00:00.000000000",
          "2023-02-17T00:00:00.000000000",
          "2023-02-18T00:00:00.000000000",
          "2023-02-19T00:00:00.000000000",
          "2023-02-20T00:00:00.000000000",
          "2023-02-21T00:00:00.000000000",
          "2023-02-22T00:00:00.000000000",
          "2023-02-23T00:00:00.000000000",
          "2023-02-24T00:00:00.000000000",
          "2023-02-25T00:00:00.000000000",
          "2023-02-26T00:00:00.000000000",
          "2023-02-27T00:00:00.000000000",
          "2023-02-28T00:00:00.000000000",
          "2023-03-01T00:00:00.000000000",
          "2023-03-02T00:00:00.000000000",
          "2023-03-03T00:00:00.000000000",
          "2023-03-04T00:00:00.000000000",
          "2023-03-05T00:00:00.000000000",
          "2023-03-06T00:00:00.000000000",
          "2023-03-07T00:00:00.000000000",
          "2023-03-08T00:00:00.000000000",
          "2023-03-09T00:00:00.000000000"
         ],
         "xaxis": "x",
         "y": {
          "bdata": "AAAAAAAAAAAAAAAAAAAAAAAAAAAAAAAAAAAAAAAA",
          "dtype": "i1"
         },
         "yaxis": "y"
        }
       ],
       "layout": {
        "hovermode": "x unified",
        "template": {
         "data": {
          "bar": [
           {
            "error_x": {
             "color": "#2a3f5f"
            },
            "error_y": {
             "color": "#2a3f5f"
            },
            "marker": {
             "line": {
              "color": "#E5ECF6",
              "width": 0.5
             },
             "pattern": {
              "fillmode": "overlay",
              "size": 10,
              "solidity": 0.2
             }
            },
            "type": "bar"
           }
          ],
          "barpolar": [
           {
            "marker": {
             "line": {
              "color": "#E5ECF6",
              "width": 0.5
             },
             "pattern": {
              "fillmode": "overlay",
              "size": 10,
              "solidity": 0.2
             }
            },
            "type": "barpolar"
           }
          ],
          "carpet": [
           {
            "aaxis": {
             "endlinecolor": "#2a3f5f",
             "gridcolor": "white",
             "linecolor": "white",
             "minorgridcolor": "white",
             "startlinecolor": "#2a3f5f"
            },
            "baxis": {
             "endlinecolor": "#2a3f5f",
             "gridcolor": "white",
             "linecolor": "white",
             "minorgridcolor": "white",
             "startlinecolor": "#2a3f5f"
            },
            "type": "carpet"
           }
          ],
          "choropleth": [
           {
            "colorbar": {
             "outlinewidth": 0,
             "ticks": ""
            },
            "type": "choropleth"
           }
          ],
          "contour": [
           {
            "colorbar": {
             "outlinewidth": 0,
             "ticks": ""
            },
            "colorscale": [
             [
              0,
              "#0d0887"
             ],
             [
              0.1111111111111111,
              "#46039f"
             ],
             [
              0.2222222222222222,
              "#7201a8"
             ],
             [
              0.3333333333333333,
              "#9c179e"
             ],
             [
              0.4444444444444444,
              "#bd3786"
             ],
             [
              0.5555555555555556,
              "#d8576b"
             ],
             [
              0.6666666666666666,
              "#ed7953"
             ],
             [
              0.7777777777777778,
              "#fb9f3a"
             ],
             [
              0.8888888888888888,
              "#fdca26"
             ],
             [
              1,
              "#f0f921"
             ]
            ],
            "type": "contour"
           }
          ],
          "contourcarpet": [
           {
            "colorbar": {
             "outlinewidth": 0,
             "ticks": ""
            },
            "type": "contourcarpet"
           }
          ],
          "heatmap": [
           {
            "colorbar": {
             "outlinewidth": 0,
             "ticks": ""
            },
            "colorscale": [
             [
              0,
              "#0d0887"
             ],
             [
              0.1111111111111111,
              "#46039f"
             ],
             [
              0.2222222222222222,
              "#7201a8"
             ],
             [
              0.3333333333333333,
              "#9c179e"
             ],
             [
              0.4444444444444444,
              "#bd3786"
             ],
             [
              0.5555555555555556,
              "#d8576b"
             ],
             [
              0.6666666666666666,
              "#ed7953"
             ],
             [
              0.7777777777777778,
              "#fb9f3a"
             ],
             [
              0.8888888888888888,
              "#fdca26"
             ],
             [
              1,
              "#f0f921"
             ]
            ],
            "type": "heatmap"
           }
          ],
          "histogram": [
           {
            "marker": {
             "pattern": {
              "fillmode": "overlay",
              "size": 10,
              "solidity": 0.2
             }
            },
            "type": "histogram"
           }
          ],
          "histogram2d": [
           {
            "colorbar": {
             "outlinewidth": 0,
             "ticks": ""
            },
            "colorscale": [
             [
              0,
              "#0d0887"
             ],
             [
              0.1111111111111111,
              "#46039f"
             ],
             [
              0.2222222222222222,
              "#7201a8"
             ],
             [
              0.3333333333333333,
              "#9c179e"
             ],
             [
              0.4444444444444444,
              "#bd3786"
             ],
             [
              0.5555555555555556,
              "#d8576b"
             ],
             [
              0.6666666666666666,
              "#ed7953"
             ],
             [
              0.7777777777777778,
              "#fb9f3a"
             ],
             [
              0.8888888888888888,
              "#fdca26"
             ],
             [
              1,
              "#f0f921"
             ]
            ],
            "type": "histogram2d"
           }
          ],
          "histogram2dcontour": [
           {
            "colorbar": {
             "outlinewidth": 0,
             "ticks": ""
            },
            "colorscale": [
             [
              0,
              "#0d0887"
             ],
             [
              0.1111111111111111,
              "#46039f"
             ],
             [
              0.2222222222222222,
              "#7201a8"
             ],
             [
              0.3333333333333333,
              "#9c179e"
             ],
             [
              0.4444444444444444,
              "#bd3786"
             ],
             [
              0.5555555555555556,
              "#d8576b"
             ],
             [
              0.6666666666666666,
              "#ed7953"
             ],
             [
              0.7777777777777778,
              "#fb9f3a"
             ],
             [
              0.8888888888888888,
              "#fdca26"
             ],
             [
              1,
              "#f0f921"
             ]
            ],
            "type": "histogram2dcontour"
           }
          ],
          "mesh3d": [
           {
            "colorbar": {
             "outlinewidth": 0,
             "ticks": ""
            },
            "type": "mesh3d"
           }
          ],
          "parcoords": [
           {
            "line": {
             "colorbar": {
              "outlinewidth": 0,
              "ticks": ""
             }
            },
            "type": "parcoords"
           }
          ],
          "pie": [
           {
            "automargin": true,
            "type": "pie"
           }
          ],
          "scatter": [
           {
            "fillpattern": {
             "fillmode": "overlay",
             "size": 10,
             "solidity": 0.2
            },
            "type": "scatter"
           }
          ],
          "scatter3d": [
           {
            "line": {
             "colorbar": {
              "outlinewidth": 0,
              "ticks": ""
             }
            },
            "marker": {
             "colorbar": {
              "outlinewidth": 0,
              "ticks": ""
             }
            },
            "type": "scatter3d"
           }
          ],
          "scattercarpet": [
           {
            "marker": {
             "colorbar": {
              "outlinewidth": 0,
              "ticks": ""
             }
            },
            "type": "scattercarpet"
           }
          ],
          "scattergeo": [
           {
            "marker": {
             "colorbar": {
              "outlinewidth": 0,
              "ticks": ""
             }
            },
            "type": "scattergeo"
           }
          ],
          "scattergl": [
           {
            "marker": {
             "colorbar": {
              "outlinewidth": 0,
              "ticks": ""
             }
            },
            "type": "scattergl"
           }
          ],
          "scattermap": [
           {
            "marker": {
             "colorbar": {
              "outlinewidth": 0,
              "ticks": ""
             }
            },
            "type": "scattermap"
           }
          ],
          "scattermapbox": [
           {
            "marker": {
             "colorbar": {
              "outlinewidth": 0,
              "ticks": ""
             }
            },
            "type": "scattermapbox"
           }
          ],
          "scatterpolar": [
           {
            "marker": {
             "colorbar": {
              "outlinewidth": 0,
              "ticks": ""
             }
            },
            "type": "scatterpolar"
           }
          ],
          "scatterpolargl": [
           {
            "marker": {
             "colorbar": {
              "outlinewidth": 0,
              "ticks": ""
             }
            },
            "type": "scatterpolargl"
           }
          ],
          "scatterternary": [
           {
            "marker": {
             "colorbar": {
              "outlinewidth": 0,
              "ticks": ""
             }
            },
            "type": "scatterternary"
           }
          ],
          "surface": [
           {
            "colorbar": {
             "outlinewidth": 0,
             "ticks": ""
            },
            "colorscale": [
             [
              0,
              "#0d0887"
             ],
             [
              0.1111111111111111,
              "#46039f"
             ],
             [
              0.2222222222222222,
              "#7201a8"
             ],
             [
              0.3333333333333333,
              "#9c179e"
             ],
             [
              0.4444444444444444,
              "#bd3786"
             ],
             [
              0.5555555555555556,
              "#d8576b"
             ],
             [
              0.6666666666666666,
              "#ed7953"
             ],
             [
              0.7777777777777778,
              "#fb9f3a"
             ],
             [
              0.8888888888888888,
              "#fdca26"
             ],
             [
              1,
              "#f0f921"
             ]
            ],
            "type": "surface"
           }
          ],
          "table": [
           {
            "cells": {
             "fill": {
              "color": "#EBF0F8"
             },
             "line": {
              "color": "white"
             }
            },
            "header": {
             "fill": {
              "color": "#C8D4E3"
             },
             "line": {
              "color": "white"
             }
            },
            "type": "table"
           }
          ]
         },
         "layout": {
          "annotationdefaults": {
           "arrowcolor": "#2a3f5f",
           "arrowhead": 0,
           "arrowwidth": 1
          },
          "autotypenumbers": "strict",
          "coloraxis": {
           "colorbar": {
            "outlinewidth": 0,
            "ticks": ""
           }
          },
          "colorscale": {
           "diverging": [
            [
             0,
             "#8e0152"
            ],
            [
             0.1,
             "#c51b7d"
            ],
            [
             0.2,
             "#de77ae"
            ],
            [
             0.3,
             "#f1b6da"
            ],
            [
             0.4,
             "#fde0ef"
            ],
            [
             0.5,
             "#f7f7f7"
            ],
            [
             0.6,
             "#e6f5d0"
            ],
            [
             0.7,
             "#b8e186"
            ],
            [
             0.8,
             "#7fbc41"
            ],
            [
             0.9,
             "#4d9221"
            ],
            [
             1,
             "#276419"
            ]
           ],
           "sequential": [
            [
             0,
             "#0d0887"
            ],
            [
             0.1111111111111111,
             "#46039f"
            ],
            [
             0.2222222222222222,
             "#7201a8"
            ],
            [
             0.3333333333333333,
             "#9c179e"
            ],
            [
             0.4444444444444444,
             "#bd3786"
            ],
            [
             0.5555555555555556,
             "#d8576b"
            ],
            [
             0.6666666666666666,
             "#ed7953"
            ],
            [
             0.7777777777777778,
             "#fb9f3a"
            ],
            [
             0.8888888888888888,
             "#fdca26"
            ],
            [
             1,
             "#f0f921"
            ]
           ],
           "sequentialminus": [
            [
             0,
             "#0d0887"
            ],
            [
             0.1111111111111111,
             "#46039f"
            ],
            [
             0.2222222222222222,
             "#7201a8"
            ],
            [
             0.3333333333333333,
             "#9c179e"
            ],
            [
             0.4444444444444444,
             "#bd3786"
            ],
            [
             0.5555555555555556,
             "#d8576b"
            ],
            [
             0.6666666666666666,
             "#ed7953"
            ],
            [
             0.7777777777777778,
             "#fb9f3a"
            ],
            [
             0.8888888888888888,
             "#fdca26"
            ],
            [
             1,
             "#f0f921"
            ]
           ]
          },
          "colorway": [
           "#636efa",
           "#EF553B",
           "#00cc96",
           "#ab63fa",
           "#FFA15A",
           "#19d3f3",
           "#FF6692",
           "#B6E880",
           "#FF97FF",
           "#FECB52"
          ],
          "font": {
           "color": "#2a3f5f"
          },
          "geo": {
           "bgcolor": "white",
           "lakecolor": "white",
           "landcolor": "#E5ECF6",
           "showlakes": true,
           "showland": true,
           "subunitcolor": "white"
          },
          "hoverlabel": {
           "align": "left"
          },
          "hovermode": "closest",
          "mapbox": {
           "style": "light"
          },
          "paper_bgcolor": "white",
          "plot_bgcolor": "#E5ECF6",
          "polar": {
           "angularaxis": {
            "gridcolor": "white",
            "linecolor": "white",
            "ticks": ""
           },
           "bgcolor": "#E5ECF6",
           "radialaxis": {
            "gridcolor": "white",
            "linecolor": "white",
            "ticks": ""
           }
          },
          "scene": {
           "xaxis": {
            "backgroundcolor": "#E5ECF6",
            "gridcolor": "white",
            "gridwidth": 2,
            "linecolor": "white",
            "showbackground": true,
            "ticks": "",
            "zerolinecolor": "white"
           },
           "yaxis": {
            "backgroundcolor": "#E5ECF6",
            "gridcolor": "white",
            "gridwidth": 2,
            "linecolor": "white",
            "showbackground": true,
            "ticks": "",
            "zerolinecolor": "white"
           },
           "zaxis": {
            "backgroundcolor": "#E5ECF6",
            "gridcolor": "white",
            "gridwidth": 2,
            "linecolor": "white",
            "showbackground": true,
            "ticks": "",
            "zerolinecolor": "white"
           }
          },
          "shapedefaults": {
           "line": {
            "color": "#2a3f5f"
           }
          },
          "ternary": {
           "aaxis": {
            "gridcolor": "white",
            "linecolor": "white",
            "ticks": ""
           },
           "baxis": {
            "gridcolor": "white",
            "linecolor": "white",
            "ticks": ""
           },
           "bgcolor": "#E5ECF6",
           "caxis": {
            "gridcolor": "white",
            "linecolor": "white",
            "ticks": ""
           }
          },
          "title": {
           "x": 0.05
          },
          "xaxis": {
           "automargin": true,
           "gridcolor": "white",
           "linecolor": "white",
           "ticks": "",
           "title": {
            "standoff": 15
           },
           "zerolinecolor": "white",
           "zerolinewidth": 2
          },
          "yaxis": {
           "automargin": true,
           "gridcolor": "white",
           "linecolor": "white",
           "ticks": "",
           "title": {
            "standoff": 15
           },
           "zerolinecolor": "white",
           "zerolinewidth": 2
          }
         }
        },
        "title": {
         "text": "Global COVID-19 Trends (Last 30 Days)"
        },
        "xaxis": {
         "anchor": "y",
         "domain": [
          0,
          0.94
         ]
        },
        "yaxis": {
         "anchor": "x",
         "domain": [
          0,
          1
         ],
         "title": {
          "text": "Cases/Recovered"
         }
        },
        "yaxis2": {
         "anchor": "x",
         "overlaying": "y",
         "side": "right",
         "title": {
          "text": "Deaths"
         }
        }
       }
      }
     },
     "metadata": {},
     "output_type": "display_data"
    },
    {
     "name": "stdout",
     "output_type": "stream",
     "text": [
      "[{'updated': 1751205289399, 'country': 'Afghanistan', 'countryInfo': {'_id': 4, 'iso2': 'AF', 'iso3': 'AFG', 'lat': 33, 'long': 65, 'flag': 'https://disease.sh/assets/img/flags/af.png'}, 'cases': 234174, 'todayCases': 0, 'deaths': 7996, 'todayDeaths': 0, 'recovered': 211080, 'todayRecovered': 0, 'active': 15098, 'critical': 0, 'casesPerOneMillion': 5746, 'deathsPerOneMillion': 196, 'tests': 1390730, 'testsPerOneMillion': 34125, 'population': 40754388, 'continent': 'Asia', 'oneCasePerPeople': 174, 'oneDeathPerPeople': 5097, 'oneTestPerPeople': 29, 'activePerOneMillion': 370.46, 'recoveredPerOneMillion': 5179.32, 'criticalPerOneMillion': 0}, {'updated': 1751205289384, 'country': 'Albania', 'countryInfo': {'_id': 8, 'iso2': 'AL', 'iso3': 'ALB', 'lat': 41, 'long': 20, 'flag': 'https://disease.sh/assets/img/flags/al.png'}, 'cases': 334863, 'todayCases': 0, 'deaths': 3605, 'todayDeaths': 0, 'recovered': 330233, 'todayRecovered': 0, 'active': 1025, 'critical': 0, 'casesPerOneMillion': 116825, 'deathsPerOneMillion': 1258, 'tests': 1941032, 'testsPerOneMillion': 677173, 'population': 2866374, 'continent': 'Europe', 'oneCasePerPeople': 9, 'oneDeathPerPeople': 795, 'oneTestPerPeople': 1, 'activePerOneMillion': 357.59, 'recoveredPerOneMillion': 115209.32, 'criticalPerOneMillion': 0}, {'updated': 1751205289391, 'country': 'Algeria', 'countryInfo': {'_id': 12, 'iso2': 'DZ', 'iso3': 'DZA', 'lat': 28, 'long': 3, 'flag': 'https://disease.sh/assets/img/flags/dz.png'}, 'cases': 272010, 'todayCases': 0, 'deaths': 6881, 'todayDeaths': 0, 'recovered': 183061, 'todayRecovered': 0, 'active': 82068, 'critical': 0, 'casesPerOneMillion': 5998, 'deathsPerOneMillion': 152, 'tests': 230960, 'testsPerOneMillion': 5093, 'population': 45350148, 'continent': 'Africa', 'oneCasePerPeople': 167, 'oneDeathPerPeople': 6591, 'oneTestPerPeople': 196, 'activePerOneMillion': 1809.65, 'recoveredPerOneMillion': 4036.61, 'criticalPerOneMillion': 0}, {'updated': 1751205289471, 'country': 'Andorra', 'countryInfo': {'_id': 20, 'iso2': 'AD', 'iso3': 'AND', 'lat': 42.5, 'long': 1.6, 'flag': 'https://disease.sh/assets/img/flags/ad.png'}, 'cases': 48015, 'todayCases': 0, 'deaths': 165, 'todayDeaths': 0, 'recovered': 0, 'todayRecovered': 0, 'active': 47850, 'critical': 0, 'casesPerOneMillion': 619844, 'deathsPerOneMillion': 2130, 'tests': 249838, 'testsPerOneMillion': 3225256, 'population': 77463, 'continent': 'Europe', 'oneCasePerPeople': 2, 'oneDeathPerPeople': 469, 'oneTestPerPeople': 0, 'activePerOneMillion': 617714.26, 'recoveredPerOneMillion': 0, 'criticalPerOneMillion': 0}, {'updated': 1751205289433, 'country': 'Angola', 'countryInfo': {'_id': 24, 'iso2': 'AO', 'iso3': 'AGO', 'lat': -12.5, 'long': 18.5, 'flag': 'https://disease.sh/assets/img/flags/ao.png'}, 'cases': 107327, 'todayCases': 0, 'deaths': 1937, 'todayDeaths': 0, 'recovered': 103419, 'todayRecovered': 0, 'active': 1971, 'critical': 0, 'casesPerOneMillion': 3064, 'deathsPerOneMillion': 55, 'tests': 1499795, 'testsPerOneMillion': 42818, 'population': 35027343, 'continent': 'Africa', 'oneCasePerPeople': 326, 'oneDeathPerPeople': 18083, 'oneTestPerPeople': 23, 'activePerOneMillion': 56.27, 'recoveredPerOneMillion': 2952.52, 'criticalPerOneMillion': 0}, {'updated': 1751205289551, 'country': 'Anguilla', 'countryInfo': {'_id': 660, 'iso2': 'AI', 'iso3': 'AIA', 'lat': 18.25, 'long': -63.1667, 'flag': 'https://disease.sh/assets/img/flags/ai.png'}, 'cases': 3904, 'todayCases': 0, 'deaths': 12, 'todayDeaths': 0, 'recovered': 0, 'todayRecovered': 0, 'active': 3892, 'critical': 0, 'casesPerOneMillion': 256336, 'deathsPerOneMillion': 788, 'tests': 51382, 'testsPerOneMillion': 3373736, 'population': 15230, 'continent': 'North America', 'oneCasePerPeople': 4, 'oneDeathPerPeople': 1269, 'oneTestPerPeople': 0, 'activePerOneMillion': 255548.26, 'recoveredPerOneMillion': 0, 'criticalPerOneMillion': 0}, {'updated': 1751205289537, 'country': 'Antigua and Barbuda', 'countryInfo': {'_id': 28, 'iso2': 'AG', 'iso3': 'ATG', 'lat': 17.05, 'long': -61.8, 'flag': 'https://disease.sh/assets/img/flags/ag.png'}, 'cases': 9106, 'todayCases': 0, 'deaths': 146, 'todayDeaths': 0, 'recovered': 8954, 'todayRecovered': 0, 'active': 6, 'critical': 0, 'casesPerOneMillion': 91509, 'deathsPerOneMillion': 1467, 'tests': 18901, 'testsPerOneMillion': 189943, 'population': 99509, 'continent': 'North America', 'oneCasePerPeople': 11, 'oneDeathPerPeople': 682, 'oneTestPerPeople': 5, 'activePerOneMillion': 60.3, 'recoveredPerOneMillion': 89981.81, 'criticalPerOneMillion': 0}, {'updated': 1751205289231, 'country': 'Argentina', 'countryInfo': {'_id': 32, 'iso2': 'AR', 'iso3': 'ARG', 'lat': -34, 'long': -64, 'flag': 'https://disease.sh/assets/img/flags/ar.png'}, 'cases': 10128845, 'todayCases': 0, 'deaths': 130841, 'todayDeaths': 0, 'recovered': 9997258, 'todayRecovered': 0, 'active': 746, 'critical': 0, 'casesPerOneMillion': 220143, 'deathsPerOneMillion': 2844, 'tests': 35716069, 'testsPerOneMillion': 776264, 'population': 46010234, 'continent': 'South America', 'oneCasePerPeople': 5, 'oneDeathPerPeople': 352, 'oneTestPerPeople': 1, 'activePerOneMillion': 16.21, 'recoveredPerOneMillion': 217283.35, 'criticalPerOneMillion': 0}, {'updated': 1751205289368, 'country': 'Armenia', 'countryInfo': {'_id': 51, 'iso2': 'AM', 'iso3': 'ARM', 'lat': 40, 'long': 45, 'flag': 'https://disease.sh/assets/img/flags/am.png'}, 'cases': 451831, 'todayCases': 0, 'deaths': 8777, 'todayDeaths': 0, 'recovered': 435162, 'todayRecovered': 0, 'active': 7892, 'critical': 0, 'casesPerOneMillion': 152031, 'deathsPerOneMillion': 2953, 'tests': 3242901, 'testsPerOneMillion': 1091164, 'population': 2971966, 'continent': 'Asia', 'oneCasePerPeople': 7, 'oneDeathPerPeople': 339, 'oneTestPerPeople': 1, 'activePerOneMillion': 2655.48, 'recoveredPerOneMillion': 146422.27, 'criticalPerOneMillion': 0}, {'updated': 1751205289476, 'country': 'Aruba', 'countryInfo': {'_id': 533, 'iso2': 'AW', 'iso3': 'ABW', 'lat': 12.5, 'long': -69.9667, 'flag': 'https://disease.sh/assets/img/flags/aw.png'}, 'cases': 44224, 'todayCases': 0, 'deaths': 292, 'todayDeaths': 0, 'recovered': 42438, 'todayRecovered': 0, 'active': 1494, 'critical': 2, 'casesPerOneMillion': 410969, 'deathsPerOneMillion': 2714, 'tests': 177885, 'testsPerOneMillion': 1653068, 'population': 107609, 'continent': 'North America', 'oneCasePerPeople': 2, 'oneDeathPerPeople': 369, 'oneTestPerPeople': 1, 'activePerOneMillion': 13883.6, 'recoveredPerOneMillion': 394372.22, 'criticalPerOneMillion': 18.59}, {'updated': 1751205289227, 'country': 'Australia', 'countryInfo': {'_id': 36, 'iso2': 'AU', 'iso3': 'AUS', 'lat': -27, 'long': 133, 'flag': 'https://disease.sh/assets/img/flags/au.png'}, 'cases': 11853144, 'todayCases': 0, 'deaths': 24414, 'todayDeaths': 0, 'recovered': 11820014, 'todayRecovered': 0, 'active': 8716, 'critical': 3, 'casesPerOneMillion': 454687, 'deathsPerOneMillion': 937, 'tests': 81916639, 'testsPerOneMillion': 3142326, 'population': 26068792, 'continent': 'Australia-Oceania', 'oneCasePerPeople': 2, 'oneDeathPerPeople': 1068, 'oneTestPerPeople': 0, 'activePerOneMillion': 334.35, 'recoveredPerOneMillion': 453416.25, 'criticalPerOneMillion': 0.12}, {'updated': 1751205289248, 'country': 'Austria', 'countryInfo': {'_id': 40, 'iso2': 'AT', 'iso3': 'AUT', 'lat': 47.3333, 'long': 13.3333, 'flag': 'https://disease.sh/assets/img/flags/at.png'}, 'cases': 6081287, 'todayCases': 0, 'deaths': 22542, 'todayDeaths': 0, 'recovered': 6054934, 'todayRecovered': 0, 'active': 3811, 'critical': 0, 'casesPerOneMillion': 670727, 'deathsPerOneMillion': 2486, 'tests': 211273524, 'testsPerOneMillion': 23302116, 'population': 9066710, 'continent': 'Europe', 'oneCasePerPeople': 1, 'oneDeathPerPeople': 402, 'oneTestPerPeople': 0, 'activePerOneMillion': 420.33, 'recoveredPerOneMillion': 667820.41, 'criticalPerOneMillion': 0}, {'updated': 1751205289344, 'country': 'Azerbaijan', 'countryInfo': {'_id': 31, 'iso2': 'AZ', 'iso3': 'AZE', 'lat': 40.5, 'long': 47.5, 'flag': 'https://disease.sh/assets/img/flags/az.png'}, 'cases': 835234, 'todayCases': 0, 'deaths': 10400, 'todayDeaths': 0, 'recovered': 824089, 'todayRecovered': 0, 'active': 745, 'critical': 0, 'casesPerOneMillion': 81089, 'deathsPerOneMillion': 1010, 'tests': 7748050, 'testsPerOneMillion': 752223, 'population': 10300205, 'continent': 'Asia', 'oneCasePerPeople': 12, 'oneDeathPerPeople': 990, 'oneTestPerPeople': 1, 'activePerOneMillion': 72.33, 'recoveredPerOneMillion': 80007.05, 'criticalPerOneMillion': 0}, {'updated': 1751205289485, 'country': 'Bahamas', 'countryInfo': {'_id': 44, 'iso2': 'BS', 'iso3': 'BHS', 'lat': 24.25, 'long': -76, 'flag': 'https://disease.sh/assets/img/flags/bs.png'}, 'cases': 38084, 'todayCases': 0, 'deaths': 844, 'todayDeaths': 0, 'recovered': 36366, 'todayRecovered': 0, 'active': 874, 'critical': 1, 'casesPerOneMillion': 95087, 'deathsPerOneMillion': 2107, 'tests': 257839, 'testsPerOneMillion': 643767, 'population': 400516, 'continent': 'North America', 'oneCasePerPeople': 11, 'oneDeathPerPeople': 475, 'oneTestPerPeople': 2, 'activePerOneMillion': 2182.18, 'recoveredPerOneMillion': 90797.87, 'criticalPerOneMillion': 2.5}, {'updated': 1751205289346, 'country': 'Bahrain', 'countryInfo': {'_id': 48, 'iso2': 'BH', 'iso3': 'BHR', 'lat': 26, 'long': 50.55, 'flag': 'https://disease.sh/assets/img/flags/bh.png'}, 'cases': 729549, 'todayCases': 0, 'deaths': 1574, 'todayDeaths': 0, 'recovered': 727915, 'todayRecovered': 0, 'active': 60, 'critical': 0, 'casesPerOneMillion': 408944, 'deathsPerOneMillion': 882, 'tests': 10948549, 'testsPerOneMillion': 6137138, 'population': 1783983, 'continent': 'Asia', 'oneCasePerPeople': 2, 'oneDeathPerPeople': 1133, 'oneTestPerPeople': 0, 'activePerOneMillion': 33.63, 'recoveredPerOneMillion': 408027.99, 'criticalPerOneMillion': 0}, {'updated': 1751205289308, 'country': 'Bangladesh', 'countryInfo': {'_id': 50, 'iso2': 'BD', 'iso3': 'BGD', 'lat': 24, 'long': 90, 'flag': 'https://disease.sh/assets/img/flags/bd.png'}, 'cases': 2049377, 'todayCases': 0, 'deaths': 29493, 'todayDeaths': 0, 'recovered': 0, 'todayRecovered': 0, 'active': 2019884, 'critical': 0, 'casesPerOneMillion': 12207, 'deathsPerOneMillion': 176, 'tests': 15254399, 'testsPerOneMillion': 90862, 'population': 167885689, 'continent': 'Asia', 'oneCasePerPeople': 82, 'oneDeathPerPeople': 5692, 'oneTestPerPeople': 11, 'activePerOneMillion': 12031.31, 'recoveredPerOneMillion': 0, 'criticalPerOneMillion': 0}, {'updated': 1751205289431, 'country': 'Barbados', 'countryInfo': {'_id': 52, 'iso2': 'BB', 'iso3': 'BRB', 'lat': 13.1667, 'long': -59.5333, 'flag': 'https://disease.sh/assets/img/flags/bb.png'}, 'cases': 110578, 'todayCases': 0, 'deaths': 648, 'todayDeaths': 0, 'recovered': 108647, 'todayRecovered': 0, 'active': 1283, 'critical': 0, 'casesPerOneMillion': 383921, 'deathsPerOneMillion': 2250, 'tests': 814159, 'testsPerOneMillion': 2826715, 'population': 288023, 'continent': 'North America', 'oneCasePerPeople': 3, 'oneDeathPerPeople': 444, 'oneTestPerPeople': 0, 'activePerOneMillion': 4454.51, 'recoveredPerOneMillion': 377216.4, 'criticalPerOneMillion': 0}, {'updated': 1751205289339, 'country': 'Belarus', 'countryInfo': {'_id': 112, 'iso2': 'BY', 'iso3': 'BLR', 'lat': 53, 'long': 28, 'flag': 'https://disease.sh/assets/img/flags/by.png'}, 'cases': 994037, 'todayCases': 0, 'deaths': 7118, 'todayDeaths': 0, 'recovered': 985592, 'todayRecovered': 0, 'active': 1327, 'critical': 0, 'casesPerOneMillion': 105381, 'deathsPerOneMillion': 755, 'tests': 13646641, 'testsPerOneMillion': 1446722, 'population': 9432800, 'continent': 'Europe', 'oneCasePerPeople': 9, 'oneDeathPerPeople': 1325, 'oneTestPerPeople': 1, 'activePerOneMillion': 140.68, 'recoveredPerOneMillion': 104485.62, 'criticalPerOneMillion': 0}, {'updated': 1751205289262, 'country': 'Belgium', 'countryInfo': {'_id': 56, 'iso2': 'BE', 'iso3': 'BEL', 'lat': 50.8333, 'long': 4, 'flag': 'https://disease.sh/assets/img/flags/be.png'}, 'cases': 4861695, 'todayCases': 0, 'deaths': 34376, 'todayDeaths': 0, 'recovered': 4826798, 'todayRecovered': 50, 'active': 521, 'critical': 0, 'casesPerOneMillion': 416659, 'deathsPerOneMillion': 2946, 'tests': 37454182, 'testsPerOneMillion': 3209915, 'population': 11668278, 'continent': 'Europe', 'oneCasePerPeople': 2, 'oneDeathPerPeople': 339, 'oneTestPerPeople': 0, 'activePerOneMillion': 44.65, 'recoveredPerOneMillion': 413668.41, 'criticalPerOneMillion': 0}, {'updated': 1751205289452, 'country': 'Belize', 'countryInfo': {'_id': 84, 'iso2': 'BZ', 'iso3': 'BLZ', 'lat': 17.25, 'long': -88.75, 'flag': 'https://disease.sh/assets/img/flags/bz.png'}, 'cases': 71409, 'todayCases': 0, 'deaths': 688, 'todayDeaths': 0, 'recovered': 0, 'todayRecovered': 0, 'active': 70721, 'critical': 0, 'casesPerOneMillion': 173243, 'deathsPerOneMillion': 1669, 'tests': 576016, 'testsPerOneMillion': 1397453, 'population': 412190, 'continent': 'North America', 'oneCasePerPeople': 6, 'oneDeathPerPeople': 599, 'oneTestPerPeople': 1, 'activePerOneMillion': 171573.79, 'recoveredPerOneMillion': 0, 'criticalPerOneMillion': 0}, {'updated': 1751205289496, 'country': 'Benin', 'countryInfo': {'_id': 204, 'iso2': 'BJ', 'iso3': 'BEN', 'lat': 9.5, 'long': 2.25, 'flag': 'https://disease.sh/assets/img/flags/bj.png'}, 'cases': 28036, 'todayCases': 0, 'deaths': 163, 'todayDeaths': 0, 'recovered': 27847, 'todayRecovered': 0, 'active': 26, 'critical': 0, 'casesPerOneMillion': 2193, 'deathsPerOneMillion': 13, 'tests': 604310, 'testsPerOneMillion': 47268, 'population': 12784726, 'continent': 'Africa', 'oneCasePerPeople': 456, 'oneDeathPerPeople': 78434, 'oneTestPerPeople': 21, 'activePerOneMillion': 2.03, 'recoveredPerOneMillion': 2178.15, 'criticalPerOneMillion': 0}, {'updated': 1751205289509, 'country': 'Bermuda', 'countryInfo': {'_id': 60, 'iso2': 'BM', 'iso3': 'BMU', 'lat': 32.3333, 'long': -64.75, 'flag': 'https://disease.sh/assets/img/flags/bm.png'}, 'cases': 18860, 'todayCases': 0, 'deaths': 165, 'todayDeaths': 0, 'recovered': 18685, 'todayRecovered': 0, 'active': 10, 'critical': 0, 'casesPerOneMillion': 304493, 'deathsPerOneMillion': 2664, 'tests': 1029558, 'testsPerOneMillion': 16622128, 'population': 61939, 'continent': 'North America', 'oneCasePerPeople': 3, 'oneDeathPerPeople': 375, 'oneTestPerPeople': 0, 'activePerOneMillion': 161.45, 'recoveredPerOneMillion': 301667.77, 'criticalPerOneMillion': 0}, {'updated': 1751205289462, 'country': 'Bhutan', 'countryInfo': {'_id': 64, 'iso2': 'BT', 'iso3': 'BTN', 'lat': 27.5, 'long': 90.5, 'flag': 'https://disease.sh/assets/img/flags/bt.png'}, 'cases': 62697, 'todayCases': 0, 'deaths': 21, 'todayDeaths': 0, 'recovered': 61564, 'todayRecovered': 0, 'active': 1112, 'critical': 0, 'casesPerOneMillion': 79571, 'deathsPerOneMillion': 27, 'tests': 2303734, 'testsPerOneMillion': 2923739, 'population': 787941, 'continent': 'Asia', 'oneCasePerPeople': 13, 'oneDeathPerPeople': 37521, 'oneTestPerPeople': 0, 'activePerOneMillion': 1411.27, 'recoveredPerOneMillion': 78132.75, 'criticalPerOneMillion': 0}, {'updated': 1751205289329, 'country': 'Bolivia', 'countryInfo': {'_id': 68, 'iso2': 'BO', 'iso3': 'BOL', 'lat': -17, 'long': -65, 'flag': 'https://disease.sh/assets/img/flags/bo.png'}, 'cases': 1212131, 'todayCases': 0, 'deaths': 22407, 'todayDeaths': 0, 'recovered': 1177145, 'todayRecovered': 0, 'active': 12579, 'critical': 220, 'casesPerOneMillion': 101073, 'deathsPerOneMillion': 1868, 'tests': 2710261, 'testsPerOneMillion': 225993, 'population': 11992656, 'continent': 'South America', 'oneCasePerPeople': 10, 'oneDeathPerPeople': 535, 'oneTestPerPeople': 4, 'activePerOneMillion': 1048.89, 'recoveredPerOneMillion': 98155.49, 'criticalPerOneMillion': 18.34}, {'updated': 1751205289370, 'country': 'Bosnia', 'countryInfo': {'_id': 70, 'iso2': 'BA', 'iso3': 'BIH', 'lat': 44, 'long': 18, 'flag': 'https://disease.sh/assets/img/flags/ba.png'}, 'cases': 403615, 'todayCases': 0, 'deaths': 16388, 'todayDeaths': 0, 'recovered': 379084, 'todayRecovered': 0, 'active': 8143, 'critical': 0, 'casesPerOneMillion': 124215, 'deathsPerOneMillion': 5044, 'tests': 1884721, 'testsPerOneMillion': 580036, 'population': 3249317, 'continent': 'Europe', 'oneCasePerPeople': 8, 'oneDeathPerPeople': 198, 'oneTestPerPeople': 2, 'activePerOneMillion': 2506.07, 'recoveredPerOneMillion': 116665.75, 'criticalPerOneMillion': 0}, {'updated': 1751205289386, 'country': 'Botswana', 'countryInfo': {'_id': 72, 'iso2': 'BW', 'iso3': 'BWA', 'lat': -22, 'long': 24, 'flag': 'https://disease.sh/assets/img/flags/bw.png'}, 'cases': 330638, 'todayCases': 0, 'deaths': 2801, 'todayDeaths': 0, 'recovered': 327049, 'todayRecovered': 0, 'active': 788, 'critical': 1, 'casesPerOneMillion': 135443, 'deathsPerOneMillion': 1147, 'tests': 2026898, 'testsPerOneMillion': 830300, 'population': 2441162, 'continent': 'Africa', 'oneCasePerPeople': 7, 'oneDeathPerPeople': 872, 'oneTestPerPeople': 1, 'activePerOneMillion': 322.8, 'recoveredPerOneMillion': 133972.67, 'criticalPerOneMillion': 0.41}, {'updated': 1751205289210, 'country': 'Brazil', 'countryInfo': {'_id': 76, 'iso2': 'BR', 'iso3': 'BRA', 'lat': -10, 'long': -55, 'flag': 'https://disease.sh/assets/img/flags/br.png'}, 'cases': 38743918, 'todayCases': 0, 'deaths': 711380, 'todayDeaths': 0, 'recovered': 36249161, 'todayRecovered': 0, 'active': 1783377, 'critical': 0, 'casesPerOneMillion': 179908, 'deathsPerOneMillion': 3303, 'tests': 63776166, 'testsPerOneMillion': 296146, 'population': 215353593, 'continent': 'South America', 'oneCasePerPeople': 6, 'oneDeathPerPeople': 303, 'oneTestPerPeople': 3, 'activePerOneMillion': 8281.16, 'recoveredPerOneMillion': 168323.92, 'criticalPerOneMillion': 0}, {'updated': 1751205289541, 'country': 'British Virgin Islands', 'countryInfo': {'_id': 92, 'iso2': 'VG', 'iso3': 'VGB', 'lat': 18.5, 'long': -64.5, 'flag': 'https://disease.sh/assets/img/flags/vg.png'}, 'cases': 7392, 'todayCases': 0, 'deaths': 64, 'todayDeaths': 0, 'recovered': 0, 'todayRecovered': 0, 'active': 7328, 'critical': 0, 'casesPerOneMillion': 241600, 'deathsPerOneMillion': 2092, 'tests': 107339, 'testsPerOneMillion': 3508269, 'population': 30596, 'continent': 'North America', 'oneCasePerPeople': 4, 'oneDeathPerPeople': 478, 'oneTestPerPeople': 0, 'activePerOneMillion': 239508.43, 'recoveredPerOneMillion': 0, 'criticalPerOneMillion': 0}, {'updated': 1751205289382, 'country': 'Brunei', 'countryInfo': {'_id': 96, 'iso2': 'BN', 'iso3': 'BRN', 'lat': 4.5, 'long': 114.6667, 'flag': 'https://disease.sh/assets/img/flags/bn.png'}, 'cases': 343719, 'todayCases': 0, 'deaths': 225, 'todayDeaths': 0, 'recovered': 243601, 'todayRecovered': 0, 'active': 99893, 'critical': 3, 'casesPerOneMillion': 771655, 'deathsPerOneMillion': 505, 'tests': 717784, 'testsPerOneMillion': 1611437, 'population': 445431, 'continent': 'Asia', 'oneCasePerPeople': 1, 'oneDeathPerPeople': 1980, 'oneTestPerPeople': 1, 'activePerOneMillion': 224261.45, 'recoveredPerOneMillion': 546888.29, 'criticalPerOneMillion': 6.74}, {'updated': 1751205289319, 'country': 'Bulgaria', 'countryInfo': {'_id': 100, 'iso2': 'BG', 'iso3': 'BGR', 'lat': 43, 'long': 25, 'flag': 'https://disease.sh/assets/img/flags/bg.png'}, 'cases': 1339851, 'todayCases': 0, 'deaths': 38748, 'todayDeaths': 0, 'recovered': 1292944, 'todayRecovered': 0, 'active': 8159, 'critical': 22, 'casesPerOneMillion': 195753, 'deathsPerOneMillion': 5661, 'tests': 11671043, 'testsPerOneMillion': 1705147, 'population': 6844597, 'continent': 'Europe', 'oneCasePerPeople': 5, 'oneDeathPerPeople': 177, 'oneTestPerPeople': 1, 'activePerOneMillion': 1192.04, 'recoveredPerOneMillion': 188899.95, 'criticalPerOneMillion': 3.21}, {'updated': 1751205289504, 'country': 'Burkina Faso', 'countryInfo': {'_id': 854, 'iso2': 'BF', 'iso3': 'BFA', 'lat': 13, 'long': -2, 'flag': 'https://disease.sh/assets/img/flags/bf.png'}, 'cases': 22114, 'todayCases': 0, 'deaths': 400, 'todayDeaths': 0, 'recovered': 21596, 'todayRecovered': 0, 'active': 118, 'critical': 0, 'casesPerOneMillion': 1001, 'deathsPerOneMillion': 18, 'tests': 248995, 'testsPerOneMillion': 11265, 'population': 22102838, 'continent': 'Africa', 'oneCasePerPeople': 999, 'oneDeathPerPeople': 55257, 'oneTestPerPeople': 89, 'activePerOneMillion': 5.34, 'recoveredPerOneMillion': 977.07, 'criticalPerOneMillion': 0}, {'updated': 1751205289466, 'country': 'Burundi', 'countryInfo': {'_id': 108, 'iso2': 'BI', 'iso3': 'BDI', 'lat': -3.5, 'long': 30, 'flag': 'https://disease.sh/assets/img/flags/bi.png'}, 'cases': 54721, 'todayCases': 0, 'deaths': 38, 'todayDeaths': 0, 'recovered': 53569, 'todayRecovered': 0, 'active': 1114, 'critical': 0, 'casesPerOneMillion': 4334, 'deathsPerOneMillion': 3, 'tests': 345742, 'testsPerOneMillion': 27386, 'population': 12624840, 'continent': 'Africa', 'oneCasePerPeople': 231, 'oneDeathPerPeople': 332233, 'oneTestPerPeople': 37, 'activePerOneMillion': 88.24, 'recoveredPerOneMillion': 4243.14, 'criticalPerOneMillion': 0}, {'updated': 1751205289457, 'country': 'Cabo Verde', 'countryInfo': {'_id': 132, 'iso2': 'CV', 'iso3': 'CPV', 'lat': 16, 'long': -24, 'flag': 'https://disease.sh/assets/img/flags/cv.png'}, 'cases': 64477, 'todayCases': 0, 'deaths': 417, 'todayDeaths': 0, 'recovered': 63755, 'todayRecovered': 0, 'active': 305, 'critical': 23, 'casesPerOneMillion': 113580, 'deathsPerOneMillion': 735, 'tests': 401622, 'testsPerOneMillion': 707482, 'population': 567678, 'continent': 'Africa', 'oneCasePerPeople': 9, 'oneDeathPerPeople': 1361, 'oneTestPerPeople': 1, 'activePerOneMillion': 537.28, 'recoveredPerOneMillion': 112308.39, 'criticalPerOneMillion': 40.52}, {'updated': 1751205289425, 'country': 'Cambodia', 'countryInfo': {'_id': 116, 'iso2': 'KH', 'iso3': 'KHM', 'lat': 13, 'long': 105, 'flag': 'https://disease.sh/assets/img/flags/kh.png'}, 'cases': 139103, 'todayCases': 0, 'deaths': 3056, 'todayDeaths': 0, 'recovered': 136044, 'todayRecovered': 0, 'active': 3, 'critical': 0, 'casesPerOneMillion': 8102, 'deathsPerOneMillion': 178, 'tests': 3091420, 'testsPerOneMillion': 180062, 'population': 17168639, 'continent': 'Asia', 'oneCasePerPeople': 123, 'oneDeathPerPeople': 5618, 'oneTestPerPeople': 6, 'activePerOneMillion': 0.17, 'recoveredPerOneMillion': 7923.98, 'criticalPerOneMillion': 0}, {'updated': 1751205289428, 'country': 'Cameroon', 'countryInfo': {'_id': 120, 'iso2': 'CM', 'iso3': 'CMR', 'lat': 6, 'long': 12, 'flag': 'https://disease.sh/assets/img/flags/cm.png'}, 'cases': 125379, 'todayCases': 0, 'deaths': 1974, 'todayDeaths': 0, 'recovered': 123280, 'todayRecovered': 0, 'active': 125, 'critical': 0, 'casesPerOneMillion': 4492, 'deathsPerOneMillion': 71, 'tests': 1751774, 'testsPerOneMillion': 62762, 'population': 27911548, 'continent': 'Africa', 'oneCasePerPeople': 223, 'oneDeathPerPeople': 14140, 'oneTestPerPeople': 16, 'activePerOneMillion': 4.48, 'recoveredPerOneMillion': 4416.81, 'criticalPerOneMillion': 0}, {'updated': 1751205289260, 'country': 'Canada', 'countryInfo': {'_id': 124, 'iso2': 'CA', 'iso3': 'CAN', 'lat': 60, 'long': -95, 'flag': 'https://disease.sh/assets/img/flags/ca.png'}, 'cases': 4946090, 'todayCases': 0, 'deaths': 59034, 'todayDeaths': 0, 'recovered': 4881312, 'todayRecovered': 350, 'active': 5744, 'critical': 99, 'casesPerOneMillion': 128843, 'deathsPerOneMillion': 1538, 'tests': 66572774, 'testsPerOneMillion': 1734189, 'population': 38388419, 'continent': 'North America', 'oneCasePerPeople': 8, 'oneDeathPerPeople': 650, 'oneTestPerPeople': 1, 'activePerOneMillion': 149.63, 'recoveredPerOneMillion': 127155.85, 'criticalPerOneMillion': 2.58}, {'updated': 1751205289529, 'country': 'Caribbean Netherlands', 'countryInfo': {'_id': 535, 'iso2': 'BQ', 'iso3': 'BES', 'lat': 12.2, 'long': -68.26, 'flag': 'https://disease.sh/assets/img/flags/bq.png'}, 'cases': 11682, 'todayCases': 0, 'deaths': 38, 'todayDeaths': 0, 'recovered': 10476, 'todayRecovered': 0, 'active': 1168, 'critical': 0, 'casesPerOneMillion': 438398, 'deathsPerOneMillion': 1426, 'tests': 30126, 'testsPerOneMillion': 1130559, 'population': 26647, 'continent': 'North America', 'oneCasePerPeople': 2, 'oneDeathPerPeople': 701, 'oneTestPerPeople': 1, 'activePerOneMillion': 43832.33, 'recoveredPerOneMillion': 393139.94, 'criticalPerOneMillion': 0}, {'updated': 1751205289494, 'country': 'Cayman Islands', 'countryInfo': {'_id': 136, 'iso2': 'KY', 'iso3': 'CYM', 'lat': 19.5, 'long': -80.5, 'flag': 'https://disease.sh/assets/img/flags/ky.png'}, 'cases': 31472, 'todayCases': 0, 'deaths': 37, 'todayDeaths': 0, 'recovered': 8553, 'todayRecovered': 0, 'active': 22882, 'critical': 1, 'casesPerOneMillion': 467797, 'deathsPerOneMillion': 550, 'tests': 222773, 'testsPerOneMillion': 3311280, 'population': 67277, 'continent': 'North America', 'oneCasePerPeople': 2, 'oneDeathPerPeople': 1818, 'oneTestPerPeople': 0, 'activePerOneMillion': 340116.24, 'recoveredPerOneMillion': 127131.11, 'criticalPerOneMillion': 14.86}, {'updated': 1751205289522, 'country': 'Central African Republic', 'countryInfo': {'_id': 140, 'iso2': 'CF', 'iso3': 'CAF', 'lat': 7, 'long': 21, 'flag': 'https://disease.sh/assets/img/flags/cf.png'}, 'cases': 15440, 'todayCases': 0, 'deaths': 113, 'todayDeaths': 0, 'recovered': 15200, 'todayRecovered': 0, 'active': 127, 'critical': 2, 'casesPerOneMillion': 3078, 'deathsPerOneMillion': 23, 'tests': 81294, 'testsPerOneMillion': 16205, 'population': 5016678, 'continent': 'Africa', 'oneCasePerPeople': 325, 'oneDeathPerPeople': 44395, 'oneTestPerPeople': 62, 'activePerOneMillion': 25.32, 'recoveredPerOneMillion': 3029.89, 'criticalPerOneMillion': 0.4}, {'updated': 1751205289541, 'country': 'Chad', 'countryInfo': {'_id': 148, 'iso2': 'TD', 'iso3': 'TCD', 'lat': 15, 'long': 19, 'flag': 'https://disease.sh/assets/img/flags/td.png'}, 'cases': 7701, 'todayCases': 0, 'deaths': 194, 'todayDeaths': 0, 'recovered': 4874, 'todayRecovered': 0, 'active': 2633, 'critical': 0, 'casesPerOneMillion': 442, 'deathsPerOneMillion': 11, 'tests': 191341, 'testsPerOneMillion': 10988, 'population': 17413580, 'continent': 'Africa', 'oneCasePerPeople': 2261, 'oneDeathPerPeople': 89761, 'oneTestPerPeople': 91, 'activePerOneMillion': 151.2, 'recoveredPerOneMillion': 279.9, 'criticalPerOneMillion': 0}, {'updated': 1751205289435, 'country': 'Channel Islands', 'countryInfo': {'_id': 832, 'iso2': 'JE', 'iso3': 'JEY', 'lat': 49.21, 'long': -2.13, 'flag': 'https://disease.sh/assets/img/flags/je.png'}, 'cases': 101717, 'todayCases': 0, 'deaths': 228, 'todayDeaths': 0, 'recovered': 101321, 'todayRecovered': 0, 'active': 168, 'critical': 0, 'casesPerOneMillion': 576421, 'deathsPerOneMillion': 1292, 'tests': 1252808, 'testsPerOneMillion': 7099551, 'population': 176463, 'continent': 'Europe', 'oneCasePerPeople': 2, 'oneDeathPerPeople': 774, 'oneTestPerPeople': 0, 'activePerOneMillion': 952.04, 'recoveredPerOneMillion': 574177.02, 'criticalPerOneMillion': 0}, {'updated': 1751205289256, 'country': 'Chile', 'countryInfo': {'_id': 152, 'iso2': 'CL', 'iso3': 'CHL', 'lat': -30, 'long': -71, 'flag': 'https://disease.sh/assets/img/flags/cl.png'}, 'cases': 5384853, 'todayCases': 0, 'deaths': 64497, 'todayDeaths': 0, 'recovered': 5252450, 'todayRecovered': 0, 'active': 67906, 'critical': 7, 'casesPerOneMillion': 279730, 'deathsPerOneMillion': 3350, 'tests': 50382097, 'testsPerOneMillion': 2617225, 'population': 19250195, 'continent': 'South America', 'oneCasePerPeople': 4, 'oneDeathPerPeople': 298, 'oneTestPerPeople': 0, 'activePerOneMillion': 3527.55, 'recoveredPerOneMillion': 272851.78, 'criticalPerOneMillion': 0.36}, {'updated': 1751205289567, 'country': 'China', 'countryInfo': {'_id': 156, 'iso2': 'CN', 'iso3': 'CHN', 'lat': 35, 'long': 105, 'flag': 'https://disease.sh/assets/img/flags/cn.png'}, 'cases': 503302, 'todayCases': 0, 'deaths': 5272, 'todayDeaths': 0, 'recovered': 379053, 'todayRecovered': 0, 'active': 118977, 'critical': 0, 'casesPerOneMillion': 347, 'deathsPerOneMillion': 4, 'tests': 160000000, 'testsPerOneMillion': 110461, 'population': 1448471400, 'continent': 'Asia', 'oneCasePerPeople': 2878, 'oneDeathPerPeople': 274748, 'oneTestPerPeople': 9, 'activePerOneMillion': 82.14, 'recoveredPerOneMillion': 261.69, 'criticalPerOneMillion': 0}, {'updated': 1751205289243, 'country': 'Colombia', 'countryInfo': {'_id': 170, 'iso2': 'CO', 'iso3': 'COL', 'lat': 4, 'long': -72, 'flag': 'https://disease.sh/assets/img/flags/co.png'}, 'cases': 6400173, 'todayCases': 0, 'deaths': 143200, 'todayDeaths': 0, 'recovered': 6212152, 'todayRecovered': 0, 'active': 44821, 'critical': 342, 'casesPerOneMillion': 124244, 'deathsPerOneMillion': 2780, 'tests': 36951507, 'testsPerOneMillion': 717327, 'population': 51512762, 'continent': 'South America', 'oneCasePerPeople': 8, 'oneDeathPerPeople': 360, 'oneTestPerPeople': 1, 'activePerOneMillion': 870.1, 'recoveredPerOneMillion': 120594.43, 'criticalPerOneMillion': 6.64}, {'updated': 1751205289536, 'country': 'Comoros', 'countryInfo': {'_id': 174, 'iso2': 'KM', 'iso3': 'COM', 'lat': -12.1667, 'long': 44.25, 'flag': 'https://disease.sh/assets/img/flags/km.png'}, 'cases': 9109, 'todayCases': 0, 'deaths': 161, 'todayDeaths': 0, 'recovered': 8939, 'todayRecovered': 0, 'active': 9, 'critical': 0, 'casesPerOneMillion': 10038, 'deathsPerOneMillion': 177, 'tests': 0, 'testsPerOneMillion': 0, 'population': 907419, 'continent': 'Africa', 'oneCasePerPeople': 100, 'oneDeathPerPeople': 5636, 'oneTestPerPeople': 0, 'activePerOneMillion': 9.92, 'recoveredPerOneMillion': 9851.02, 'criticalPerOneMillion': 0}, {'updated': 1751205289502, 'country': 'Congo', 'countryInfo': {'_id': 178, 'iso2': 'CG', 'iso3': 'COG', 'lat': -1, 'long': 15, 'flag': 'https://disease.sh/assets/img/flags/cg.png'}, 'cases': 25375, 'todayCases': 0, 'deaths': 386, 'todayDeaths': 0, 'recovered': 24006, 'todayRecovered': 0, 'active': 983, 'critical': 0, 'casesPerOneMillion': 4377, 'deathsPerOneMillion': 67, 'tests': 347815, 'testsPerOneMillion': 59991, 'population': 5797805, 'continent': 'Africa', 'oneCasePerPeople': 228, 'oneDeathPerPeople': 15020, 'oneTestPerPeople': 17, 'activePerOneMillion': 169.55, 'recoveredPerOneMillion': 4140.53, 'criticalPerOneMillion': 0}, {'updated': 1751205289543, 'country': 'Cook Islands', 'countryInfo': {'_id': 184, 'iso2': 'CK', 'iso3': 'COK', 'lat': -21.2333, 'long': -159.7667, 'flag': 'https://disease.sh/assets/img/flags/ck.png'}, 'cases': 7203, 'todayCases': 0, 'deaths': 2, 'todayDeaths': 0, 'recovered': 7150, 'todayRecovered': 0, 'active': 51, 'critical': 0, 'casesPerOneMillion': 409937, 'deathsPerOneMillion': 114, 'tests': 19690, 'testsPerOneMillion': 1120596, 'population': 17571, 'continent': 'Australia-Oceania', 'oneCasePerPeople': 2, 'oneDeathPerPeople': 8786, 'oneTestPerPeople': 1, 'activePerOneMillion': 2902.51, 'recoveredPerOneMillion': 406920.49, 'criticalPerOneMillion': 0}, {'updated': 1751205289327, 'country': 'Costa Rica', 'countryInfo': {'_id': 188, 'iso2': 'CR', 'iso3': 'CRI', 'lat': 10, 'long': -84, 'flag': 'https://disease.sh/assets/img/flags/cr.png'}, 'cases': 1238883, 'todayCases': 0, 'deaths': 9428, 'todayDeaths': 0, 'recovered': 0, 'todayRecovered': 0, 'active': 1229455, 'critical': 0, 'casesPerOneMillion': 239058, 'deathsPerOneMillion': 1819, 'tests': 4659757, 'testsPerOneMillion': 899158, 'population': 5182354, 'continent': 'North America', 'oneCasePerPeople': 4, 'oneDeathPerPeople': 550, 'oneTestPerPeople': 1, 'activePerOneMillion': 237238.71, 'recoveredPerOneMillion': 0, 'criticalPerOneMillion': 0}, {'updated': 1751205289320, 'country': 'Croatia', 'countryInfo': {'_id': 191, 'iso2': 'HR', 'iso3': 'HRV', 'lat': 45.1667, 'long': 15.5, 'flag': 'https://disease.sh/assets/img/flags/hr.png'}, 'cases': 1309728, 'todayCases': 0, 'deaths': 18687, 'todayDeaths': 0, 'recovered': 1258432, 'todayRecovered': 0, 'active': 32609, 'critical': 0, 'casesPerOneMillion': 322650, 'deathsPerOneMillion': 4604, 'tests': 5660084, 'testsPerOneMillion': 1394355, 'population': 4059286, 'continent': 'Europe', 'oneCasePerPeople': 3, 'oneDeathPerPeople': 217, 'oneTestPerPeople': 1, 'activePerOneMillion': 8033.19, 'recoveredPerOneMillion': 310013.14, 'criticalPerOneMillion': 0}, {'updated': 1751205289331, 'country': 'Cuba', 'countryInfo': {'_id': 192, 'iso2': 'CU', 'iso3': 'CUB', 'lat': 21.5, 'long': -80, 'flag': 'https://disease.sh/assets/img/flags/cu.png'}, 'cases': 1115251, 'todayCases': 0, 'deaths': 8530, 'todayDeaths': 0, 'recovered': 1106660, 'todayRecovered': 0, 'active': 61, 'critical': 0, 'casesPerOneMillion': 98645, 'deathsPerOneMillion': 754, 'tests': 14402674, 'testsPerOneMillion': 1273936, 'population': 11305652, 'continent': 'North America', 'oneCasePerPeople': 10, 'oneDeathPerPeople': 1325, 'oneTestPerPeople': 1, 'activePerOneMillion': 5.4, 'recoveredPerOneMillion': 97885.55, 'criticalPerOneMillion': 0}, {'updated': 1751205289475, 'country': 'Curaçao', 'countryInfo': {'_id': 531, 'iso2': 'CW', 'iso3': 'CUW', 'lat': 12.15, 'long': -68.97, 'flag': 'https://disease.sh/assets/img/flags/cw.png'}, 'cases': 45986, 'todayCases': 0, 'deaths': 295, 'todayDeaths': 0, 'recovered': 44720, 'todayRecovered': 0, 'active': 971, 'critical': 3, 'casesPerOneMillion': 277812, 'deathsPerOneMillion': 1782, 'tests': 496693, 'testsPerOneMillion': 3000640, 'population': 165529, 'continent': 'North America', 'oneCasePerPeople': 4, 'oneDeathPerPeople': 561, 'oneTestPerPeople': 0, 'activePerOneMillion': 5866.04, 'recoveredPerOneMillion': 270164.14, 'criticalPerOneMillion': 18.12}, {'updated': 1751205289347, 'country': 'Cyprus', 'countryInfo': {'_id': 196, 'iso2': 'CY', 'iso3': 'CYP', 'lat': 35, 'long': 33, 'flag': 'https://disease.sh/assets/img/flags/cy.png'}, 'cases': 681110, 'todayCases': 0, 'deaths': 1365, 'todayDeaths': 0, 'recovered': 679745, 'todayRecovered': 0, 'active': 0, 'critical': 0, 'casesPerOneMillion': 556741, 'deathsPerOneMillion': 1116, 'tests': 9640118, 'testsPerOneMillion': 7879860, 'population': 1223387, 'continent': 'Asia', 'oneCasePerPeople': 2, 'oneDeathPerPeople': 896, 'oneTestPerPeople': 0, 'activePerOneMillion': 0, 'recoveredPerOneMillion': 555625.49, 'criticalPerOneMillion': 0}, {'updated': 1751205289275, 'country': 'Czechia', 'countryInfo': {'_id': 203, 'iso2': 'CZ', 'iso3': 'CZE', 'lat': 49.75, 'long': 15.5, 'flag': 'https://disease.sh/assets/img/flags/cz.png'}, 'cases': 4759041, 'todayCases': 0, 'deaths': 43517, 'todayDeaths': 0, 'recovered': 4715206, 'todayRecovered': 0, 'active': 318, 'critical': 2, 'casesPerOneMillion': 443246, 'deathsPerOneMillion': 4053, 'tests': 57834241, 'testsPerOneMillion': 5386552, 'population': 10736784, 'continent': 'Europe', 'oneCasePerPeople': 2, 'oneDeathPerPeople': 247, 'oneTestPerPeople': 0, 'activePerOneMillion': 29.62, 'recoveredPerOneMillion': 439163.72, 'criticalPerOneMillion': 0.19}, {'updated': 1751205289442, 'country': \"Côte d'Ivoire\", 'countryInfo': {'_id': 384, 'iso2': 'CI', 'iso3': 'CIV', 'lat': 8, 'long': -5, 'flag': 'https://disease.sh/assets/img/flags/ci.png'}, 'cases': 88384, 'todayCases': 0, 'deaths': 835, 'todayDeaths': 0, 'recovered': 87497, 'todayRecovered': 0, 'active': 52, 'critical': 0, 'casesPerOneMillion': 3186, 'deathsPerOneMillion': 30, 'tests': 1690934, 'testsPerOneMillion': 60951, 'population': 27742298, 'continent': 'Africa', 'oneCasePerPeople': 314, 'oneDeathPerPeople': 33224, 'oneTestPerPeople': 16, 'activePerOneMillion': 1.87, 'recoveredPerOneMillion': 3153.92, 'criticalPerOneMillion': 0}, {'updated': 1751205289436, 'country': 'DRC', 'countryInfo': {'_id': 180, 'iso2': 'CD', 'iso3': 'COD', 'lat': 0, 'long': 25, 'flag': 'https://disease.sh/assets/img/flags/cd.png'}, 'cases': 99338, 'todayCases': 0, 'deaths': 1468, 'todayDeaths': 0, 'recovered': 84489, 'todayRecovered': 0, 'active': 13381, 'critical': 0, 'casesPerOneMillion': 1043, 'deathsPerOneMillion': 15, 'tests': 846704, 'testsPerOneMillion': 8890, 'population': 95240792, 'continent': 'Africa', 'oneCasePerPeople': 959, 'oneDeathPerPeople': 64878, 'oneTestPerPeople': 112, 'activePerOneMillion': 140.5, 'recoveredPerOneMillion': 887.11, 'criticalPerOneMillion': 0}, {'updated': 1751205289289, 'country': 'Denmark', 'countryInfo': {'_id': 208, 'iso2': 'DK', 'iso3': 'DNK', 'lat': 56, 'long': 10, 'flag': 'https://disease.sh/assets/img/flags/dk.png'}, 'cases': 3183756, 'todayCases': 0, 'deaths': 8814, 'todayDeaths': 0, 'recovered': 3174942, 'todayRecovered': 0, 'active': 0, 'critical': 0, 'casesPerOneMillion': 545636, 'deathsPerOneMillion': 1511, 'tests': 129333107, 'testsPerOneMillion': 22165247, 'population': 5834950, 'continent': 'Europe', 'oneCasePerPeople': 2, 'oneDeathPerPeople': 662, 'oneTestPerPeople': 0, 'activePerOneMillion': 0, 'recoveredPerOneMillion': 544124.97, 'criticalPerOneMillion': 0}, {'updated': 1751205289561, 'country': 'Diamond Princess', 'countryInfo': {'_id': None, 'iso2': None, 'iso3': None, 'lat': 0, 'long': 0, 'flag': 'https://disease.sh/assets/img/flags/unknown.png'}, 'cases': 712, 'todayCases': 0, 'deaths': 13, 'todayDeaths': 0, 'recovered': 699, 'todayRecovered': 0, 'active': 0, 'critical': 0, 'casesPerOneMillion': 0, 'deathsPerOneMillion': 0, 'tests': 0, 'testsPerOneMillion': 0, 'population': 0, 'continent': '', 'oneCasePerPeople': 0, 'oneDeathPerPeople': 0, 'oneTestPerPeople': 0, 'activePerOneMillion': 0, 'recoveredPerOneMillion': 0, 'criticalPerOneMillion': 0}, {'updated': 1751205289521, 'country': 'Djibouti', 'countryInfo': {'_id': 262, 'iso2': 'DJ', 'iso3': 'DJI', 'lat': 11.5, 'long': 43, 'flag': 'https://disease.sh/assets/img/flags/dj.png'}, 'cases': 15690, 'todayCases': 0, 'deaths': 189, 'todayDeaths': 0, 'recovered': 15427, 'todayRecovered': 0, 'active': 74, 'critical': 0, 'casesPerOneMillion': 15441, 'deathsPerOneMillion': 186, 'tests': 305941, 'testsPerOneMillion': 301094, 'population': 1016097, 'continent': 'Africa', 'oneCasePerPeople': 65, 'oneDeathPerPeople': 5376, 'oneTestPerPeople': 3, 'activePerOneMillion': 72.83, 'recoveredPerOneMillion': 15182.61, 'criticalPerOneMillion': 0}, {'updated': 1751205289519, 'country': 'Dominica', 'countryInfo': {'_id': 212, 'iso2': 'DM', 'iso3': 'DMA', 'lat': 15.4167, 'long': -61.3333, 'flag': 'https://disease.sh/assets/img/flags/dm.png'}, 'cases': 16038, 'todayCases': 0, 'deaths': 74, 'todayDeaths': 0, 'recovered': 15964, 'todayRecovered': 0, 'active': 0, 'critical': 0, 'casesPerOneMillion': 221691, 'deathsPerOneMillion': 1023, 'tests': 229344, 'testsPerOneMillion': 3170187, 'population': 72344, 'continent': 'North America', 'oneCasePerPeople': 5, 'oneDeathPerPeople': 978, 'oneTestPerPeople': 0, 'activePerOneMillion': 0, 'recoveredPerOneMillion': 220667.92, 'criticalPerOneMillion': 0}, {'updated': 1751205289348, 'country': 'Dominican Republic', 'countryInfo': {'_id': 214, 'iso2': 'DO', 'iso3': 'DOM', 'lat': 19, 'long': -70.6667, 'flag': 'https://disease.sh/assets/img/flags/do.png'}, 'cases': 675890, 'todayCases': 0, 'deaths': 4384, 'todayDeaths': 0, 'recovered': 671316, 'todayRecovered': 0, 'active': 190, 'critical': 4, 'casesPerOneMillion': 61131, 'deathsPerOneMillion': 397, 'tests': 3740928, 'testsPerOneMillion': 338350, 'population': 11056370, 'continent': 'North America', 'oneCasePerPeople': 16, 'oneDeathPerPeople': 2522, 'oneTestPerPeople': 3, 'activePerOneMillion': 17.18, 'recoveredPerOneMillion': 60717.58, 'criticalPerOneMillion': 0.36}, {'updated': 1751205289332, 'country': 'Ecuador', 'countryInfo': {'_id': 218, 'iso2': 'EC', 'iso3': 'ECU', 'lat': -2, 'long': -77.5, 'flag': 'https://disease.sh/assets/img/flags/ec.png'}, 'cases': 1070188, 'todayCases': 0, 'deaths': 36043, 'todayDeaths': 0, 'recovered': 1034145, 'todayRecovered': 0, 'active': 0, 'critical': 0, 'casesPerOneMillion': 59083, 'deathsPerOneMillion': 1990, 'tests': 3082403, 'testsPerOneMillion': 170173, 'population': 18113361, 'continent': 'South America', 'oneCasePerPeople': 17, 'oneDeathPerPeople': 503, 'oneTestPerPeople': 6, 'activePerOneMillion': 0, 'recoveredPerOneMillion': 57092.94, 'criticalPerOneMillion': 0}, {'updated': 1751205289358, 'country': 'Egypt', 'countryInfo': {'_id': 818, 'iso2': 'EG', 'iso3': 'EGY', 'lat': 27, 'long': 30, 'flag': 'https://disease.sh/assets/img/flags/eg.png'}, 'cases': 516023, 'todayCases': 0, 'deaths': 24613, 'todayDeaths': 0, 'recovered': 442182, 'todayRecovered': 0, 'active': 49228, 'critical': 122, 'casesPerOneMillion': 4861, 'deathsPerOneMillion': 232, 'tests': 3693367, 'testsPerOneMillion': 34792, 'population': 106156692, 'continent': 'Africa', 'oneCasePerPeople': 206, 'oneDeathPerPeople': 4313, 'oneTestPerPeople': 29, 'activePerOneMillion': 463.73, 'recoveredPerOneMillion': 4165.37, 'criticalPerOneMillion': 1.15}, {'updated': 1751205289412, 'country': 'El Salvador', 'countryInfo': {'_id': 222, 'iso2': 'SV', 'iso3': 'SLV', 'lat': 13.8333, 'long': -88.9167, 'flag': 'https://disease.sh/assets/img/flags/sv.png'}, 'cases': 201855, 'todayCases': 0, 'deaths': 4230, 'todayDeaths': 0, 'recovered': 179410, 'todayRecovered': 0, 'active': 18215, 'critical': 0, 'casesPerOneMillion': 30816, 'deathsPerOneMillion': 646, 'tests': 2610114, 'testsPerOneMillion': 398467, 'population': 6550389, 'continent': 'North America', 'oneCasePerPeople': 32, 'oneDeathPerPeople': 1549, 'oneTestPerPeople': 3, 'activePerOneMillion': 2780.75, 'recoveredPerOneMillion': 27389.21, 'criticalPerOneMillion': 0}, {'updated': 1751205289513, 'country': 'Equatorial Guinea', 'countryInfo': {'_id': 226, 'iso2': 'GQ', 'iso3': 'GNQ', 'lat': 2, 'long': 10, 'flag': 'https://disease.sh/assets/img/flags/gq.png'}, 'cases': 17229, 'todayCases': 0, 'deaths': 183, 'todayDeaths': 0, 'recovered': 16907, 'todayRecovered': 0, 'active': 139, 'critical': 5, 'casesPerOneMillion': 11512, 'deathsPerOneMillion': 122, 'tests': 365697, 'testsPerOneMillion': 244342, 'population': 1496662, 'continent': 'Africa', 'oneCasePerPeople': 87, 'oneDeathPerPeople': 8178, 'oneTestPerPeople': 4, 'activePerOneMillion': 92.87, 'recoveredPerOneMillion': 11296.47, 'criticalPerOneMillion': 3.34}, {'updated': 1751205289531, 'country': 'Eritrea', 'countryInfo': {'_id': 232, 'iso2': 'ER', 'iso3': 'ERI', 'lat': 15, 'long': 39, 'flag': 'https://disease.sh/assets/img/flags/er.png'}, 'cases': 10189, 'todayCases': 0, 'deaths': 103, 'todayDeaths': 0, 'recovered': 10086, 'todayRecovered': 0, 'active': 0, 'critical': 0, 'casesPerOneMillion': 2782, 'deathsPerOneMillion': 28, 'tests': 23693, 'testsPerOneMillion': 6470, 'population': 3662244, 'continent': 'Africa', 'oneCasePerPeople': 359, 'oneDeathPerPeople': 35556, 'oneTestPerPeople': 155, 'activePerOneMillion': 0, 'recoveredPerOneMillion': 2754.05, 'criticalPerOneMillion': 0}, {'updated': 1751205289355, 'country': 'Estonia', 'countryInfo': {'_id': 233, 'iso2': 'EE', 'iso3': 'EST', 'lat': 59, 'long': 26, 'flag': 'https://disease.sh/assets/img/flags/ee.png'}, 'cases': 628070, 'todayCases': 0, 'deaths': 3001, 'todayDeaths': 0, 'recovered': 0, 'todayRecovered': 0, 'active': 625069, 'critical': 0, 'casesPerOneMillion': 475123, 'deathsPerOneMillion': 2270, 'tests': 6968103, 'testsPerOneMillion': 5271239, 'population': 1321910, 'continent': 'Europe', 'oneCasePerPeople': 2, 'oneDeathPerPeople': 440, 'oneTestPerPeople': 0, 'activePerOneMillion': 472852.92, 'recoveredPerOneMillion': 0, 'criticalPerOneMillion': 0}, {'updated': 1751205289362, 'country': 'Ethiopia', 'countryInfo': {'_id': 231, 'iso2': 'ET', 'iso3': 'ETH', 'lat': 8, 'long': 38, 'flag': 'https://disease.sh/assets/img/flags/et.png'}, 'cases': 501157, 'todayCases': 0, 'deaths': 7574, 'todayDeaths': 0, 'recovered': 488171, 'todayRecovered': 0, 'active': 5412, 'critical': 0, 'casesPerOneMillion': 4148, 'deathsPerOneMillion': 63, 'tests': 5565340, 'testsPerOneMillion': 46066, 'population': 120812698, 'continent': 'Africa', 'oneCasePerPeople': 241, 'oneDeathPerPeople': 15951, 'oneTestPerPeople': 22, 'activePerOneMillion': 44.8, 'recoveredPerOneMillion': 4040.73, 'criticalPerOneMillion': 0}, {'updated': 1751205289558, 'country': 'Falkland Islands (Malvinas)', 'countryInfo': {'_id': 238, 'iso2': 'FK', 'iso3': 'FLK', 'lat': -51.75, 'long': -59, 'flag': 'https://disease.sh/assets/img/flags/fk.png'}, 'cases': 1930, 'todayCases': 0, 'deaths': 0, 'todayDeaths': 0, 'recovered': 1930, 'todayRecovered': 0, 'active': 0, 'critical': 0, 'casesPerOneMillion': 545352, 'deathsPerOneMillion': 0, 'tests': 8632, 'testsPerOneMillion': 2439107, 'population': 3539, 'continent': 'South America', 'oneCasePerPeople': 2, 'oneDeathPerPeople': 0, 'oneTestPerPeople': 0, 'activePerOneMillion': 0, 'recoveredPerOneMillion': 545351.79, 'criticalPerOneMillion': 0}, {'updated': 1751205289492, 'country': 'Faroe Islands', 'countryInfo': {'_id': 234, 'iso2': 'FO', 'iso3': 'FRO', 'lat': 62, 'long': -7, 'flag': 'https://disease.sh/assets/img/flags/fo.png'}, 'cases': 34658, 'todayCases': 0, 'deaths': 28, 'todayDeaths': 0, 'recovered': 0, 'todayRecovered': 0, 'active': 34630, 'critical': 0, 'casesPerOneMillion': 703959, 'deathsPerOneMillion': 569, 'tests': 778000, 'testsPerOneMillion': 15802409, 'population': 49233, 'continent': 'Europe', 'oneCasePerPeople': 1, 'oneDeathPerPeople': 1758, 'oneTestPerPeople': 0, 'activePerOneMillion': 703390, 'recoveredPerOneMillion': 0, 'criticalPerOneMillion': 0}, {'updated': 1751205289454, 'country': 'Fiji', 'countryInfo': {'_id': 242, 'iso2': 'FJ', 'iso3': 'FJI', 'lat': -18, 'long': 175, 'flag': 'https://disease.sh/assets/img/flags/fj.png'}, 'cases': 69117, 'todayCases': 0, 'deaths': 885, 'todayDeaths': 0, 'recovered': 67226, 'todayRecovered': 0, 'active': 1006, 'critical': 0, 'casesPerOneMillion': 75997, 'deathsPerOneMillion': 973, 'tests': 672883, 'testsPerOneMillion': 739866, 'population': 909466, 'continent': 'Australia-Oceania', 'oneCasePerPeople': 13, 'oneDeathPerPeople': 1028, 'oneTestPerPeople': 1, 'activePerOneMillion': 1106.14, 'recoveredPerOneMillion': 73918.1, 'criticalPerOneMillion': 0}, {'updated': 1751205289314, 'country': 'Finland', 'countryInfo': {'_id': 246, 'iso2': 'FI', 'iso3': 'FIN', 'lat': 64, 'long': 26, 'flag': 'https://disease.sh/assets/img/flags/fi.png'}, 'cases': 1516117, 'todayCases': 0, 'deaths': 11958, 'todayDeaths': 0, 'recovered': 1503989, 'todayRecovered': 14, 'active': 170, 'critical': 0, 'casesPerOneMillion': 272930, 'deathsPerOneMillion': 2153, 'tests': 12108977, 'testsPerOneMillion': 2179850, 'population': 5554960, 'continent': 'Europe', 'oneCasePerPeople': 4, 'oneDeathPerPeople': 465, 'oneTestPerPeople': 0, 'activePerOneMillion': 30.6, 'recoveredPerOneMillion': 270747.04, 'criticalPerOneMillion': 0}, {'updated': 1751205289204, 'country': 'France', 'countryInfo': {'_id': 250, 'iso2': 'FR', 'iso3': 'FRA', 'lat': 46, 'long': 2, 'flag': 'https://disease.sh/assets/img/flags/fr.png'}, 'cases': 40138560, 'todayCases': 0, 'deaths': 167642, 'todayDeaths': 0, 'recovered': 39970918, 'todayRecovered': 0, 'active': 0, 'critical': 0, 'casesPerOneMillion': 612013, 'deathsPerOneMillion': 2556, 'tests': 271490188, 'testsPerOneMillion': 4139547, 'population': 65584518, 'continent': 'Europe', 'oneCasePerPeople': 2, 'oneDeathPerPeople': 391, 'oneTestPerPeople': 0, 'activePerOneMillion': 0, 'recoveredPerOneMillion': 609456.61, 'criticalPerOneMillion': 0}, {'updated': 1751205289437, 'country': 'French Guiana', 'countryInfo': {'_id': 254, 'iso2': 'GF', 'iso3': 'GUF', 'lat': 4, 'long': -53, 'flag': 'https://disease.sh/assets/img/flags/gf.png'}, 'cases': 98041, 'todayCases': 0, 'deaths': 420, 'todayDeaths': 0, 'recovered': 11254, 'todayRecovered': 0, 'active': 86367, 'critical': 6, 'casesPerOneMillion': 312065, 'deathsPerOneMillion': 1337, 'tests': 651257, 'testsPerOneMillion': 2072951, 'population': 314169, 'continent': 'South America', 'oneCasePerPeople': 3, 'oneDeathPerPeople': 748, 'oneTestPerPeople': 0, 'activePerOneMillion': 274906.18, 'recoveredPerOneMillion': 35821.48, 'criticalPerOneMillion': 19.1}, {'updated': 1751205289447, 'country': 'French Polynesia', 'countryInfo': {'_id': 258, 'iso2': 'PF', 'iso3': 'PYF', 'lat': -15, 'long': -140, 'flag': 'https://disease.sh/assets/img/flags/pf.png'}, 'cases': 79254, 'todayCases': 0, 'deaths': 650, 'todayDeaths': 0, 'recovered': 0, 'todayRecovered': 0, 'active': 78604, 'critical': 0, 'casesPerOneMillion': 278902, 'deathsPerOneMillion': 2287, 'tests': 0, 'testsPerOneMillion': 0, 'population': 284164, 'continent': 'Australia-Oceania', 'oneCasePerPeople': 4, 'oneDeathPerPeople': 437, 'oneTestPerPeople': 0, 'activePerOneMillion': 276614.91, 'recoveredPerOneMillion': 0, 'criticalPerOneMillion': 0}, {'updated': 1751205289470, 'country': 'Gabon', 'countryInfo': {'_id': 266, 'iso2': 'GA', 'iso3': 'GAB', 'lat': -1, 'long': 11.75, 'flag': 'https://disease.sh/assets/img/flags/ga.png'}, 'cases': 49051, 'todayCases': 0, 'deaths': 307, 'todayDeaths': 0, 'recovered': 48674, 'todayRecovered': 0, 'active': 70, 'critical': 0, 'casesPerOneMillion': 21038, 'deathsPerOneMillion': 132, 'tests': 1621909, 'testsPerOneMillion': 695641, 'population': 2331533, 'continent': 'Africa', 'oneCasePerPeople': 48, 'oneDeathPerPeople': 7595, 'oneTestPerPeople': 1, 'activePerOneMillion': 30.02, 'recoveredPerOneMillion': 20876.39, 'criticalPerOneMillion': 0}, {'updated': 1751205289523, 'country': 'Gambia', 'countryInfo': {'_id': 270, 'iso2': 'GM', 'iso3': 'GMB', 'lat': 13.4667, 'long': -16.5667, 'flag': 'https://disease.sh/assets/img/flags/gm.png'}, 'cases': 12626, 'todayCases': 0, 'deaths': 372, 'todayDeaths': 0, 'recovered': 12189, 'todayRecovered': 0, 'active': 65, 'critical': 0, 'casesPerOneMillion': 4935, 'deathsPerOneMillion': 145, 'tests': 155686, 'testsPerOneMillion': 60851, 'population': 2558482, 'continent': 'Africa', 'oneCasePerPeople': 203, 'oneDeathPerPeople': 6878, 'oneTestPerPeople': 16, 'activePerOneMillion': 25.41, 'recoveredPerOneMillion': 4764.15, 'criticalPerOneMillion': 0}, {'updated': 1751205289310, 'country': 'Georgia', 'countryInfo': {'_id': 268, 'iso2': 'GE', 'iso3': 'GEO', 'lat': 42, 'long': 43.5, 'flag': 'https://disease.sh/assets/img/flags/ge.png'}, 'cases': 1861665, 'todayCases': 0, 'deaths': 17132, 'todayDeaths': 0, 'recovered': 0, 'todayRecovered': 0, 'active': 1844533, 'critical': 0, 'casesPerOneMillion': 469082, 'deathsPerOneMillion': 4317, 'tests': 16920079, 'testsPerOneMillion': 4263340, 'population': 3968738, 'continent': 'Asia', 'oneCasePerPeople': 2, 'oneDeathPerPeople': 232, 'oneTestPerPeople': 0, 'activePerOneMillion': 464765.63, 'recoveredPerOneMillion': 0, 'criticalPerOneMillion': 0}, {'updated': 1751205289207, 'country': 'Germany', 'countryInfo': {'_id': 276, 'iso2': 'DE', 'iso3': 'DEU', 'lat': 51, 'long': 9, 'flag': 'https://disease.sh/assets/img/flags/de.png'}, 'cases': 38828995, 'todayCases': 0, 'deaths': 183027, 'todayDeaths': 0, 'recovered': 38240600, 'todayRecovered': 0, 'active': 405368, 'critical': 0, 'casesPerOneMillion': 462891, 'deathsPerOneMillion': 2182, 'tests': 122332384, 'testsPerOneMillion': 1458359, 'population': 83883596, 'continent': 'Europe', 'oneCasePerPeople': 2, 'oneDeathPerPeople': 458, 'oneTestPerPeople': 1, 'activePerOneMillion': 4832.51, 'recoveredPerOneMillion': 455876.98, 'criticalPerOneMillion': 0}, {'updated': 1751205289421, 'country': 'Ghana', 'countryInfo': {'_id': 288, 'iso2': 'GH', 'iso3': 'GHA', 'lat': 8, 'long': -2, 'flag': 'https://disease.sh/assets/img/flags/gh.png'}, 'cases': 171889, 'todayCases': 0, 'deaths': 1462, 'todayDeaths': 0, 'recovered': 170425, 'todayRecovered': 0, 'active': 2, 'critical': 0, 'casesPerOneMillion': 5306, 'deathsPerOneMillion': 45, 'tests': 2541625, 'testsPerOneMillion': 78456, 'population': 32395450, 'continent': 'Africa', 'oneCasePerPeople': 188, 'oneDeathPerPeople': 22158, 'oneTestPerPeople': 13, 'activePerOneMillion': 0.06, 'recoveredPerOneMillion': 5260.77, 'criticalPerOneMillion': 0}, {'updated': 1751205289506, 'country': 'Gibraltar', 'countryInfo': {'_id': 292, 'iso2': 'GI', 'iso3': 'GIB', 'lat': 36.1833, 'long': -5.3667, 'flag': 'https://disease.sh/assets/img/flags/gi.png'}, 'cases': 20550, 'todayCases': 0, 'deaths': 113, 'todayDeaths': 0, 'recovered': 0, 'todayRecovered': 0, 'active': 20437, 'critical': 0, 'casesPerOneMillion': 609720, 'deathsPerOneMillion': 3353, 'tests': 534283, 'testsPerOneMillion': 15852213, 'population': 33704, 'continent': 'Europe', 'oneCasePerPeople': 2, 'oneDeathPerPeople': 298, 'oneTestPerPeople': 0, 'activePerOneMillion': 606367.2, 'recoveredPerOneMillion': 0, 'criticalPerOneMillion': 0}, {'updated': 1751205289246, 'country': 'Greece', 'countryInfo': {'_id': 300, 'iso2': 'GR', 'iso3': 'GRC', 'lat': 39, 'long': 22, 'flag': 'https://disease.sh/assets/img/flags/gr.png'}, 'cases': 6101379, 'todayCases': 0, 'deaths': 37869, 'todayDeaths': 0, 'recovered': 0, 'todayRecovered': 0, 'active': 6063510, 'critical': 0, 'casesPerOneMillion': 591412, 'deathsPerOneMillion': 3671, 'tests': 102228365, 'testsPerOneMillion': 9909078, 'population': 10316637, 'continent': 'Europe', 'oneCasePerPeople': 2, 'oneDeathPerPeople': 272, 'oneTestPerPeople': 0, 'activePerOneMillion': 587740.95, 'recoveredPerOneMillion': 0, 'criticalPerOneMillion': 0}, {'updated': 1751205289526, 'country': 'Greenland', 'countryInfo': {'_id': 304, 'iso2': 'GL', 'iso3': 'GRL', 'lat': 72, 'long': -40, 'flag': 'https://disease.sh/assets/img/flags/gl.png'}, 'cases': 11971, 'todayCases': 0, 'deaths': 21, 'todayDeaths': 0, 'recovered': 2761, 'todayRecovered': 0, 'active': 9189, 'critical': 4, 'casesPerOneMillion': 210117, 'deathsPerOneMillion': 369, 'tests': 164926, 'testsPerOneMillion': 2894810, 'population': 56973, 'continent': 'North America', 'oneCasePerPeople': 5, 'oneDeathPerPeople': 2713, 'oneTestPerPeople': 0, 'activePerOneMillion': 161286.93, 'recoveredPerOneMillion': 48461.55, 'criticalPerOneMillion': 70.21}, {'updated': 1751205289507, 'country': 'Grenada', 'countryInfo': {'_id': 308, 'iso2': 'GD', 'iso3': 'GRD', 'lat': 12.1167, 'long': -61.6667, 'flag': 'https://disease.sh/assets/img/flags/gd.png'}, 'cases': 19693, 'todayCases': 0, 'deaths': 238, 'todayDeaths': 0, 'recovered': 19358, 'todayRecovered': 0, 'active': 97, 'critical': 4, 'casesPerOneMillion': 173545, 'deathsPerOneMillion': 2097, 'tests': 182981, 'testsPerOneMillion': 1612523, 'population': 113475, 'continent': 'North America', 'oneCasePerPeople': 6, 'oneDeathPerPeople': 477, 'oneTestPerPeople': 1, 'activePerOneMillion': 854.81, 'recoveredPerOneMillion': 170592.64, 'criticalPerOneMillion': 35.25}, {'updated': 1751205289410, 'country': 'Guadeloupe', 'countryInfo': {'_id': 312, 'iso2': 'GP', 'iso3': 'GLP', 'lat': 16.25, 'long': -61.5833, 'flag': 'https://disease.sh/assets/img/flags/gp.png'}, 'cases': 203235, 'todayCases': 0, 'deaths': 1021, 'todayDeaths': 0, 'recovered': 0, 'todayRecovered': 0, 'active': 202214, 'critical': 0, 'casesPerOneMillion': 508349, 'deathsPerOneMillion': 2554, 'tests': 938039, 'testsPerOneMillion': 2346306, 'population': 399794, 'continent': 'North America', 'oneCasePerPeople': 2, 'oneDeathPerPeople': 392, 'oneTestPerPeople': 0, 'activePerOneMillion': 505795.48, 'recoveredPerOneMillion': 0, 'criticalPerOneMillion': 0}, {'updated': 1751205289321, 'country': 'Guatemala', 'countryInfo': {'_id': 320, 'iso2': 'GT', 'iso3': 'GTM', 'lat': 15.5, 'long': -90.25, 'flag': 'https://disease.sh/assets/img/flags/gt.png'}, 'cases': 1291293, 'todayCases': 0, 'deaths': 20289, 'todayDeaths': 0, 'recovered': 1269891, 'todayRecovered': 0, 'active': 1113, 'critical': 5, 'casesPerOneMillion': 69484, 'deathsPerOneMillion': 1092, 'tests': 7593848, 'testsPerOneMillion': 408622, 'population': 18584039, 'continent': 'North America', 'oneCasePerPeople': 14, 'oneDeathPerPeople': 916, 'oneTestPerPeople': 2, 'activePerOneMillion': 59.89, 'recoveredPerOneMillion': 68332.35, 'criticalPerOneMillion': 0.27}, {'updated': 1751205289483, 'country': 'Guinea', 'countryInfo': {'_id': 324, 'iso2': 'GN', 'iso3': 'GIN', 'lat': 11, 'long': -10, 'flag': 'https://disease.sh/assets/img/flags/gn.png'}, 'cases': 38572, 'todayCases': 0, 'deaths': 468, 'todayDeaths': 0, 'recovered': 37757, 'todayRecovered': 0, 'active': 347, 'critical': 0, 'casesPerOneMillion': 2782, 'deathsPerOneMillion': 34, 'tests': 660107, 'testsPerOneMillion': 47607, 'population': 13865691, 'continent': 'Africa', 'oneCasePerPeople': 359, 'oneDeathPerPeople': 29628, 'oneTestPerPeople': 21, 'activePerOneMillion': 25.03, 'recoveredPerOneMillion': 2723.05, 'criticalPerOneMillion': 0}, {'updated': 1751205289535, 'country': 'Guinea-Bissau', 'countryInfo': {'_id': 624, 'iso2': 'GW', 'iso3': 'GNB', 'lat': 12, 'long': -15, 'flag': 'https://disease.sh/assets/img/flags/gw.png'}, 'cases': 9614, 'todayCases': 0, 'deaths': 177, 'todayDeaths': 0, 'recovered': 8929, 'todayRecovered': 0, 'active': 508, 'critical': 6, 'casesPerOneMillion': 4659, 'deathsPerOneMillion': 86, 'tests': 145231, 'testsPerOneMillion': 70385, 'population': 2063367, 'continent': 'Africa', 'oneCasePerPeople': 215, 'oneDeathPerPeople': 11657, 'oneTestPerPeople': 14, 'activePerOneMillion': 246.2, 'recoveredPerOneMillion': 4327.39, 'criticalPerOneMillion': 2.91}, {'updated': 1751205289451, 'country': 'Guyana', 'countryInfo': {'_id': 328, 'iso2': 'GY', 'iso3': 'GUY', 'lat': 5, 'long': -59, 'flag': 'https://disease.sh/assets/img/flags/gy.png'}, 'cases': 74137, 'todayCases': 0, 'deaths': 1300, 'todayDeaths': 0, 'recovered': 72013, 'todayRecovered': 0, 'active': 824, 'critical': 0, 'casesPerOneMillion': 93366, 'deathsPerOneMillion': 1637, 'tests': 733218, 'testsPerOneMillion': 923396, 'population': 794045, 'continent': 'South America', 'oneCasePerPeople': 11, 'oneDeathPerPeople': 611, 'oneTestPerPeople': 1, 'activePerOneMillion': 1037.72, 'recoveredPerOneMillion': 90691.33, 'criticalPerOneMillion': 0}, {'updated': 1751205289489, 'country': 'Haiti', 'countryInfo': {'_id': 332, 'iso2': 'HT', 'iso3': 'HTI', 'lat': 19, 'long': -72.4167, 'flag': 'https://disease.sh/assets/img/flags/ht.png'}, 'cases': 34667, 'todayCases': 0, 'deaths': 860, 'todayDeaths': 0, 'recovered': 33734, 'todayRecovered': 0, 'active': 73, 'critical': 0, 'casesPerOneMillion': 2968, 'deathsPerOneMillion': 74, 'tests': 132422, 'testsPerOneMillion': 11337, 'population': 11680283, 'continent': 'North America', 'oneCasePerPeople': 337, 'oneDeathPerPeople': 13582, 'oneTestPerPeople': 88, 'activePerOneMillion': 6.25, 'recoveredPerOneMillion': 2888.11, 'criticalPerOneMillion': 0}, {'updated': 1751205289563, 'country': 'Holy See (Vatican City State)', 'countryInfo': {'_id': 336, 'iso2': 'VA', 'iso3': 'VAT', 'lat': 41.9, 'long': 12.45, 'flag': 'https://disease.sh/assets/img/flags/va.png'}, 'cases': 29, 'todayCases': 0, 'deaths': 0, 'todayDeaths': 0, 'recovered': 29, 'todayRecovered': 0, 'active': 0, 'critical': 0, 'casesPerOneMillion': 36295, 'deathsPerOneMillion': 0, 'tests': 0, 'testsPerOneMillion': 0, 'population': 799, 'continent': 'Europe', 'oneCasePerPeople': 28, 'oneDeathPerPeople': 0, 'oneTestPerPeople': 0, 'activePerOneMillion': 0, 'recoveredPerOneMillion': 36295.37, 'criticalPerOneMillion': 0}, {'updated': 1751205289366, 'country': 'Honduras', 'countryInfo': {'_id': 340, 'iso2': 'HN', 'iso3': 'HND', 'lat': 15, 'long': -86.5, 'flag': 'https://disease.sh/assets/img/flags/hn.png'}, 'cases': 474590, 'todayCases': 0, 'deaths': 11165, 'todayDeaths': 0, 'recovered': 0, 'todayRecovered': 0, 'active': 463425, 'critical': 0, 'casesPerOneMillion': 46432, 'deathsPerOneMillion': 1092, 'tests': 1660662, 'testsPerOneMillion': 162472, 'population': 10221247, 'continent': 'North America', 'oneCasePerPeople': 22, 'oneDeathPerPeople': 915, 'oneTestPerPeople': 6, 'activePerOneMillion': 45339.38, 'recoveredPerOneMillion': 0, 'criticalPerOneMillion': 0}, {'updated': 1751205289300, 'country': 'Hong Kong', 'countryInfo': {'_id': 344, 'iso2': 'HK', 'iso3': 'HKG', 'lat': 22.25, 'long': 114.1667, 'flag': 'https://disease.sh/assets/img/flags/hk.png'}, 'cases': 2937609, 'todayCases': 0, 'deaths': 14924, 'todayDeaths': 0, 'recovered': 2916005, 'todayRecovered': 0, 'active': 6680, 'critical': 0, 'casesPerOneMillion': 386309, 'deathsPerOneMillion': 1963, 'tests': 76127725, 'testsPerOneMillion': 10011143, 'population': 7604299, 'continent': 'Asia', 'oneCasePerPeople': 3, 'oneDeathPerPeople': 510, 'oneTestPerPeople': 0, 'activePerOneMillion': 878.45, 'recoveredPerOneMillion': 383467.96, 'criticalPerOneMillion': 0}, {'updated': 1751205289307, 'country': 'Hungary', 'countryInfo': {'_id': 348, 'iso2': 'HU', 'iso3': 'HUN', 'lat': 47, 'long': 20, 'flag': 'https://disease.sh/assets/img/flags/hu.png'}, 'cases': 2230232, 'todayCases': 0, 'deaths': 49048, 'todayDeaths': 0, 'recovered': 2152155, 'todayRecovered': 0, 'active': 29029, 'critical': 0, 'casesPerOneMillion': 232164, 'deathsPerOneMillion': 5106, 'tests': 11394556, 'testsPerOneMillion': 1186160, 'population': 9606259, 'continent': 'Europe', 'oneCasePerPeople': 4, 'oneDeathPerPeople': 196, 'oneTestPerPeople': 1, 'activePerOneMillion': 3021.88, 'recoveredPerOneMillion': 224036.75, 'criticalPerOneMillion': 0}, {'updated': 1751205289406, 'country': 'Iceland', 'countryInfo': {'_id': 352, 'iso2': 'IS', 'iso3': 'ISL', 'lat': 65, 'long': -18, 'flag': 'https://disease.sh/assets/img/flags/is.png'}, 'cases': 209906, 'todayCases': 0, 'deaths': 229, 'todayDeaths': 0, 'recovered': 0, 'todayRecovered': 0, 'active': 209677, 'critical': 0, 'casesPerOneMillion': 607731, 'deathsPerOneMillion': 663, 'tests': 1996384, 'testsPerOneMillion': 5780036, 'population': 345393, 'continent': 'Europe', 'oneCasePerPeople': 2, 'oneDeathPerPeople': 1508, 'oneTestPerPeople': 0, 'activePerOneMillion': 607067.89, 'recoveredPerOneMillion': 0, 'criticalPerOneMillion': 0}, {'updated': 1751205289202, 'country': 'India', 'countryInfo': {'_id': 356, 'iso2': 'IN', 'iso3': 'IND', 'lat': 20, 'long': 77, 'flag': 'https://disease.sh/assets/img/flags/in.png'}, 'cases': 45035393, 'todayCases': 0, 'deaths': 533570, 'todayDeaths': 0, 'recovered': 0, 'todayRecovered': 0, 'active': 44501823, 'critical': 0, 'casesPerOneMillion': 32016, 'deathsPerOneMillion': 379, 'tests': 935879495, 'testsPerOneMillion': 665334, 'population': 1406631776, 'continent': 'Asia', 'oneCasePerPeople': 31, 'oneDeathPerPeople': 2636, 'oneTestPerPeople': 2, 'activePerOneMillion': 31637.15, 'recoveredPerOneMillion': 0, 'criticalPerOneMillion': 0}, {'updated': 1751205289239, 'country': 'Indonesia', 'countryInfo': {'_id': 360, 'iso2': 'ID', 'iso3': 'IDN', 'lat': -5, 'long': 120, 'flag': 'https://disease.sh/assets/img/flags/id.png'}, 'cases': 6829221, 'todayCases': 0, 'deaths': 162063, 'todayDeaths': 0, 'recovered': 6647104, 'todayRecovered': 0, 'active': 20054, 'critical': 0, 'casesPerOneMillion': 24466, 'deathsPerOneMillion': 581, 'tests': 114158919, 'testsPerOneMillion': 408975, 'population': 279134505, 'continent': 'Asia', 'oneCasePerPeople': 41, 'oneDeathPerPeople': 1722, 'oneTestPerPeople': 2, 'activePerOneMillion': 71.84, 'recoveredPerOneMillion': 23813.27, 'criticalPerOneMillion': 0}, {'updated': 1751205289237, 'country': 'Iran', 'countryInfo': {'_id': 364, 'iso2': 'IR', 'iso3': 'IRN', 'lat': 32, 'long': 53, 'flag': 'https://disease.sh/assets/img/flags/ir.png'}, 'cases': 7627186, 'todayCases': 0, 'deaths': 146811, 'todayDeaths': 0, 'recovered': 0, 'todayRecovered': 0, 'active': 7480375, 'critical': 0, 'casesPerOneMillion': 88665, 'deathsPerOneMillion': 1707, 'tests': 57320267, 'testsPerOneMillion': 666338, 'population': 86022837, 'continent': 'Asia', 'oneCasePerPeople': 11, 'oneDeathPerPeople': 586, 'oneTestPerPeople': 2, 'activePerOneMillion': 86958.01, 'recoveredPerOneMillion': 0, 'criticalPerOneMillion': 0}, {'updated': 1751205289306, 'country': 'Iraq', 'countryInfo': {'_id': 368, 'iso2': 'IQ', 'iso3': 'IRQ', 'lat': 33, 'long': 44, 'flag': 'https://disease.sh/assets/img/flags/iq.png'}, 'cases': 2465545, 'todayCases': 0, 'deaths': 25375, 'todayDeaths': 0, 'recovered': 2439497, 'todayRecovered': 0, 'active': 673, 'critical': 0, 'casesPerOneMillion': 58474, 'deathsPerOneMillion': 602, 'tests': 19544451, 'testsPerOneMillion': 463523, 'population': 42164965, 'continent': 'Asia', 'oneCasePerPeople': 17, 'oneDeathPerPeople': 1662, 'oneTestPerPeople': 2, 'activePerOneMillion': 15.96, 'recoveredPerOneMillion': 57856.02, 'criticalPerOneMillion': 0}, {'updated': 1751205289312, 'country': 'Ireland', 'countryInfo': {'_id': 372, 'iso2': 'IE', 'iso3': 'IRL', 'lat': 53, 'long': -8, 'flag': 'https://disease.sh/assets/img/flags/ie.png'}, 'cases': 1734582, 'todayCases': 0, 'deaths': 9491, 'todayDeaths': 0, 'recovered': 1724921, 'todayRecovered': 0, 'active': 170, 'critical': 19, 'casesPerOneMillion': 345521, 'deathsPerOneMillion': 1891, 'tests': 13083449, 'testsPerOneMillion': 2606161, 'population': 5020199, 'continent': 'Europe', 'oneCasePerPeople': 3, 'oneDeathPerPeople': 529, 'oneTestPerPeople': 0, 'activePerOneMillion': 33.86, 'recoveredPerOneMillion': 343596.14, 'criticalPerOneMillion': 3.78}, {'updated': 1751205289486, 'country': 'Isle of Man', 'countryInfo': {'_id': 833, 'iso2': 'IM', 'iso3': 'IMN', 'lat': 54.23, 'long': -4.55, 'flag': 'https://disease.sh/assets/img/flags/im.png'}, 'cases': 38008, 'todayCases': 0, 'deaths': 116, 'todayDeaths': 0, 'recovered': 0, 'todayRecovered': 0, 'active': 37892, 'critical': 0, 'casesPerOneMillion': 443335, 'deathsPerOneMillion': 1353, 'tests': 150753, 'testsPerOneMillion': 1758422, 'population': 85732, 'continent': 'Europe', 'oneCasePerPeople': 2, 'oneDeathPerPeople': 739, 'oneTestPerPeople': 1, 'activePerOneMillion': 441981.99, 'recoveredPerOneMillion': 0, 'criticalPerOneMillion': 0}, {'updated': 1751205289264, 'country': 'Israel', 'countryInfo': {'_id': 376, 'iso2': 'IL', 'iso3': 'ISR', 'lat': 31.5, 'long': 34.75, 'flag': 'https://disease.sh/assets/img/flags/il.png'}, 'cases': 4841772, 'todayCases': 0, 'deaths': 12707, 'todayDeaths': 0, 'recovered': 4798473, 'todayRecovered': 0, 'active': 30592, 'critical': 0, 'casesPerOneMillion': 519169, 'deathsPerOneMillion': 1363, 'tests': 41373364, 'testsPerOneMillion': 4436346, 'population': 9326000, 'continent': 'Asia', 'oneCasePerPeople': 2, 'oneDeathPerPeople': 734, 'oneTestPerPeople': 0, 'activePerOneMillion': 3280.29, 'recoveredPerOneMillion': 514526.38, 'criticalPerOneMillion': 0}, {'updated': 1751205289215, 'country': 'Italy', 'countryInfo': {'_id': 380, 'iso2': 'IT', 'iso3': 'ITA', 'lat': 42.8333, 'long': 12.8333, 'flag': 'https://disease.sh/assets/img/flags/it.png'}, 'cases': 26723249, 'todayCases': 0, 'deaths': 196487, 'todayDeaths': 0, 'recovered': 26361218, 'todayRecovered': 0, 'active': 165544, 'critical': 22, 'casesPerOneMillion': 443445, 'deathsPerOneMillion': 3261, 'tests': 281126449, 'testsPerOneMillion': 4665010, 'population': 60262770, 'continent': 'Europe', 'oneCasePerPeople': 2, 'oneDeathPerPeople': 307, 'oneTestPerPeople': 0, 'activePerOneMillion': 2747.04, 'recoveredPerOneMillion': 437437.87, 'criticalPerOneMillion': 0.37}, {'updated': 1751205289423, 'country': 'Jamaica', 'countryInfo': {'_id': 388, 'iso2': 'JM', 'iso3': 'JAM', 'lat': 18.25, 'long': -77.5, 'flag': 'https://disease.sh/assets/img/flags/jm.png'}, 'cases': 156869, 'todayCases': 0, 'deaths': 3756, 'todayDeaths': 0, 'recovered': 0, 'todayRecovered': 0, 'active': 153113, 'critical': 0, 'casesPerOneMillion': 52551, 'deathsPerOneMillion': 1258, 'tests': 1183986, 'testsPerOneMillion': 396633, 'population': 2985094, 'continent': 'North America', 'oneCasePerPeople': 19, 'oneDeathPerPeople': 795, 'oneTestPerPeople': 3, 'activePerOneMillion': 51292.52, 'recoveredPerOneMillion': 0, 'criticalPerOneMillion': 0}, {'updated': 1751205289213, 'country': 'Japan', 'countryInfo': {'_id': 392, 'iso2': 'JP', 'iso3': 'JPN', 'lat': 36, 'long': 138, 'flag': 'https://disease.sh/assets/img/flags/jp.png'}, 'cases': 33803572, 'todayCases': 0, 'deaths': 74694, 'todayDeaths': 0, 'recovered': 0, 'todayRecovered': 0, 'active': 33728878, 'critical': 0, 'casesPerOneMillion': 269169, 'deathsPerOneMillion': 595, 'tests': 100414883, 'testsPerOneMillion': 799578, 'population': 125584838, 'continent': 'Asia', 'oneCasePerPeople': 4, 'oneDeathPerPeople': 1681, 'oneTestPerPeople': 1, 'activePerOneMillion': 268574.44, 'recoveredPerOneMillion': 0, 'criticalPerOneMillion': 0}, {'updated': 1751205289311, 'country': 'Jordan', 'countryInfo': {'_id': 400, 'iso2': 'JO', 'iso3': 'JOR', 'lat': 31, 'long': 36, 'flag': 'https://disease.sh/assets/img/flags/jo.png'}, 'cases': 1746997, 'todayCases': 0, 'deaths': 14122, 'todayDeaths': 0, 'recovered': 1731007, 'todayRecovered': 0, 'active': 1868, 'critical': 59, 'casesPerOneMillion': 169597, 'deathsPerOneMillion': 1371, 'tests': 17201885, 'testsPerOneMillion': 1669945, 'population': 10300869, 'continent': 'Asia', 'oneCasePerPeople': 6, 'oneDeathPerPeople': 729, 'oneTestPerPeople': 1, 'activePerOneMillion': 181.34, 'recoveredPerOneMillion': 168044.75, 'criticalPerOneMillion': 5.73}, {'updated': 1751205289316, 'country': 'Kazakhstan', 'countryInfo': {'_id': 398, 'iso2': 'KZ', 'iso3': 'KAZ', 'lat': 48, 'long': 68, 'flag': 'https://disease.sh/assets/img/flags/kz.png'}, 'cases': 1411831, 'todayCases': 0, 'deaths': 13848, 'todayDeaths': 0, 'recovered': 1383020, 'todayRecovered': 0, 'active': 14963, 'critical': 24, 'casesPerOneMillion': 73514, 'deathsPerOneMillion': 721, 'tests': 11575012, 'testsPerOneMillion': 602707, 'population': 19205043, 'continent': 'Asia', 'oneCasePerPeople': 14, 'oneDeathPerPeople': 1387, 'oneTestPerPeople': 2, 'activePerOneMillion': 779.12, 'recoveredPerOneMillion': 72013.38, 'criticalPerOneMillion': 1.25}, {'updated': 1751205289380, 'country': 'Kenya', 'countryInfo': {'_id': 404, 'iso2': 'KE', 'iso3': 'KEN', 'lat': 1, 'long': 38, 'flag': 'https://disease.sh/assets/img/flags/ke.png'}, 'cases': 344130, 'todayCases': 0, 'deaths': 5689, 'todayDeaths': 0, 'recovered': 337309, 'todayRecovered': 0, 'active': 1132, 'critical': 0, 'casesPerOneMillion': 6122, 'deathsPerOneMillion': 101, 'tests': 3967062, 'testsPerOneMillion': 70569, 'population': 56215221, 'continent': 'Africa', 'oneCasePerPeople': 163, 'oneDeathPerPeople': 9881, 'oneTestPerPeople': 14, 'activePerOneMillion': 20.14, 'recoveredPerOneMillion': 6000.31, 'criticalPerOneMillion': 0}, {'updated': 1751205289550, 'country': 'Kiribati', 'countryInfo': {'_id': 296, 'iso2': 'KI', 'iso3': 'KIR', 'lat': 1.4167, 'long': 173, 'flag': 'https://disease.sh/assets/img/flags/ki.png'}, 'cases': 5085, 'todayCases': 0, 'deaths': 24, 'todayDeaths': 0, 'recovered': 2703, 'todayRecovered': 0, 'active': 2358, 'critical': 3, 'casesPerOneMillion': 41201, 'deathsPerOneMillion': 194, 'tests': 0, 'testsPerOneMillion': 0, 'population': 123419, 'continent': 'Australia-Oceania', 'oneCasePerPeople': 24, 'oneDeathPerPeople': 5142, 'oneTestPerPeople': 0, 'activePerOneMillion': 19105.65, 'recoveredPerOneMillion': 21901, 'criticalPerOneMillion': 24.31}, {'updated': 1751205289351, 'country': 'Kuwait', 'countryInfo': {'_id': 414, 'iso2': 'KW', 'iso3': 'KWT', 'lat': 29.3375, 'long': 47.6581, 'flag': 'https://disease.sh/assets/img/flags/kw.png'}, 'cases': 667158, 'todayCases': 0, 'deaths': 2570, 'todayDeaths': 0, 'recovered': 0, 'todayRecovered': 0, 'active': 664588, 'critical': 0, 'casesPerOneMillion': 152308, 'deathsPerOneMillion': 587, 'tests': 8455743, 'testsPerOneMillion': 1930391, 'population': 4380326, 'continent': 'Asia', 'oneCasePerPeople': 7, 'oneDeathPerPeople': 1704, 'oneTestPerPeople': 1, 'activePerOneMillion': 151721.13, 'recoveredPerOneMillion': 0, 'criticalPerOneMillion': 0}, {'updated': 1751205289408, 'country': 'Kyrgyzstan', 'countryInfo': {'_id': 417, 'iso2': 'KG', 'iso3': 'KGZ', 'lat': 41, 'long': 75, 'flag': 'https://disease.sh/assets/img/flags/kg.png'}, 'cases': 206897, 'todayCases': 0, 'deaths': 2991, 'todayDeaths': 0, 'recovered': 196406, 'todayRecovered': 0, 'active': 7500, 'critical': 131, 'casesPerOneMillion': 30750, 'deathsPerOneMillion': 445, 'tests': 1907195, 'testsPerOneMillion': 283460, 'population': 6728271, 'continent': 'Asia', 'oneCasePerPeople': 33, 'oneDeathPerPeople': 2250, 'oneTestPerPeople': 4, 'activePerOneMillion': 1114.7, 'recoveredPerOneMillion': 29191.15, 'criticalPerOneMillion': 19.47}, {'updated': 1751205289404, 'country': \"Lao People's Democratic Republic\", 'countryInfo': {'_id': 418, 'iso2': 'LA', 'iso3': 'LAO', 'lat': 18, 'long': 105, 'flag': 'https://disease.sh/assets/img/flags/la.png'}, 'cases': 218970, 'todayCases': 0, 'deaths': 758, 'todayDeaths': 0, 'recovered': 0, 'todayRecovered': 0, 'active': 218212, 'critical': 0, 'casesPerOneMillion': 29270, 'deathsPerOneMillion': 101, 'tests': 1233207, 'testsPerOneMillion': 164845, 'population': 7481023, 'continent': 'Asia', 'oneCasePerPeople': 34, 'oneDeathPerPeople': 9869, 'oneTestPerPeople': 6, 'activePerOneMillion': 29168.74, 'recoveredPerOneMillion': 0, 'criticalPerOneMillion': 0}, {'updated': 1751205289340, 'country': 'Latvia', 'countryInfo': {'_id': 428, 'iso2': 'LV', 'iso3': 'LVA', 'lat': 57, 'long': 25, 'flag': 'https://disease.sh/assets/img/flags/lv.png'}, 'cases': 982505, 'todayCases': 0, 'deaths': 6715, 'todayDeaths': 0, 'recovered': 971406, 'todayRecovered': 0, 'active': 4384, 'critical': 0, 'casesPerOneMillion': 531418, 'deathsPerOneMillion': 3632, 'tests': 7885792, 'testsPerOneMillion': 4265272, 'population': 1848837, 'continent': 'Europe', 'oneCasePerPeople': 2, 'oneDeathPerPeople': 275, 'oneTestPerPeople': 0, 'activePerOneMillion': 2371.22, 'recoveredPerOneMillion': 525414.63, 'criticalPerOneMillion': 0}, {'updated': 1751205289325, 'country': 'Lebanon', 'countryInfo': {'_id': 422, 'iso2': 'LB', 'iso3': 'LBN', 'lat': 33.8333, 'long': 35.8333, 'flag': 'https://disease.sh/assets/img/flags/lb.png'}, 'cases': 1243838, 'todayCases': 0, 'deaths': 10952, 'todayDeaths': 0, 'recovered': 1087587, 'todayRecovered': 0, 'active': 145299, 'critical': 74, 'casesPerOneMillion': 186068, 'deathsPerOneMillion': 1638, 'tests': 4795578, 'testsPerOneMillion': 717380, 'population': 6684849, 'continent': 'Asia', 'oneCasePerPeople': 5, 'oneDeathPerPeople': 610, 'oneTestPerPeople': 1, 'activePerOneMillion': 21735.57, 'recoveredPerOneMillion': 162694.33, 'criticalPerOneMillion': 11.07}, {'updated': 1751205289488, 'country': 'Lesotho', 'countryInfo': {'_id': 426, 'iso2': 'LS', 'iso3': 'LSO', 'lat': -29.5, 'long': 28.5, 'flag': 'https://disease.sh/assets/img/flags/ls.png'}, 'cases': 36138, 'todayCases': 0, 'deaths': 723, 'todayDeaths': 0, 'recovered': 25980, 'todayRecovered': 0, 'active': 9435, 'critical': 0, 'casesPerOneMillion': 16610, 'deathsPerOneMillion': 332, 'tests': 431221, 'testsPerOneMillion': 198199, 'population': 2175699, 'continent': 'Africa', 'oneCasePerPeople': 60, 'oneDeathPerPeople': 3009, 'oneTestPerPeople': 5, 'activePerOneMillion': 4336.54, 'recoveredPerOneMillion': 11940.99, 'criticalPerOneMillion': 0}, {'updated': 1751205289538, 'country': 'Liberia', 'countryInfo': {'_id': 430, 'iso2': 'LR', 'iso3': 'LBR', 'lat': 6.5, 'long': -9.5, 'flag': 'https://disease.sh/assets/img/flags/lr.png'}, 'cases': 8090, 'todayCases': 0, 'deaths': 295, 'todayDeaths': 0, 'recovered': 7783, 'todayRecovered': 0, 'active': 12, 'critical': 2, 'casesPerOneMillion': 1525, 'deathsPerOneMillion': 56, 'tests': 139824, 'testsPerOneMillion': 26356, 'population': 5305117, 'continent': 'Africa', 'oneCasePerPeople': 656, 'oneDeathPerPeople': 17983, 'oneTestPerPeople': 38, 'activePerOneMillion': 2.26, 'recoveredPerOneMillion': 1467.07, 'criticalPerOneMillion': 0.38}, {'updated': 1751205289360, 'country': 'Libyan Arab Jamahiriya', 'countryInfo': {'_id': 434, 'iso2': 'LY', 'iso3': 'LBY', 'lat': 25, 'long': 17, 'flag': 'https://disease.sh/assets/img/flags/ly.png'}, 'cases': 507274, 'todayCases': 0, 'deaths': 6437, 'todayDeaths': 0, 'recovered': 500835, 'todayRecovered': 0, 'active': 2, 'critical': 0, 'casesPerOneMillion': 72048, 'deathsPerOneMillion': 914, 'tests': 2483848, 'testsPerOneMillion': 352782, 'population': 7040745, 'continent': 'Africa', 'oneCasePerPeople': 14, 'oneDeathPerPeople': 1094, 'oneTestPerPeople': 3, 'activePerOneMillion': 0.28, 'recoveredPerOneMillion': 71133.81, 'criticalPerOneMillion': 0}, {'updated': 1751205289505, 'country': 'Liechtenstein', 'countryInfo': {'_id': 438, 'iso2': 'LI', 'iso3': 'LIE', 'lat': 47.1667, 'long': 9.5333, 'flag': 'https://disease.sh/assets/img/flags/li.png'}, 'cases': 21574, 'todayCases': 0, 'deaths': 94, 'todayDeaths': 0, 'recovered': 0, 'todayRecovered': 0, 'active': 21480, 'critical': 0, 'casesPerOneMillion': 562013, 'deathsPerOneMillion': 2449, 'tests': 112457, 'testsPerOneMillion': 2929559, 'population': 38387, 'continent': 'Europe', 'oneCasePerPeople': 2, 'oneDeathPerPeople': 408, 'oneTestPerPeople': 0, 'activePerOneMillion': 559564.44, 'recoveredPerOneMillion': 0, 'criticalPerOneMillion': 0}, {'updated': 1751205289317, 'country': 'Lithuania', 'countryInfo': {'_id': 440, 'iso2': 'LT', 'iso3': 'LTU', 'lat': 56, 'long': 24, 'flag': 'https://disease.sh/assets/img/flags/lt.png'}, 'cases': 1397806, 'todayCases': 0, 'deaths': 9897, 'todayDeaths': 0, 'recovered': 1387478, 'todayRecovered': 0, 'active': 431, 'critical': 0, 'casesPerOneMillion': 525154, 'deathsPerOneMillion': 3718, 'tests': 10540357, 'testsPerOneMillion': 3959997, 'population': 2661708, 'continent': 'Europe', 'oneCasePerPeople': 2, 'oneDeathPerPeople': 269, 'oneTestPerPeople': 0, 'activePerOneMillion': 161.93, 'recoveredPerOneMillion': 521273.56, 'criticalPerOneMillion': 0}, {'updated': 1751205289374, 'country': 'Luxembourg', 'countryInfo': {'_id': 442, 'iso2': 'LU', 'iso3': 'LUX', 'lat': 49.75, 'long': 6.1667, 'flag': 'https://disease.sh/assets/img/flags/lu.png'}, 'cases': 391232, 'todayCases': 0, 'deaths': 1232, 'todayDeaths': 0, 'recovered': 0, 'todayRecovered': 0, 'active': 390000, 'critical': 0, 'casesPerOneMillion': 609044, 'deathsPerOneMillion': 1918, 'tests': 4587145, 'testsPerOneMillion': 7140959, 'population': 642371, 'continent': 'Europe', 'oneCasePerPeople': 2, 'oneDeathPerPeople': 521, 'oneTestPerPeople': 0, 'activePerOneMillion': 607125.79, 'recoveredPerOneMillion': 0, 'criticalPerOneMillion': 0}, {'updated': 1751205289565, 'country': 'MS Zaandam', 'countryInfo': {'_id': None, 'iso2': None, 'iso3': None, 'lat': 0, 'long': 0, 'flag': 'https://disease.sh/assets/img/flags/unknown.png'}, 'cases': 9, 'todayCases': 0, 'deaths': 2, 'todayDeaths': 0, 'recovered': 7, 'todayRecovered': 0, 'active': 0, 'critical': 0, 'casesPerOneMillion': 0, 'deathsPerOneMillion': 0, 'tests': 0, 'testsPerOneMillion': 0, 'population': 0, 'continent': '', 'oneCasePerPeople': 0, 'oneDeathPerPeople': 0, 'oneTestPerPeople': 0, 'activePerOneMillion': 0, 'recoveredPerOneMillion': 0, 'criticalPerOneMillion': 0}, {'updated': 1751205289497, 'country': 'Macao', 'countryInfo': {'_id': 446, 'iso2': 'MO', 'iso3': 'MAC', 'lat': 22.1667, 'long': 113.55, 'flag': 'https://disease.sh/assets/img/flags/mo.png'}, 'cases': 27673, 'todayCases': 0, 'deaths': 123, 'todayDeaths': 0, 'recovered': 3487, 'todayRecovered': 0, 'active': 24063, 'critical': 0, 'casesPerOneMillion': 41458, 'deathsPerOneMillion': 184, 'tests': 7850, 'testsPerOneMillion': 11760, 'population': 667490, 'continent': 'Asia', 'oneCasePerPeople': 24, 'oneDeathPerPeople': 5427, 'oneTestPerPeople': 85, 'activePerOneMillion': 36049.98, 'recoveredPerOneMillion': 5224.05, 'criticalPerOneMillion': 0}, {'updated': 1751205289376, 'country': 'Macedonia', 'countryInfo': {'_id': 807, 'iso2': 'MK', 'iso3': 'MKD', 'lat': 41.8333, 'long': 22, 'flag': 'https://disease.sh/assets/img/flags/mk.png'}, 'cases': 350567, 'todayCases': 0, 'deaths': 9976, 'todayDeaths': 0, 'recovered': 337068, 'todayRecovered': 0, 'active': 3523, 'critical': 0, 'casesPerOneMillion': 168436, 'deathsPerOneMillion': 4793, 'tests': 2226216, 'testsPerOneMillion': 1069626, 'population': 2081304, 'continent': 'Europe', 'oneCasePerPeople': 6, 'oneDeathPerPeople': 209, 'oneTestPerPeople': 1, 'activePerOneMillion': 1692.69, 'recoveredPerOneMillion': 161950.39, 'criticalPerOneMillion': 0}, {'updated': 1751205289455, 'country': 'Madagascar', 'countryInfo': {'_id': 450, 'iso2': 'MG', 'iso3': 'MDG', 'lat': -20, 'long': 47, 'flag': 'https://disease.sh/assets/img/flags/mg.png'}, 'cases': 68486, 'todayCases': 0, 'deaths': 1426, 'todayDeaths': 0, 'recovered': 66862, 'todayRecovered': 0, 'active': 198, 'critical': 0, 'casesPerOneMillion': 2347, 'deathsPerOneMillion': 49, 'tests': 531329, 'testsPerOneMillion': 18210, 'population': 29178077, 'continent': 'Africa', 'oneCasePerPeople': 426, 'oneDeathPerPeople': 20461, 'oneTestPerPeople': 55, 'activePerOneMillion': 6.79, 'recoveredPerOneMillion': 2291.51, 'criticalPerOneMillion': 0}, {'updated': 1751205289439, 'country': 'Malawi', 'countryInfo': {'_id': 454, 'iso2': 'MW', 'iso3': 'MWI', 'lat': -13.5, 'long': 34, 'flag': 'https://disease.sh/assets/img/flags/mw.png'}, 'cases': 89535, 'todayCases': 0, 'deaths': 2686, 'todayDeaths': 0, 'recovered': 0, 'todayRecovered': 0, 'active': 86849, 'critical': 0, 'casesPerOneMillion': 4437, 'deathsPerOneMillion': 133, 'tests': 624784, 'testsPerOneMillion': 30959, 'population': 20180839, 'continent': 'Africa', 'oneCasePerPeople': 225, 'oneDeathPerPeople': 7513, 'oneTestPerPeople': 32, 'activePerOneMillion': 4303.54, 'recoveredPerOneMillion': 0, 'criticalPerOneMillion': 0}, {'updated': 1751205289258, 'country': 'Malaysia', 'countryInfo': {'_id': 458, 'iso2': 'MY', 'iso3': 'MYS', 'lat': 2.5, 'long': 112.5, 'flag': 'https://disease.sh/assets/img/flags/my.png'}, 'cases': 5278406, 'todayCases': 0, 'deaths': 37348, 'todayDeaths': 0, 'recovered': 5233268, 'todayRecovered': 0, 'active': 7790, 'critical': 11, 'casesPerOneMillion': 159079, 'deathsPerOneMillion': 1126, 'tests': 68580916, 'testsPerOneMillion': 2066869, 'population': 33181072, 'continent': 'Asia', 'oneCasePerPeople': 6, 'oneDeathPerPeople': 888, 'oneTestPerPeople': 0, 'activePerOneMillion': 234.77, 'recoveredPerOneMillion': 157718.47, 'criticalPerOneMillion': 0.33}, {'updated': 1751205289416, 'country': 'Maldives', 'countryInfo': {'_id': 462, 'iso2': 'MV', 'iso3': 'MDV', 'lat': 3.25, 'long': 73, 'flag': 'https://disease.sh/assets/img/flags/mv.png'}, 'cases': 186694, 'todayCases': 0, 'deaths': 316, 'todayDeaths': 0, 'recovered': 163687, 'todayRecovered': 0, 'active': 22691, 'critical': 25, 'casesPerOneMillion': 345100, 'deathsPerOneMillion': 584, 'tests': 2213831, 'testsPerOneMillion': 4092223, 'population': 540985, 'continent': 'Asia', 'oneCasePerPeople': 3, 'oneDeathPerPeople': 1712, 'oneTestPerPeople': 0, 'activePerOneMillion': 41943.86, 'recoveredPerOneMillion': 302572.16, 'criticalPerOneMillion': 46.21}, {'updated': 1751205289493, 'country': 'Mali', 'countryInfo': {'_id': 466, 'iso2': 'ML', 'iso3': 'MLI', 'lat': 17, 'long': -4, 'flag': 'https://disease.sh/assets/img/flags/ml.png'}, 'cases': 33164, 'todayCases': 0, 'deaths': 743, 'todayDeaths': 0, 'recovered': 32332, 'todayRecovered': 0, 'active': 89, 'critical': 0, 'casesPerOneMillion': 1544, 'deathsPerOneMillion': 35, 'tests': 804909, 'testsPerOneMillion': 37483, 'population': 21473764, 'continent': 'Africa', 'oneCasePerPeople': 648, 'oneDeathPerPeople': 28901, 'oneTestPerPeople': 27, 'activePerOneMillion': 4.14, 'recoveredPerOneMillion': 1505.65, 'criticalPerOneMillion': 0}, {'updated': 1751205289430, 'country': 'Malta', 'countryInfo': {'_id': 470, 'iso2': 'MT', 'iso3': 'MLT', 'lat': 35.8333, 'long': 14.5833, 'flag': 'https://disease.sh/assets/img/flags/mt.png'}, 'cases': 121420, 'todayCases': 0, 'deaths': 885, 'todayDeaths': 0, 'recovered': 120149, 'todayRecovered': 0, 'active': 386, 'critical': 0, 'casesPerOneMillion': 273448, 'deathsPerOneMillion': 1993, 'tests': 2170600, 'testsPerOneMillion': 4888375, 'population': 444033, 'continent': 'Europe', 'oneCasePerPeople': 4, 'oneDeathPerPeople': 502, 'oneTestPerPeople': 0, 'activePerOneMillion': 869.3, 'recoveredPerOneMillion': 270585.74, 'criticalPerOneMillion': 0}, {'updated': 1751205289518, 'country': 'Marshall Islands', 'countryInfo': {'_id': 584, 'iso2': 'MH', 'iso3': 'MHL', 'lat': 9, 'long': 168, 'flag': 'https://disease.sh/assets/img/flags/mh.png'}, 'cases': 16138, 'todayCases': 0, 'deaths': 17, 'todayDeaths': 0, 'recovered': 16121, 'todayRecovered': 0, 'active': 0, 'critical': 0, 'casesPerOneMillion': 268711, 'deathsPerOneMillion': 283, 'tests': 0, 'testsPerOneMillion': 0, 'population': 60057, 'continent': 'Australia-Oceania', 'oneCasePerPeople': 4, 'oneDeathPerPeople': 3533, 'oneTestPerPeople': 0, 'activePerOneMillion': 0, 'recoveredPerOneMillion': 268428.33, 'criticalPerOneMillion': 0}, {'updated': 1751205289403, 'country': 'Martinique', 'countryInfo': {'_id': 474, 'iso2': 'MQ', 'iso3': 'MTQ', 'lat': 14.6667, 'long': -61, 'flag': 'https://disease.sh/assets/img/flags/mq.png'}, 'cases': 230354, 'todayCases': 0, 'deaths': 1102, 'todayDeaths': 0, 'recovered': 0, 'todayRecovered': 0, 'active': 229252, 'critical': 0, 'casesPerOneMillion': 615777, 'deathsPerOneMillion': 2946, 'tests': 828928, 'testsPerOneMillion': 2215870, 'population': 374087, 'continent': 'North America', 'oneCasePerPeople': 2, 'oneDeathPerPeople': 339, 'oneTestPerPeople': 0, 'activePerOneMillion': 612830.71, 'recoveredPerOneMillion': 0, 'criticalPerOneMillion': 0}, {'updated': 1751205289461, 'country': 'Mauritania', 'countryInfo': {'_id': 478, 'iso2': 'MR', 'iso3': 'MRT', 'lat': 20, 'long': -12, 'flag': 'https://disease.sh/assets/img/flags/mr.png'}, 'cases': 63848, 'todayCases': 0, 'deaths': 997, 'todayDeaths': 0, 'recovered': 62471, 'todayRecovered': 0, 'active': 380, 'critical': 0, 'casesPerOneMillion': 13025, 'deathsPerOneMillion': 203, 'tests': 1009957, 'testsPerOneMillion': 206030, 'population': 4901981, 'continent': 'Africa', 'oneCasePerPeople': 77, 'oneDeathPerPeople': 4917, 'oneTestPerPeople': 5, 'activePerOneMillion': 77.52, 'recoveredPerOneMillion': 12744.03, 'criticalPerOneMillion': 0}, {'updated': 1751205289479, 'country': 'Mauritius', 'countryInfo': {'_id': 480, 'iso2': 'MU', 'iso3': 'MUS', 'lat': -20.2833, 'long': 57.55, 'flag': 'https://disease.sh/assets/img/flags/mu.png'}, 'cases': 43025, 'todayCases': 0, 'deaths': 1051, 'todayDeaths': 0, 'recovered': 41278, 'todayRecovered': 0, 'active': 696, 'critical': 0, 'casesPerOneMillion': 33752, 'deathsPerOneMillion': 824, 'tests': 358675, 'testsPerOneMillion': 281374, 'population': 1274727, 'continent': 'Africa', 'oneCasePerPeople': 30, 'oneDeathPerPeople': 1213, 'oneTestPerPeople': 4, 'activePerOneMillion': 546, 'recoveredPerOneMillion': 32381.84, 'criticalPerOneMillion': 0}, {'updated': 1751205289480, 'country': 'Mayotte', 'countryInfo': {'_id': 175, 'iso2': 'YT', 'iso3': 'MYT', 'lat': -12.8333, 'long': 45.1667, 'flag': 'https://disease.sh/assets/img/flags/yt.png'}, 'cases': 42027, 'todayCases': 0, 'deaths': 188, 'todayDeaths': 0, 'recovered': 0, 'todayRecovered': 0, 'active': 41839, 'critical': 0, 'casesPerOneMillion': 146815, 'deathsPerOneMillion': 657, 'tests': 176919, 'testsPerOneMillion': 618038, 'population': 286259, 'continent': 'Africa', 'oneCasePerPeople': 7, 'oneDeathPerPeople': 1523, 'oneTestPerPeople': 2, 'activePerOneMillion': 146157.85, 'recoveredPerOneMillion': 0, 'criticalPerOneMillion': 0}, {'updated': 1751205289235, 'country': 'Mexico', 'countryInfo': {'_id': 484, 'iso2': 'MX', 'iso3': 'MEX', 'lat': 23, 'long': -102, 'flag': 'https://disease.sh/assets/img/flags/mx.png'}, 'cases': 7702809, 'todayCases': 0, 'deaths': 334958, 'todayDeaths': 0, 'recovered': 6899865, 'todayRecovered': 0, 'active': 467986, 'critical': 0, 'casesPerOneMillion': 58549, 'deathsPerOneMillion': 2546, 'tests': 20013810, 'testsPerOneMillion': 152124, 'population': 131562772, 'continent': 'North America', 'oneCasePerPeople': 17, 'oneDeathPerPeople': 393, 'oneTestPerPeople': 7, 'activePerOneMillion': 3557.13, 'recoveredPerOneMillion': 52445.42, 'criticalPerOneMillion': 0}, {'updated': 1751205289499, 'country': 'Micronesia', 'countryInfo': {'_id': 583, 'iso2': 'FM', 'iso3': 'FSM', 'lat': 6.9167, 'long': 158.25, 'flag': 'https://disease.sh/assets/img/flags/fm.png'}, 'cases': 26547, 'todayCases': 0, 'deaths': 65, 'todayDeaths': 0, 'recovered': 0, 'todayRecovered': 0, 'active': 26482, 'critical': 0, 'casesPerOneMillion': 225953, 'deathsPerOneMillion': 553, 'tests': 82430, 'testsPerOneMillion': 701598, 'population': 117489, 'continent': 'Australia-Oceania', 'oneCasePerPeople': 4, 'oneDeathPerPeople': 1808, 'oneTestPerPeople': 1, 'activePerOneMillion': 225399.82, 'recoveredPerOneMillion': 0, 'criticalPerOneMillion': 0}, {'updated': 1751205289353, 'country': 'Moldova', 'countryInfo': {'_id': 498, 'iso2': 'MD', 'iso3': 'MDA', 'lat': 47, 'long': 29, 'flag': 'https://disease.sh/assets/img/flags/md.png'}, 'cases': 635145, 'todayCases': 0, 'deaths': 12218, 'todayDeaths': 0, 'recovered': 0, 'todayRecovered': 0, 'active': 622927, 'critical': 0, 'casesPerOneMillion': 158265, 'deathsPerOneMillion': 3044, 'tests': 3216305, 'testsPerOneMillion': 801437, 'population': 4013171, 'continent': 'Europe', 'oneCasePerPeople': 6, 'oneDeathPerPeople': 328, 'oneTestPerPeople': 1, 'activePerOneMillion': 155220.65, 'recoveredPerOneMillion': 0, 'criticalPerOneMillion': 0}, {'updated': 1751205289514, 'country': 'Monaco', 'countryInfo': {'_id': 492, 'iso2': 'MC', 'iso3': 'MCO', 'lat': 43.7333, 'long': 7.4, 'flag': 'https://disease.sh/assets/img/flags/mc.png'}, 'cases': 17181, 'todayCases': 0, 'deaths': 67, 'todayDeaths': 0, 'recovered': 0, 'todayRecovered': 0, 'active': 17114, 'critical': 0, 'casesPerOneMillion': 431868, 'deathsPerOneMillion': 1684, 'tests': 78646, 'testsPerOneMillion': 1976875, 'population': 39783, 'continent': 'Europe', 'oneCasePerPeople': 2, 'oneDeathPerPeople': 594, 'oneTestPerPeople': 1, 'activePerOneMillion': 430183.75, 'recoveredPerOneMillion': 0, 'criticalPerOneMillion': 0}, {'updated': 1751205289336, 'country': 'Mongolia', 'countryInfo': {'_id': 496, 'iso2': 'MN', 'iso3': 'MNG', 'lat': 46, 'long': 105, 'flag': 'https://disease.sh/assets/img/flags/mn.png'}, 'cases': 1011496, 'todayCases': 0, 'deaths': 2284, 'todayDeaths': 0, 'recovered': 1009212, 'todayRecovered': 0, 'active': 0, 'critical': 0, 'casesPerOneMillion': 299429, 'deathsPerOneMillion': 676, 'tests': 4030048, 'testsPerOneMillion': 1193000, 'population': 3378078, 'continent': 'Asia', 'oneCasePerPeople': 3, 'oneDeathPerPeople': 1479, 'oneTestPerPeople': 1, 'activePerOneMillion': 0, 'recoveredPerOneMillion': 298753.31, 'criticalPerOneMillion': 0}, {'updated': 1751205289390, 'country': 'Montenegro', 'countryInfo': {'_id': 499, 'iso2': 'ME', 'iso3': 'MNE', 'lat': 42, 'long': 19, 'flag': 'https://disease.sh/assets/img/flags/me.png'}, 'cases': 296542, 'todayCases': 0, 'deaths': 2846, 'todayDeaths': 0, 'recovered': 291794, 'todayRecovered': 0, 'active': 1902, 'critical': 0, 'casesPerOneMillion': 472238, 'deathsPerOneMillion': 4532, 'tests': 2769281, 'testsPerOneMillion': 4410034, 'population': 627950, 'continent': 'Europe', 'oneCasePerPeople': 2, 'oneDeathPerPeople': 221, 'oneTestPerPeople': 0, 'activePerOneMillion': 3028.9, 'recoveredPerOneMillion': 464677.12, 'criticalPerOneMillion': 0}, {'updated': 1751205289559, 'country': 'Montserrat', 'countryInfo': {'_id': 500, 'iso2': 'MS', 'iso3': 'MSR', 'lat': 16.75, 'long': -62.2, 'flag': 'https://disease.sh/assets/img/flags/ms.png'}, 'cases': 1403, 'todayCases': 0, 'deaths': 8, 'todayDeaths': 0, 'recovered': 1376, 'todayRecovered': 0, 'active': 19, 'critical': 0, 'casesPerOneMillion': 282578, 'deathsPerOneMillion': 1611, 'tests': 17762, 'testsPerOneMillion': 3577442, 'population': 4965, 'continent': 'North America', 'oneCasePerPeople': 4, 'oneDeathPerPeople': 621, 'oneTestPerPeople': 0, 'activePerOneMillion': 3826.79, 'recoveredPerOneMillion': 277139.98, 'criticalPerOneMillion': 0}, {'updated': 1751205289323, 'country': 'Morocco', 'countryInfo': {'_id': 504, 'iso2': 'MA', 'iso3': 'MAR', 'lat': 32, 'long': -5, 'flag': 'https://disease.sh/assets/img/flags/ma.png'}, 'cases': 1278992, 'todayCases': 0, 'deaths': 16303, 'todayDeaths': 0, 'recovered': 0, 'todayRecovered': 0, 'active': 1262689, 'critical': 0, 'casesPerOneMillion': 33860, 'deathsPerOneMillion': 432, 'tests': 13001033, 'testsPerOneMillion': 344191, 'population': 37772756, 'continent': 'Africa', 'oneCasePerPeople': 30, 'oneDeathPerPeople': 2317, 'oneTestPerPeople': 3, 'activePerOneMillion': 33428.56, 'recoveredPerOneMillion': 0, 'criticalPerOneMillion': 0}, {'updated': 1751205289401, 'country': 'Mozambique', 'countryInfo': {'_id': 508, 'iso2': 'MZ', 'iso3': 'MOZ', 'lat': -18.25, 'long': 35, 'flag': 'https://disease.sh/assets/img/flags/mz.png'}, 'cases': 233731, 'todayCases': 0, 'deaths': 2250, 'todayDeaths': 0, 'recovered': 228805, 'todayRecovered': 0, 'active': 2676, 'critical': 11, 'casesPerOneMillion': 7064, 'deathsPerOneMillion': 68, 'tests': 1371127, 'testsPerOneMillion': 41437, 'population': 33089461, 'continent': 'Africa', 'oneCasePerPeople': 142, 'oneDeathPerPeople': 14706, 'oneTestPerPeople': 24, 'activePerOneMillion': 80.87, 'recoveredPerOneMillion': 6914.74, 'criticalPerOneMillion': 0.33}, {'updated': 1751205289352, 'country': 'Myanmar', 'countryInfo': {'_id': 104, 'iso2': 'MM', 'iso3': 'MMR', 'lat': 22, 'long': 98, 'flag': 'https://disease.sh/assets/img/flags/mm.png'}, 'cases': 641873, 'todayCases': 0, 'deaths': 19495, 'todayDeaths': 0, 'recovered': 620159, 'todayRecovered': 0, 'active': 2219, 'critical': 0, 'casesPerOneMillion': 11622, 'deathsPerOneMillion': 353, 'tests': 11711514, 'testsPerOneMillion': 212061, 'population': 55227143, 'continent': 'Asia', 'oneCasePerPeople': 86, 'oneDeathPerPeople': 2833, 'oneTestPerPeople': 5, 'activePerOneMillion': 40.18, 'recoveredPerOneMillion': 11229.24, 'criticalPerOneMillion': 0}, {'updated': 1751205289266, 'country': 'N. Korea', 'countryInfo': {'_id': 408, 'iso2': 'KP', 'iso3': 'PRK', 'lat': 40, 'long': 127, 'flag': 'https://disease.sh/assets/img/flags/kp.png'}, 'cases': 4772813, 'todayCases': 0, 'deaths': 74, 'todayDeaths': 0, 'recovered': 4772739, 'todayRecovered': 0, 'active': 0, 'critical': 0, 'casesPerOneMillion': 183636, 'deathsPerOneMillion': 3, 'tests': 0, 'testsPerOneMillion': 0, 'population': 25990679, 'continent': 'Asia', 'oneCasePerPeople': 5, 'oneDeathPerPeople': 351225, 'oneTestPerPeople': 0, 'activePerOneMillion': 0, 'recoveredPerOneMillion': 183632.72, 'criticalPerOneMillion': 0}, {'updated': 1751205289417, 'country': 'Namibia', 'countryInfo': {'_id': 516, 'iso2': 'NA', 'iso3': 'NAM', 'lat': -22, 'long': 17, 'flag': 'https://disease.sh/assets/img/flags/na.png'}, 'cases': 172389, 'todayCases': 0, 'deaths': 4106, 'todayDeaths': 0, 'recovered': 167099, 'todayRecovered': 0, 'active': 1184, 'critical': 0, 'casesPerOneMillion': 65451, 'deathsPerOneMillion': 1559, 'tests': 1062663, 'testsPerOneMillion': 403460, 'population': 2633874, 'continent': 'Africa', 'oneCasePerPeople': 15, 'oneDeathPerPeople': 641, 'oneTestPerPeople': 2, 'activePerOneMillion': 449.53, 'recoveredPerOneMillion': 63442.29, 'criticalPerOneMillion': 0}, {'updated': 1751205289549, 'country': 'Nauru', 'countryInfo': {'_id': 520, 'iso2': 'NR', 'iso3': 'NRU', 'lat': -0.5333, 'long': 166.9167, 'flag': 'https://disease.sh/assets/img/flags/nr.png'}, 'cases': 5393, 'todayCases': 0, 'deaths': 1, 'todayDeaths': 0, 'recovered': 5347, 'todayRecovered': 0, 'active': 45, 'critical': 0, 'casesPerOneMillion': 494635, 'deathsPerOneMillion': 92, 'tests': 20509, 'testsPerOneMillion': 1881042, 'population': 10903, 'continent': 'Australia-Oceania', 'oneCasePerPeople': 2, 'oneDeathPerPeople': 10903, 'oneTestPerPeople': 1, 'activePerOneMillion': 4127.3, 'recoveredPerOneMillion': 490415.48, 'criticalPerOneMillion': 0}, {'updated': 1751205289337, 'country': 'Nepal', 'countryInfo': {'_id': 524, 'iso2': 'NP', 'iso3': 'NPL', 'lat': 28, 'long': 84, 'flag': 'https://disease.sh/assets/img/flags/np.png'}, 'cases': 1003450, 'todayCases': 0, 'deaths': 12031, 'todayDeaths': 0, 'recovered': 991322, 'todayRecovered': 0, 'active': 97, 'critical': 0, 'casesPerOneMillion': 33199, 'deathsPerOneMillion': 398, 'tests': 6047766, 'testsPerOneMillion': 200088, 'population': 30225582, 'continent': 'Asia', 'oneCasePerPeople': 30, 'oneDeathPerPeople': 2512, 'oneTestPerPeople': 5, 'activePerOneMillion': 3.21, 'recoveredPerOneMillion': 32797.45, 'criticalPerOneMillion': 0}, {'updated': 1751205289233, 'country': 'Netherlands', 'countryInfo': {'_id': 528, 'iso2': 'NL', 'iso3': 'NLD', 'lat': 52.5, 'long': 5.75, 'flag': 'https://disease.sh/assets/img/flags/nl.png'}, 'cases': 8635786, 'todayCases': 0, 'deaths': 22992, 'todayDeaths': 0, 'recovered': 8612599, 'todayRecovered': 0, 'active': 195, 'critical': 0, 'casesPerOneMillion': 501747, 'deathsPerOneMillion': 1336, 'tests': 25984435, 'testsPerOneMillion': 1509718, 'population': 17211447, 'continent': 'Europe', 'oneCasePerPeople': 2, 'oneDeathPerPeople': 749, 'oneTestPerPeople': 1, 'activePerOneMillion': 11.33, 'recoveredPerOneMillion': 500399.47, 'criticalPerOneMillion': 0}, {'updated': 1751205289446, 'country': 'New Caledonia', 'countryInfo': {'_id': 540, 'iso2': 'NC', 'iso3': 'NCL', 'lat': -21.5, 'long': 165.5, 'flag': 'https://disease.sh/assets/img/flags/nc.png'}, 'cases': 80064, 'todayCases': 0, 'deaths': 314, 'todayDeaths': 0, 'recovered': 0, 'todayRecovered': 0, 'active': 79750, 'critical': 0, 'casesPerOneMillion': 275214, 'deathsPerOneMillion': 1079, 'tests': 98964, 'testsPerOneMillion': 340182, 'population': 290915, 'continent': 'Australia-Oceania', 'oneCasePerPeople': 4, 'oneDeathPerPeople': 926, 'oneTestPerPeople': 3, 'activePerOneMillion': 274135.06, 'recoveredPerOneMillion': 0, 'criticalPerOneMillion': 0}, {'updated': 1751205289303, 'country': 'New Zealand', 'countryInfo': {'_id': 554, 'iso2': 'NZ', 'iso3': 'NZL', 'lat': -41, 'long': 174, 'flag': 'https://disease.sh/assets/img/flags/nz.png'}, 'cases': 2621111, 'todayCases': 0, 'deaths': 5697, 'todayDeaths': 0, 'recovered': 2613791, 'todayRecovered': 0, 'active': 1623, 'critical': 0, 'casesPerOneMillion': 535117, 'deathsPerOneMillion': 1163, 'tests': 7768604, 'testsPerOneMillion': 1586011, 'population': 4898203, 'continent': 'Australia-Oceania', 'oneCasePerPeople': 2, 'oneDeathPerPeople': 860, 'oneTestPerPeople': 1, 'activePerOneMillion': 331.35, 'recoveredPerOneMillion': 533622.43, 'criticalPerOneMillion': 0}, {'updated': 1751205289511, 'country': 'Nicaragua', 'countryInfo': {'_id': 558, 'iso2': 'NI', 'iso3': 'NIC', 'lat': 13, 'long': -85, 'flag': 'https://disease.sh/assets/img/flags/ni.png'}, 'cases': 18491, 'todayCases': 0, 'deaths': 225, 'todayDeaths': 0, 'recovered': 4225, 'todayRecovered': 0, 'active': 14041, 'critical': 0, 'casesPerOneMillion': 2728, 'deathsPerOneMillion': 33, 'tests': 0, 'testsPerOneMillion': 0, 'population': 6779100, 'continent': 'North America', 'oneCasePerPeople': 367, 'oneDeathPerPeople': 30129, 'oneTestPerPeople': 0, 'activePerOneMillion': 2071.22, 'recoveredPerOneMillion': 623.24, 'criticalPerOneMillion': 0}, {'updated': 1751205289532, 'country': 'Niger', 'countryInfo': {'_id': 562, 'iso2': 'NE', 'iso3': 'NER', 'lat': 16, 'long': 8, 'flag': 'https://disease.sh/assets/img/flags/ne.png'}, 'cases': 9931, 'todayCases': 0, 'deaths': 312, 'todayDeaths': 0, 'recovered': 8890, 'todayRecovered': 0, 'active': 729, 'critical': 1, 'casesPerOneMillion': 381, 'deathsPerOneMillion': 12, 'tests': 254538, 'testsPerOneMillion': 9759, 'population': 26083660, 'continent': 'Africa', 'oneCasePerPeople': 2626, 'oneDeathPerPeople': 83601, 'oneTestPerPeople': 102, 'activePerOneMillion': 27.95, 'recoveredPerOneMillion': 340.83, 'criticalPerOneMillion': 0.04}, {'updated': 1751205289393, 'country': 'Nigeria', 'countryInfo': {'_id': 566, 'iso2': 'NG', 'iso3': 'NGA', 'lat': 10, 'long': 8, 'flag': 'https://disease.sh/assets/img/flags/ng.png'}, 'cases': 267188, 'todayCases': 0, 'deaths': 3155, 'todayDeaths': 0, 'recovered': 259953, 'todayRecovered': 0, 'active': 4080, 'critical': 11, 'casesPerOneMillion': 1233, 'deathsPerOneMillion': 15, 'tests': 5708974, 'testsPerOneMillion': 26339, 'population': 216746934, 'continent': 'Africa', 'oneCasePerPeople': 811, 'oneDeathPerPeople': 68700, 'oneTestPerPeople': 38, 'activePerOneMillion': 18.82, 'recoveredPerOneMillion': 1199.34, 'criticalPerOneMillion': 0.05}, {'updated': 1751205289560, 'country': 'Niue', 'countryInfo': {'_id': 570, 'iso2': 'NU', 'iso3': 'NIU', 'lat': -19.0333, 'long': -169.8667, 'flag': 'https://disease.sh/assets/img/flags/nu.png'}, 'cases': 1059, 'todayCases': 0, 'deaths': 0, 'todayDeaths': 0, 'recovered': 1056, 'todayRecovered': 0, 'active': 3, 'critical': 0, 'casesPerOneMillion': 652898, 'deathsPerOneMillion': 0, 'tests': 0, 'testsPerOneMillion': 0, 'population': 1622, 'continent': 'Australia-Oceania', 'oneCasePerPeople': 2, 'oneDeathPerPeople': 0, 'oneTestPerPeople': 0, 'activePerOneMillion': 1849.57, 'recoveredPerOneMillion': 651048.09, 'criticalPerOneMillion': 0}, {'updated': 1751205289315, 'country': 'Norway', 'countryInfo': {'_id': 578, 'iso2': 'NO', 'iso3': 'NOR', 'lat': 62, 'long': 10, 'flag': 'https://disease.sh/assets/img/flags/no.png'}, 'cases': 1509732, 'todayCases': 0, 'deaths': 6638, 'todayDeaths': 0, 'recovered': 1503094, 'todayRecovered': 0, 'active': 0, 'critical': 0, 'casesPerOneMillion': 273930, 'deathsPerOneMillion': 1204, 'tests': 11002430, 'testsPerOneMillion': 1996315, 'population': 5511370, 'continent': 'Europe', 'oneCasePerPeople': 4, 'oneDeathPerPeople': 830, 'oneTestPerPeople': 1, 'activePerOneMillion': 0, 'recoveredPerOneMillion': 272726.02, 'criticalPerOneMillion': 0}, {'updated': 1751205289372, 'country': 'Oman', 'countryInfo': {'_id': 512, 'iso2': 'OM', 'iso3': 'OMN', 'lat': 21, 'long': 57, 'flag': 'https://disease.sh/assets/img/flags/om.png'}, 'cases': 399449, 'todayCases': 0, 'deaths': 4628, 'todayDeaths': 0, 'recovered': 0, 'todayRecovered': 0, 'active': 394821, 'critical': 0, 'casesPerOneMillion': 75028, 'deathsPerOneMillion': 869, 'tests': 25000000, 'testsPerOneMillion': 4695724, 'population': 5323993, 'continent': 'Asia', 'oneCasePerPeople': 13, 'oneDeathPerPeople': 1150, 'oneTestPerPeople': 0, 'activePerOneMillion': 74158.81, 'recoveredPerOneMillion': 0, 'criticalPerOneMillion': 0}, {'updated': 1751205289313, 'country': 'Pakistan', 'countryInfo': {'_id': 586, 'iso2': 'PK', 'iso3': 'PAK', 'lat': 30, 'long': 70, 'flag': 'https://disease.sh/assets/img/flags/pk.png'}, 'cases': 1581936, 'todayCases': 0, 'deaths': 30664, 'todayDeaths': 0, 'recovered': 1538689, 'todayRecovered': 0, 'active': 12583, 'critical': 0, 'casesPerOneMillion': 6893, 'deathsPerOneMillion': 134, 'tests': 30589153, 'testsPerOneMillion': 133292, 'population': 229488994, 'continent': 'Asia', 'oneCasePerPeople': 145, 'oneDeathPerPeople': 7484, 'oneTestPerPeople': 8, 'activePerOneMillion': 54.83, 'recoveredPerOneMillion': 6704.85, 'criticalPerOneMillion': 0}, {'updated': 1751205289547, 'country': 'Palau', 'countryInfo': {'_id': 585, 'iso2': 'PW', 'iso3': 'PLW', 'lat': 7.5, 'long': 134.5, 'flag': 'https://disease.sh/assets/img/flags/pw.png'}, 'cases': 6290, 'todayCases': 0, 'deaths': 10, 'todayDeaths': 0, 'recovered': 6276, 'todayRecovered': 0, 'active': 4, 'critical': 0, 'casesPerOneMillion': 344979, 'deathsPerOneMillion': 548, 'tests': 71434, 'testsPerOneMillion': 3917841, 'population': 18233, 'continent': 'Australia-Oceania', 'oneCasePerPeople': 3, 'oneDeathPerPeople': 1823, 'oneTestPerPeople': 0, 'activePerOneMillion': 219.38, 'recoveredPerOneMillion': 344211.05, 'criticalPerOneMillion': 0}, {'updated': 1751205289356, 'country': 'Palestine', 'countryInfo': {'_id': 275, 'iso2': 'PS', 'iso3': 'PSE', 'lat': 32, 'long': 35.25, 'flag': 'https://disease.sh/assets/img/flags/ps.png'}, 'cases': 621008, 'todayCases': 0, 'deaths': 5404, 'todayDeaths': 0, 'recovered': 615445, 'todayRecovered': 0, 'active': 159, 'critical': 0, 'casesPerOneMillion': 116173, 'deathsPerOneMillion': 1011, 'tests': 3078533, 'testsPerOneMillion': 575907, 'population': 5345541, 'continent': 'Asia', 'oneCasePerPeople': 9, 'oneDeathPerPeople': 989, 'oneTestPerPeople': 2, 'activePerOneMillion': 29.74, 'recoveredPerOneMillion': 115132.41, 'criticalPerOneMillion': 0}, {'updated': 1751205289334, 'country': 'Panama', 'countryInfo': {'_id': 591, 'iso2': 'PA', 'iso3': 'PAN', 'lat': 9, 'long': -80, 'flag': 'https://disease.sh/assets/img/flags/pa.png'}, 'cases': 1059893, 'todayCases': 0, 'deaths': 8727, 'todayDeaths': 0, 'recovered': 1051102, 'todayRecovered': 0, 'active': 64, 'critical': 16, 'casesPerOneMillion': 238341, 'deathsPerOneMillion': 1962, 'tests': 7882622, 'testsPerOneMillion': 1772585, 'population': 4446964, 'continent': 'North America', 'oneCasePerPeople': 4, 'oneDeathPerPeople': 510, 'oneTestPerPeople': 1, 'activePerOneMillion': 14.39, 'recoveredPerOneMillion': 236363.96, 'criticalPerOneMillion': 3.6}, {'updated': 1751205289473, 'country': 'Papua New Guinea', 'countryInfo': {'_id': 598, 'iso2': 'PG', 'iso3': 'PNG', 'lat': -6, 'long': 147, 'flag': 'https://disease.sh/assets/img/flags/pg.png'}, 'cases': 46864, 'todayCases': 0, 'deaths': 670, 'todayDeaths': 0, 'recovered': 46168, 'todayRecovered': 0, 'active': 26, 'critical': 0, 'casesPerOneMillion': 5043, 'deathsPerOneMillion': 72, 'tests': 249149, 'testsPerOneMillion': 26813, 'population': 9292169, 'continent': 'Australia-Oceania', 'oneCasePerPeople': 198, 'oneDeathPerPeople': 13869, 'oneTestPerPeople': 37, 'activePerOneMillion': 2.8, 'recoveredPerOneMillion': 4968.48, 'criticalPerOneMillion': 0}, {'updated': 1751205289343, 'country': 'Paraguay', 'countryInfo': {'_id': 600, 'iso2': 'PY', 'iso3': 'PRY', 'lat': -23, 'long': -58, 'flag': 'https://disease.sh/assets/img/flags/py.png'}, 'cases': 837602, 'todayCases': 0, 'deaths': 20155, 'todayDeaths': 0, 'recovered': 0, 'todayRecovered': 0, 'active': 817447, 'critical': 0, 'casesPerOneMillion': 114648, 'deathsPerOneMillion': 2759, 'tests': 2657506, 'testsPerOneMillion': 363751, 'population': 7305843, 'continent': 'South America', 'oneCasePerPeople': 9, 'oneDeathPerPeople': 362, 'oneTestPerPeople': 3, 'activePerOneMillion': 111889.48, 'recoveredPerOneMillion': 0, 'criticalPerOneMillion': 0}, {'updated': 1751205289277, 'country': 'Peru', 'countryInfo': {'_id': 604, 'iso2': 'PE', 'iso3': 'PER', 'lat': -10, 'long': -76, 'flag': 'https://disease.sh/assets/img/flags/pe.png'}, 'cases': 4572667, 'todayCases': 0, 'deaths': 222161, 'todayDeaths': 0, 'recovered': 4350506, 'todayRecovered': 0, 'active': 0, 'critical': 4, 'casesPerOneMillion': 135751, 'deathsPerOneMillion': 6595, 'tests': 39010194, 'testsPerOneMillion': 1158115, 'population': 33684208, 'continent': 'South America', 'oneCasePerPeople': 7, 'oneDeathPerPeople': 152, 'oneTestPerPeople': 1, 'activePerOneMillion': 0, 'recoveredPerOneMillion': 129155.66, 'criticalPerOneMillion': 0.12}, {'updated': 1751205289282, 'country': 'Philippines', 'countryInfo': {'_id': 608, 'iso2': 'PH', 'iso3': 'PHL', 'lat': 13, 'long': 122, 'flag': 'https://disease.sh/assets/img/flags/ph.png'}, 'cases': 4140383, 'todayCases': 0, 'deaths': 66864, 'todayDeaths': 0, 'recovered': 4067381, 'todayRecovered': 0, 'active': 6138, 'critical': 0, 'casesPerOneMillion': 36800, 'deathsPerOneMillion': 594, 'tests': 36102746, 'testsPerOneMillion': 320888, 'population': 112508994, 'continent': 'Asia', 'oneCasePerPeople': 27, 'oneDeathPerPeople': 1683, 'oneTestPerPeople': 3, 'activePerOneMillion': 54.56, 'recoveredPerOneMillion': 36151.61, 'criticalPerOneMillion': 0}, {'updated': 1751205289241, 'country': 'Poland', 'countryInfo': {'_id': 616, 'iso2': 'PL', 'iso3': 'POL', 'lat': 52, 'long': 20, 'flag': 'https://disease.sh/assets/img/flags/pl.png'}, 'cases': 6661991, 'todayCases': 0, 'deaths': 120598, 'todayDeaths': 0, 'recovered': 0, 'todayRecovered': 0, 'active': 6541393, 'critical': 0, 'casesPerOneMillion': 176524, 'deathsPerOneMillion': 3196, 'tests': 39323709, 'testsPerOneMillion': 1041970, 'population': 37739785, 'continent': 'Europe', 'oneCasePerPeople': 6, 'oneDeathPerPeople': 313, 'oneTestPerPeople': 1, 'activePerOneMillion': 173328.84, 'recoveredPerOneMillion': 0, 'criticalPerOneMillion': 0}, {'updated': 1751205289251, 'country': 'Portugal', 'countryInfo': {'_id': 620, 'iso2': 'PT', 'iso3': 'PRT', 'lat': 39.5, 'long': -8, 'flag': 'https://disease.sh/assets/img/flags/pt.png'}, 'cases': 5643062, 'todayCases': 0, 'deaths': 28126, 'todayDeaths': 0, 'recovered': 5614809, 'todayRecovered': 0, 'active': 127, 'critical': 61, 'casesPerOneMillion': 556484, 'deathsPerOneMillion': 2774, 'tests': 46139518, 'testsPerOneMillion': 4549993, 'population': 10140570, 'continent': 'Europe', 'oneCasePerPeople': 2, 'oneDeathPerPeople': 361, 'oneTestPerPeople': 0, 'activePerOneMillion': 12.52, 'recoveredPerOneMillion': 553697.57, 'criticalPerOneMillion': 6.02}, {'updated': 1751205289359, 'country': 'Qatar', 'countryInfo': {'_id': 634, 'iso2': 'QA', 'iso3': 'QAT', 'lat': 25.5, 'long': 51.25, 'flag': 'https://disease.sh/assets/img/flags/qa.png'}, 'cases': 514524, 'todayCases': 0, 'deaths': 690, 'todayDeaths': 0, 'recovered': 513687, 'todayRecovered': 0, 'active': 147, 'critical': 16, 'casesPerOneMillion': 172664, 'deathsPerOneMillion': 232, 'tests': 4065369, 'testsPerOneMillion': 1364257, 'population': 2979915, 'continent': 'Asia', 'oneCasePerPeople': 6, 'oneDeathPerPeople': 4319, 'oneTestPerPeople': 1, 'activePerOneMillion': 49.33, 'recoveredPerOneMillion': 172383.1, 'criticalPerOneMillion': 5.37}, {'updated': 1751205289286, 'country': 'Romania', 'countryInfo': {'_id': 642, 'iso2': 'RO', 'iso3': 'ROU', 'lat': 46, 'long': 25, 'flag': 'https://disease.sh/assets/img/flags/ro.png'}, 'cases': 3529735, 'todayCases': 0, 'deaths': 68929, 'todayDeaths': 0, 'recovered': 3460149, 'todayRecovered': 390, 'active': 657, 'critical': 21, 'casesPerOneMillion': 185470, 'deathsPerOneMillion': 3622, 'tests': 28758667, 'testsPerOneMillion': 1511122, 'population': 19031335, 'continent': 'Europe', 'oneCasePerPeople': 5, 'oneDeathPerPeople': 276, 'oneTestPerPeople': 1, 'activePerOneMillion': 34.52, 'recoveredPerOneMillion': 181813.26, 'criticalPerOneMillion': 1.1}, {'updated': 1751205289218, 'country': 'Russia', 'countryInfo': {'_id': 643, 'iso2': 'RU', 'iso3': 'RUS', 'lat': 60, 'long': 100, 'flag': 'https://disease.sh/assets/img/flags/ru.png'}, 'cases': 24124215, 'todayCases': 0, 'deaths': 402756, 'todayDeaths': 0, 'recovered': 23545818, 'todayRecovered': 0, 'active': 175641, 'critical': 0, 'casesPerOneMillion': 165454, 'deathsPerOneMillion': 2762, 'tests': 273400000, 'testsPerOneMillion': 1875095, 'population': 145805947, 'continent': 'Europe', 'oneCasePerPeople': 6, 'oneDeathPerPeople': 362, 'oneTestPerPeople': 1, 'activePerOneMillion': 1204.62, 'recoveredPerOneMillion': 161487.36, 'criticalPerOneMillion': 0}, {'updated': 1751205289426, 'country': 'Rwanda', 'countryInfo': {'_id': 646, 'iso2': 'RW', 'iso3': 'RWA', 'lat': -2, 'long': 30, 'flag': 'https://disease.sh/assets/img/flags/rw.png'}, 'cases': 133518, 'todayCases': 0, 'deaths': 1468, 'todayDeaths': 0, 'recovered': 132039, 'todayRecovered': 0, 'active': 11, 'critical': 0, 'casesPerOneMillion': 9817, 'deathsPerOneMillion': 108, 'tests': 6021981, 'testsPerOneMillion': 442778, 'population': 13600464, 'continent': 'Africa', 'oneCasePerPeople': 102, 'oneDeathPerPeople': 9265, 'oneTestPerPeople': 2, 'activePerOneMillion': 0.81, 'recoveredPerOneMillion': 9708.42, 'criticalPerOneMillion': 0}, {'updated': 1751205289364, 'country': 'Réunion', 'countryInfo': {'_id': 638, 'iso2': 'RE', 'iso3': 'REU', 'lat': -21.1, 'long': 55.6, 'flag': 'https://disease.sh/assets/img/flags/re.png'}, 'cases': 494595, 'todayCases': 0, 'deaths': 921, 'todayDeaths': 0, 'recovered': 0, 'todayRecovered': 0, 'active': 493674, 'critical': 0, 'casesPerOneMillion': 544672, 'deathsPerOneMillion': 1014, 'tests': 1603660, 'testsPerOneMillion': 1766027, 'population': 908061, 'continent': 'Africa', 'oneCasePerPeople': 2, 'oneDeathPerPeople': 986, 'oneTestPerPeople': 1, 'activePerOneMillion': 543657.31, 'recoveredPerOneMillion': 0, 'criticalPerOneMillion': 0}, {'updated': 1751205289212, 'country': 'S. Korea', 'countryInfo': {'_id': 410, 'iso2': 'KR', 'iso3': 'KOR', 'lat': 37, 'long': 127.5, 'flag': 'https://disease.sh/assets/img/flags/kr.png'}, 'cases': 34571873, 'todayCases': 0, 'deaths': 35934, 'todayDeaths': 0, 'recovered': 34535939, 'todayRecovered': 0, 'active': 0, 'critical': 0, 'casesPerOneMillion': 673523, 'deathsPerOneMillion': 700, 'tests': 15804065, 'testsPerOneMillion': 307892, 'population': 51329899, 'continent': 'Asia', 'oneCasePerPeople': 1, 'oneDeathPerPeople': 1428, 'oneTestPerPeople': 3, 'activePerOneMillion': 0, 'recoveredPerOneMillion': 672823.05, 'criticalPerOneMillion': 0}, {'updated': 1751205289555, 'country': 'Saint Helena', 'countryInfo': {'_id': 654, 'iso2': 'SH', 'iso3': 'SHN', 'lat': -15.9333, 'long': -5.7, 'flag': 'https://disease.sh/assets/img/flags/sh.png'}, 'cases': 2166, 'todayCases': 0, 'deaths': 0, 'todayDeaths': 0, 'recovered': 2, 'todayRecovered': 0, 'active': 2164, 'critical': 0, 'casesPerOneMillion': 354211, 'deathsPerOneMillion': 0, 'tests': 0, 'testsPerOneMillion': 0, 'population': 6115, 'continent': 'Africa', 'oneCasePerPeople': 3, 'oneDeathPerPeople': 0, 'oneTestPerPeople': 0, 'activePerOneMillion': 353883.89, 'recoveredPerOneMillion': 327.06, 'criticalPerOneMillion': 0}, {'updated': 1751205289546, 'country': 'Saint Kitts and Nevis', 'countryInfo': {'_id': 659, 'iso2': 'KN', 'iso3': 'KNA', 'lat': 17.3333, 'long': -62.75, 'flag': 'https://disease.sh/assets/img/flags/kn.png'}, 'cases': 6607, 'todayCases': 0, 'deaths': 48, 'todayDeaths': 0, 'recovered': 6559, 'todayRecovered': 0, 'active': 0, 'critical': 0, 'casesPerOneMillion': 122645, 'deathsPerOneMillion': 891, 'tests': 126958, 'testsPerOneMillion': 2356704, 'population': 53871, 'continent': 'North America', 'oneCasePerPeople': 8, 'oneDeathPerPeople': 1122, 'oneTestPerPeople': 0, 'activePerOneMillion': 0, 'recoveredPerOneMillion': 121753.82, 'criticalPerOneMillion': 0}, {'updated': 1751205289495, 'country': 'Saint Lucia', 'countryInfo': {'_id': 662, 'iso2': 'LC', 'iso3': 'LCA', 'lat': 13.8833, 'long': -61.1333, 'flag': 'https://disease.sh/assets/img/flags/lc.png'}, 'cases': 30215, 'todayCases': 0, 'deaths': 410, 'todayDeaths': 0, 'recovered': 29805, 'todayRecovered': 0, 'active': 0, 'critical': 0, 'casesPerOneMillion': 163225, 'deathsPerOneMillion': 2215, 'tests': 210983, 'testsPerOneMillion': 1139752, 'population': 185113, 'continent': 'North America', 'oneCasePerPeople': 6, 'oneDeathPerPeople': 451, 'oneTestPerPeople': 1, 'activePerOneMillion': 0, 'recoveredPerOneMillion': 161009.76, 'criticalPerOneMillion': 0}, {'updated': 1751205289524, 'country': 'Saint Martin', 'countryInfo': {'_id': 663, 'iso2': 'MF', 'iso3': 'MAF', 'lat': 18.11, 'long': -63.03, 'flag': 'https://disease.sh/assets/img/flags/mf.png'}, 'cases': 12324, 'todayCases': 0, 'deaths': 63, 'todayDeaths': 0, 'recovered': 0, 'todayRecovered': 0, 'active': 12261, 'critical': 0, 'casesPerOneMillion': 310194, 'deathsPerOneMillion': 1586, 'tests': 112382, 'testsPerOneMillion': 2828643, 'population': 39730, 'continent': 'North America', 'oneCasePerPeople': 3, 'oneDeathPerPeople': 631, 'oneTestPerPeople': 0, 'activePerOneMillion': 308608.1, 'recoveredPerOneMillion': 0, 'criticalPerOneMillion': 0}, {'updated': 1751205289553, 'country': 'Saint Pierre Miquelon', 'countryInfo': {'_id': 666, 'iso2': 'PM', 'iso3': 'SPM', 'lat': 46.8333, 'long': -56.3333, 'flag': 'https://disease.sh/assets/img/flags/pm.png'}, 'cases': 3452, 'todayCases': 0, 'deaths': 2, 'todayDeaths': 0, 'recovered': 2449, 'todayRecovered': 0, 'active': 1001, 'critical': 0, 'casesPerOneMillion': 599410, 'deathsPerOneMillion': 347, 'tests': 25400, 'testsPerOneMillion': 4410488, 'population': 5759, 'continent': 'North America', 'oneCasePerPeople': 2, 'oneDeathPerPeople': 2880, 'oneTestPerPeople': 0, 'activePerOneMillion': 173814.9, 'recoveredPerOneMillion': 425247.44, 'criticalPerOneMillion': 0}, {'updated': 1751205289534, 'country': 'Saint Vincent and the Grenadines', 'countryInfo': {'_id': 670, 'iso2': 'VC', 'iso3': 'VCT', 'lat': 13.25, 'long': -61.2, 'flag': 'https://disease.sh/assets/img/flags/vc.png'}, 'cases': 9674, 'todayCases': 0, 'deaths': 124, 'todayDeaths': 0, 'recovered': 9493, 'todayRecovered': 0, 'active': 57, 'critical': 0, 'casesPerOneMillion': 86723, 'deathsPerOneMillion': 1112, 'tests': 114197, 'testsPerOneMillion': 1023720, 'population': 111551, 'continent': 'North America', 'oneCasePerPeople': 12, 'oneDeathPerPeople': 900, 'oneTestPerPeople': 1, 'activePerOneMillion': 510.98, 'recoveredPerOneMillion': 85100.09, 'criticalPerOneMillion': 0}, {'updated': 1751205289515, 'country': 'Samoa', 'countryInfo': {'_id': 882, 'iso2': 'WS', 'iso3': 'WSM', 'lat': -13.5833, 'long': -172.3333, 'flag': 'https://disease.sh/assets/img/flags/ws.png'}, 'cases': 17006, 'todayCases': 0, 'deaths': 31, 'todayDeaths': 0, 'recovered': 1605, 'todayRecovered': 0, 'active': 15370, 'critical': 0, 'casesPerOneMillion': 84089, 'deathsPerOneMillion': 153, 'tests': 187397, 'testsPerOneMillion': 926612, 'population': 202239, 'continent': 'Australia-Oceania', 'oneCasePerPeople': 12, 'oneDeathPerPeople': 6524, 'oneTestPerPeople': 1, 'activePerOneMillion': 75999.19, 'recoveredPerOneMillion': 7936.15, 'criticalPerOneMillion': 0}, {'updated': 1751205289500, 'country': 'San Marino', 'countryInfo': {'_id': 674, 'iso2': 'SM', 'iso3': 'SMR', 'lat': 43.7667, 'long': 12.4167, 'flag': 'https://disease.sh/assets/img/flags/sm.png'}, 'cases': 26185, 'todayCases': 0, 'deaths': 128, 'todayDeaths': 0, 'recovered': 26011, 'todayRecovered': 0, 'active': 46, 'critical': 0, 'casesPerOneMillion': 768226, 'deathsPerOneMillion': 3755, 'tests': 196855, 'testsPerOneMillion': 5775414, 'population': 34085, 'continent': 'Europe', 'oneCasePerPeople': 1, 'oneDeathPerPeople': 266, 'oneTestPerPeople': 0, 'activePerOneMillion': 1349.57, 'recoveredPerOneMillion': 763121.61, 'criticalPerOneMillion': 0}, {'updated': 1751205289544, 'country': 'Sao Tome and Principe', 'countryInfo': {'_id': 678, 'iso2': 'ST', 'iso3': 'STP', 'lat': 1, 'long': 7, 'flag': 'https://disease.sh/assets/img/flags/st.png'}, 'cases': 6778, 'todayCases': 0, 'deaths': 80, 'todayDeaths': 0, 'recovered': 6685, 'todayRecovered': 0, 'active': 13, 'critical': 0, 'casesPerOneMillion': 29770, 'deathsPerOneMillion': 351, 'tests': 29600, 'testsPerOneMillion': 130008, 'population': 227679, 'continent': 'Africa', 'oneCasePerPeople': 34, 'oneDeathPerPeople': 2846, 'oneTestPerPeople': 8, 'activePerOneMillion': 57.1, 'recoveredPerOneMillion': 29361.51, 'criticalPerOneMillion': 0}, {'updated': 1751205289341, 'country': 'Saudi Arabia', 'countryInfo': {'_id': 682, 'iso2': 'SA', 'iso3': 'SAU', 'lat': 25, 'long': 45, 'flag': 'https://disease.sh/assets/img/flags/sa.png'}, 'cases': 841469, 'todayCases': 0, 'deaths': 9646, 'todayDeaths': 0, 'recovered': 0, 'todayRecovered': 0, 'active': 831823, 'critical': 0, 'casesPerOneMillion': 23475, 'deathsPerOneMillion': 269, 'tests': 45481735, 'testsPerOneMillion': 1268848, 'population': 35844909, 'continent': 'Asia', 'oneCasePerPeople': 43, 'oneDeathPerPeople': 3716, 'oneTestPerPeople': 1, 'activePerOneMillion': 23206.17, 'recoveredPerOneMillion': 0, 'criticalPerOneMillion': 0}, {'updated': 1751205289441, 'country': 'Senegal', 'countryInfo': {'_id': 686, 'iso2': 'SN', 'iso3': 'SEN', 'lat': 14, 'long': -14, 'flag': 'https://disease.sh/assets/img/flags/sn.png'}, 'cases': 89053, 'todayCases': 0, 'deaths': 1971, 'todayDeaths': 0, 'recovered': 87024, 'todayRecovered': 0, 'active': 58, 'critical': 0, 'casesPerOneMillion': 5044, 'deathsPerOneMillion': 112, 'tests': 1146543, 'testsPerOneMillion': 64946, 'population': 17653671, 'continent': 'Africa', 'oneCasePerPeople': 198, 'oneDeathPerPeople': 8957, 'oneTestPerPeople': 15, 'activePerOneMillion': 3.29, 'recoveredPerOneMillion': 4929.51, 'criticalPerOneMillion': 0}, {'updated': 1751205289304, 'country': 'Serbia', 'countryInfo': {'_id': 688, 'iso2': 'RS', 'iso3': 'SRB', 'lat': 44, 'long': 21, 'flag': 'https://disease.sh/assets/img/flags/rs.png'}, 'cases': 2615054, 'todayCases': 0, 'deaths': 18057, 'todayDeaths': 0, 'recovered': 2596608, 'todayRecovered': 0, 'active': 389, 'critical': 0, 'casesPerOneMillion': 302213, 'deathsPerOneMillion': 2087, 'tests': 13463733, 'testsPerOneMillion': 1555958, 'population': 8653016, 'continent': 'Europe', 'oneCasePerPeople': 3, 'oneDeathPerPeople': 479, 'oneTestPerPeople': 1, 'activePerOneMillion': 44.96, 'recoveredPerOneMillion': 300081.27, 'criticalPerOneMillion': 0}, {'updated': 1751205289467, 'country': 'Seychelles', 'countryInfo': {'_id': 690, 'iso2': 'SC', 'iso3': 'SYC', 'lat': -4.5833, 'long': 55.6667, 'flag': 'https://disease.sh/assets/img/flags/sc.png'}, 'cases': 51220, 'todayCases': 0, 'deaths': 172, 'todayDeaths': 0, 'recovered': 51048, 'todayRecovered': 0, 'active': 0, 'critical': 0, 'casesPerOneMillion': 515157, 'deathsPerOneMillion': 1730, 'tests': 0, 'testsPerOneMillion': 0, 'population': 99426, 'continent': 'Africa', 'oneCasePerPeople': 2, 'oneDeathPerPeople': 578, 'oneTestPerPeople': 0, 'activePerOneMillion': 0, 'recoveredPerOneMillion': 513427.07, 'criticalPerOneMillion': 0}, {'updated': 1751205289539, 'country': 'Sierra Leone', 'countryInfo': {'_id': 694, 'iso2': 'SL', 'iso3': 'SLE', 'lat': 8.5, 'long': -11.5, 'flag': 'https://disease.sh/assets/img/flags/sl.png'}, 'cases': 7779, 'todayCases': 0, 'deaths': 126, 'todayDeaths': 0, 'recovered': 0, 'todayRecovered': 0, 'active': 7653, 'critical': 0, 'casesPerOneMillion': 937, 'deathsPerOneMillion': 15, 'tests': 259958, 'testsPerOneMillion': 31296, 'population': 8306436, 'continent': 'Africa', 'oneCasePerPeople': 1068, 'oneDeathPerPeople': 65924, 'oneTestPerPeople': 32, 'activePerOneMillion': 921.33, 'recoveredPerOneMillion': 0, 'criticalPerOneMillion': 0}, {'updated': 1751205289299, 'country': 'Singapore', 'countryInfo': {'_id': 702, 'iso2': 'SG', 'iso3': 'SGP', 'lat': 1.3667, 'long': 103.8, 'flag': 'https://disease.sh/assets/img/flags/sg.png'}, 'cases': 3006155, 'todayCases': 0, 'deaths': 2024, 'todayDeaths': 0, 'recovered': 3004131, 'todayRecovered': 0, 'active': 0, 'critical': 4, 'casesPerOneMillion': 505785, 'deathsPerOneMillion': 341, 'tests': 24756666, 'testsPerOneMillion': 4165302, 'population': 5943546, 'continent': 'Asia', 'oneCasePerPeople': 2, 'oneDeathPerPeople': 2937, 'oneTestPerPeople': 0, 'activePerOneMillion': 0, 'recoveredPerOneMillion': 505444.22, 'criticalPerOneMillion': 0.67}, {'updated': 1751205289530, 'country': 'Sint Maarten', 'countryInfo': {'_id': 534, 'iso2': 'SX', 'iso3': 'SXM', 'lat': 18.02, 'long': -63.06, 'flag': 'https://disease.sh/assets/img/flags/sx.png'}, 'cases': 11051, 'todayCases': 0, 'deaths': 92, 'todayDeaths': 0, 'recovered': 10905, 'todayRecovered': 0, 'active': 54, 'critical': 0, 'casesPerOneMillion': 251353, 'deathsPerOneMillion': 2093, 'tests': 62056, 'testsPerOneMillion': 1411454, 'population': 43966, 'continent': 'North America', 'oneCasePerPeople': 4, 'oneDeathPerPeople': 478, 'oneTestPerPeople': 1, 'activePerOneMillion': 1228.22, 'recoveredPerOneMillion': 248032.57, 'criticalPerOneMillion': 0}, {'updated': 1751205289309, 'country': 'Slovakia', 'countryInfo': {'_id': 703, 'iso2': 'SK', 'iso3': 'SVK', 'lat': 48.6667, 'long': 19.5, 'flag': 'https://disease.sh/assets/img/flags/sk.png'}, 'cases': 1877605, 'todayCases': 0, 'deaths': 21224, 'todayDeaths': 0, 'recovered': 1856381, 'todayRecovered': 0, 'active': 0, 'critical': 23, 'casesPerOneMillion': 343872, 'deathsPerOneMillion': 3887, 'tests': 7448789, 'testsPerOneMillion': 1364199, 'population': 5460193, 'continent': 'Europe', 'oneCasePerPeople': 3, 'oneDeathPerPeople': 257, 'oneTestPerPeople': 1, 'activePerOneMillion': 0, 'recoveredPerOneMillion': 339984.5, 'criticalPerOneMillion': 4.21}, {'updated': 1751205289318, 'country': 'Slovenia', 'countryInfo': {'_id': 705, 'iso2': 'SI', 'iso3': 'SVN', 'lat': 46, 'long': 15, 'flag': 'https://disease.sh/assets/img/flags/si.png'}, 'cases': 1356546, 'todayCases': 0, 'deaths': 7100, 'todayDeaths': 0, 'recovered': 1349424, 'todayRecovered': 0, 'active': 22, 'critical': 0, 'casesPerOneMillion': 652803, 'deathsPerOneMillion': 3417, 'tests': 2847701, 'testsPerOneMillion': 1370382, 'population': 2078034, 'continent': 'Europe', 'oneCasePerPeople': 2, 'oneDeathPerPeople': 293, 'oneTestPerPeople': 1, 'activePerOneMillion': 10.59, 'recoveredPerOneMillion': 649375.32, 'criticalPerOneMillion': 0}, {'updated': 1751205289501, 'country': 'Solomon Islands', 'countryInfo': {'_id': 90, 'iso2': 'SB', 'iso3': 'SLB', 'lat': -8, 'long': 159, 'flag': 'https://disease.sh/assets/img/flags/sb.png'}, 'cases': 25954, 'todayCases': 0, 'deaths': 199, 'todayDeaths': 0, 'recovered': 0, 'todayRecovered': 0, 'active': 25755, 'critical': 0, 'casesPerOneMillion': 35989, 'deathsPerOneMillion': 276, 'tests': 0, 'testsPerOneMillion': 0, 'population': 721159, 'continent': 'Australia-Oceania', 'oneCasePerPeople': 28, 'oneDeathPerPeople': 3624, 'oneTestPerPeople': 0, 'activePerOneMillion': 35713.34, 'recoveredPerOneMillion': 0, 'criticalPerOneMillion': 0}, {'updated': 1751205289498, 'country': 'Somalia', 'countryInfo': {'_id': 706, 'iso2': 'SO', 'iso3': 'SOM', 'lat': 10, 'long': 49, 'flag': 'https://disease.sh/assets/img/flags/so.png'}, 'cases': 27334, 'todayCases': 0, 'deaths': 1361, 'todayDeaths': 0, 'recovered': 13182, 'todayRecovered': 0, 'active': 12791, 'critical': 0, 'casesPerOneMillion': 1623, 'deathsPerOneMillion': 81, 'tests': 400466, 'testsPerOneMillion': 23778, 'population': 16841795, 'continent': 'Africa', 'oneCasePerPeople': 616, 'oneDeathPerPeople': 12375, 'oneTestPerPeople': 42, 'activePerOneMillion': 759.48, 'recoveredPerOneMillion': 782.7, 'criticalPerOneMillion': 0}, {'updated': 1751205289284, 'country': 'South Africa', 'countryInfo': {'_id': 710, 'iso2': 'ZA', 'iso3': 'ZAF', 'lat': -29, 'long': 24, 'flag': 'https://disease.sh/assets/img/flags/za.png'}, 'cases': 4076463, 'todayCases': 0, 'deaths': 102595, 'todayDeaths': 0, 'recovered': 3912506, 'todayRecovered': 0, 'active': 61362, 'critical': 192, 'casesPerOneMillion': 67095, 'deathsPerOneMillion': 1689, 'tests': 26795090, 'testsPerOneMillion': 441027, 'population': 60756135, 'continent': 'Africa', 'oneCasePerPeople': 15, 'oneDeathPerPeople': 592, 'oneTestPerPeople': 2, 'activePerOneMillion': 1009.97, 'recoveredPerOneMillion': 64396.89, 'criticalPerOneMillion': 3.16}, {'updated': 1751205289510, 'country': 'South Sudan', 'countryInfo': {'_id': 728, 'iso2': 'SS', 'iso3': 'SSD', 'lat': 6.8769, 'long': 31.3069, 'flag': 'https://disease.sh/assets/img/flags/ss.png'}, 'cases': 18819, 'todayCases': 0, 'deaths': 147, 'todayDeaths': 0, 'recovered': 18115, 'todayRecovered': 0, 'active': 557, 'critical': 1, 'casesPerOneMillion': 1620, 'deathsPerOneMillion': 13, 'tests': 410280, 'testsPerOneMillion': 35313, 'population': 11618511, 'continent': 'Africa', 'oneCasePerPeople': 617, 'oneDeathPerPeople': 79037, 'oneTestPerPeople': 28, 'activePerOneMillion': 47.94, 'recoveredPerOneMillion': 1559.15, 'criticalPerOneMillion': 0.09}, {'updated': 1751205289225, 'country': 'Spain', 'countryInfo': {'_id': 724, 'iso2': 'ES', 'iso3': 'ESP', 'lat': 40, 'long': -4, 'flag': 'https://disease.sh/assets/img/flags/es.png'}, 'cases': 13914811, 'todayCases': 0, 'deaths': 121760, 'todayDeaths': 0, 'recovered': 13762417, 'todayRecovered': 0, 'active': 30634, 'critical': 231, 'casesPerOneMillion': 297840, 'deathsPerOneMillion': 2606, 'tests': 471036328, 'testsPerOneMillion': 10082298, 'population': 46719142, 'continent': 'Europe', 'oneCasePerPeople': 3, 'oneDeathPerPeople': 384, 'oneTestPerPeople': 0, 'activePerOneMillion': 655.71, 'recoveredPerOneMillion': 294577.69, 'criticalPerOneMillion': 4.94}, {'updated': 1751205289350, 'country': 'Sri Lanka', 'countryInfo': {'_id': 144, 'iso2': 'LK', 'iso3': 'LKA', 'lat': 7, 'long': 81, 'flag': 'https://disease.sh/assets/img/flags/lk.png'}, 'cases': 672754, 'todayCases': 0, 'deaths': 16897, 'todayDeaths': 0, 'recovered': 655852, 'todayRecovered': 0, 'active': 5, 'critical': 0, 'casesPerOneMillion': 31181, 'deathsPerOneMillion': 783, 'tests': 6486117, 'testsPerOneMillion': 300619, 'population': 21575842, 'continent': 'Asia', 'oneCasePerPeople': 32, 'oneDeathPerPeople': 1277, 'oneTestPerPeople': 3, 'activePerOneMillion': 0.23, 'recoveredPerOneMillion': 30397.52, 'criticalPerOneMillion': 0}, {'updated': 1751205289548, 'country': 'St. Barth', 'countryInfo': {'_id': 652, 'iso2': 'BL', 'iso3': 'BLM', 'lat': 17.89, 'long': -62.82, 'flag': 'https://disease.sh/assets/img/flags/bl.png'}, 'cases': 5507, 'todayCases': 0, 'deaths': 6, 'todayDeaths': 0, 'recovered': 0, 'todayRecovered': 0, 'active': 5501, 'critical': 0, 'casesPerOneMillion': 553746, 'deathsPerOneMillion': 603, 'tests': 78646, 'testsPerOneMillion': 7908095, 'population': 9945, 'continent': 'North America', 'oneCasePerPeople': 2, 'oneDeathPerPeople': 1658, 'oneTestPerPeople': 0, 'activePerOneMillion': 553142.28, 'recoveredPerOneMillion': 0, 'criticalPerOneMillion': 0}, {'updated': 1751205289459, 'country': 'Sudan', 'countryInfo': {'_id': 729, 'iso2': 'SD', 'iso3': 'SDN', 'lat': 15, 'long': 30, 'flag': 'https://disease.sh/assets/img/flags/sd.png'}, 'cases': 63993, 'todayCases': 0, 'deaths': 5046, 'todayDeaths': 0, 'recovered': 58947, 'todayRecovered': 0, 'active': 0, 'critical': 0, 'casesPerOneMillion': 1391, 'deathsPerOneMillion': 110, 'tests': 562941, 'testsPerOneMillion': 12240, 'population': 45992020, 'continent': 'Africa', 'oneCasePerPeople': 719, 'oneDeathPerPeople': 9115, 'oneTestPerPeople': 82, 'activePerOneMillion': 0, 'recoveredPerOneMillion': 1281.68, 'criticalPerOneMillion': 0}, {'updated': 1751205289444, 'country': 'Suriname', 'countryInfo': {'_id': 740, 'iso2': 'SR', 'iso3': 'SUR', 'lat': 4, 'long': -56, 'flag': 'https://disease.sh/assets/img/flags/sr.png'}, 'cases': 82588, 'todayCases': 0, 'deaths': 1408, 'todayDeaths': 0, 'recovered': 0, 'todayRecovered': 0, 'active': 81180, 'critical': 0, 'casesPerOneMillion': 138378, 'deathsPerOneMillion': 2359, 'tests': 242207, 'testsPerOneMillion': 405822, 'population': 596831, 'continent': 'South America', 'oneCasePerPeople': 7, 'oneDeathPerPeople': 424, 'oneTestPerPeople': 2, 'activePerOneMillion': 136018.4, 'recoveredPerOneMillion': 0, 'criticalPerOneMillion': 0}, {'updated': 1751205289449, 'country': 'Swaziland', 'countryInfo': {'_id': 748, 'iso2': 'SZ', 'iso3': 'SWZ', 'lat': -26.5, 'long': 31.5, 'flag': 'https://disease.sh/assets/img/flags/sz.png'}, 'cases': 75191, 'todayCases': 0, 'deaths': 1427, 'todayDeaths': 0, 'recovered': 73116, 'todayRecovered': 0, 'active': 648, 'critical': 0, 'casesPerOneMillion': 63462, 'deathsPerOneMillion': 1204, 'tests': 1048704, 'testsPerOneMillion': 885119, 'population': 1184817, 'continent': 'Africa', 'oneCasePerPeople': 16, 'oneDeathPerPeople': 830, 'oneTestPerPeople': 1, 'activePerOneMillion': 546.92, 'recoveredPerOneMillion': 61710.8, 'criticalPerOneMillion': 0}, {'updated': 1751205289301, 'country': 'Sweden', 'countryInfo': {'_id': 752, 'iso2': 'SE', 'iso3': 'SWE', 'lat': 62, 'long': 15, 'flag': 'https://disease.sh/assets/img/flags/se.png'}, 'cases': 2754129, 'todayCases': 0, 'deaths': 27407, 'todayDeaths': 0, 'recovered': 2726492, 'todayRecovered': 20, 'active': 230, 'critical': 0, 'casesPerOneMillion': 269511, 'deathsPerOneMillion': 2682, 'tests': 19500873, 'testsPerOneMillion': 1908301, 'population': 10218971, 'continent': 'Europe', 'oneCasePerPeople': 4, 'oneDeathPerPeople': 373, 'oneTestPerPeople': 1, 'activePerOneMillion': 22.51, 'recoveredPerOneMillion': 266806.9, 'criticalPerOneMillion': 0}, {'updated': 1751205289280, 'country': 'Switzerland', 'countryInfo': {'_id': 756, 'iso2': 'CH', 'iso3': 'CHE', 'lat': 47, 'long': 8, 'flag': 'https://disease.sh/assets/img/flags/ch.png'}, 'cases': 4453053, 'todayCases': 0, 'deaths': 14452, 'todayDeaths': 0, 'recovered': 4438309, 'todayRecovered': 0, 'active': 292, 'critical': 0, 'casesPerOneMillion': 507549, 'deathsPerOneMillion': 1647, 'tests': 23833472, 'testsPerOneMillion': 2716487, 'population': 8773637, 'continent': 'Europe', 'oneCasePerPeople': 2, 'oneDeathPerPeople': 607, 'oneTestPerPeople': 0, 'activePerOneMillion': 33.28, 'recoveredPerOneMillion': 505868.77, 'criticalPerOneMillion': 0}, {'updated': 1751205289464, 'country': 'Syrian Arab Republic', 'countryInfo': {'_id': 760, 'iso2': 'SY', 'iso3': 'SYR', 'lat': 35, 'long': 38, 'flag': 'https://disease.sh/assets/img/flags/sy.png'}, 'cases': 57743, 'todayCases': 0, 'deaths': 3165, 'todayDeaths': 0, 'recovered': 54578, 'todayRecovered': 0, 'active': 0, 'critical': 0, 'casesPerOneMillion': 2982, 'deathsPerOneMillion': 163, 'tests': 146269, 'testsPerOneMillion': 7553, 'population': 19364809, 'continent': 'Asia', 'oneCasePerPeople': 335, 'oneDeathPerPeople': 6118, 'oneTestPerPeople': 132, 'activePerOneMillion': 0, 'recoveredPerOneMillion': 2818.41, 'criticalPerOneMillion': 0}, {'updated': 1751205289230, 'country': 'Taiwan', 'countryInfo': {'_id': 158, 'iso2': 'TW', 'iso3': 'TWN', 'lat': 23.5, 'long': 121, 'flag': 'https://disease.sh/assets/img/flags/tw.png'}, 'cases': 10241523, 'todayCases': 0, 'deaths': 19005, 'todayDeaths': 0, 'recovered': 10222518, 'todayRecovered': 0, 'active': 0, 'critical': 0, 'casesPerOneMillion': 428720, 'deathsPerOneMillion': 796, 'tests': 30742304, 'testsPerOneMillion': 1286903, 'population': 23888595, 'continent': 'Asia', 'oneCasePerPeople': 2, 'oneDeathPerPeople': 1257, 'oneTestPerPeople': 1, 'activePerOneMillion': 0, 'recoveredPerOneMillion': 427924.62, 'criticalPerOneMillion': 0}, {'updated': 1751205289512, 'country': 'Tajikistan', 'countryInfo': {'_id': 762, 'iso2': 'TJ', 'iso3': 'TJK', 'lat': 39, 'long': 71, 'flag': 'https://disease.sh/assets/img/flags/tj.png'}, 'cases': 17786, 'todayCases': 0, 'deaths': 125, 'todayDeaths': 0, 'recovered': 17264, 'todayRecovered': 0, 'active': 397, 'critical': 0, 'casesPerOneMillion': 1786, 'deathsPerOneMillion': 13, 'tests': 0, 'testsPerOneMillion': 0, 'population': 9957464, 'continent': 'Asia', 'oneCasePerPeople': 560, 'oneDeathPerPeople': 79660, 'oneTestPerPeople': 0, 'activePerOneMillion': 39.87, 'recoveredPerOneMillion': 1733.77, 'criticalPerOneMillion': 0}, {'updated': 1751205289478, 'country': 'Tanzania', 'countryInfo': {'_id': 834, 'iso2': 'TZ', 'iso3': 'TZA', 'lat': -6, 'long': 35, 'flag': 'https://disease.sh/assets/img/flags/tz.png'}, 'cases': 43223, 'todayCases': 0, 'deaths': 846, 'todayDeaths': 0, 'recovered': 0, 'todayRecovered': 0, 'active': 42377, 'critical': 0, 'casesPerOneMillion': 683, 'deathsPerOneMillion': 13, 'tests': 0, 'testsPerOneMillion': 0, 'population': 63298550, 'continent': 'Africa', 'oneCasePerPeople': 1464, 'oneDeathPerPeople': 74821, 'oneTestPerPeople': 0, 'activePerOneMillion': 669.48, 'recoveredPerOneMillion': 0, 'criticalPerOneMillion': 0}, {'updated': 1751205289269, 'country': 'Thailand', 'countryInfo': {'_id': 764, 'iso2': 'TH', 'iso3': 'THA', 'lat': 15, 'long': 100, 'flag': 'https://disease.sh/assets/img/flags/th.png'}, 'cases': 4770149, 'todayCases': 0, 'deaths': 34586, 'todayDeaths': 0, 'recovered': 4692636, 'todayRecovered': 0, 'active': 42927, 'critical': 0, 'casesPerOneMillion': 68069, 'deathsPerOneMillion': 494, 'tests': 17273454, 'testsPerOneMillion': 246488, 'population': 70078203, 'continent': 'Asia', 'oneCasePerPeople': 15, 'oneDeathPerPeople': 2026, 'oneTestPerPeople': 4, 'activePerOneMillion': 612.56, 'recoveredPerOneMillion': 66962.85, 'criticalPerOneMillion': 0}, {'updated': 1751205289503, 'country': 'Timor-Leste', 'countryInfo': {'_id': 626, 'iso2': 'TL', 'iso3': 'TLS', 'lat': -8.55, 'long': 125.5167, 'flag': 'https://disease.sh/assets/img/flags/tl.png'}, 'cases': 23460, 'todayCases': 0, 'deaths': 138, 'todayDeaths': 0, 'recovered': 23102, 'todayRecovered': 0, 'active': 220, 'critical': 0, 'casesPerOneMillion': 17131, 'deathsPerOneMillion': 101, 'tests': 278529, 'testsPerOneMillion': 203391, 'population': 1369429, 'continent': 'Asia', 'oneCasePerPeople': 58, 'oneDeathPerPeople': 9923, 'oneTestPerPeople': 5, 'activePerOneMillion': 160.65, 'recoveredPerOneMillion': 16869.8, 'criticalPerOneMillion': 0}, {'updated': 1751205289482, 'country': 'Togo', 'countryInfo': {'_id': 768, 'iso2': 'TG', 'iso3': 'TGO', 'lat': 8, 'long': 1.1667, 'flag': 'https://disease.sh/assets/img/flags/tg.png'}, 'cases': 39572, 'todayCases': 0, 'deaths': 290, 'todayDeaths': 0, 'recovered': 39281, 'todayRecovered': 0, 'active': 1, 'critical': 0, 'casesPerOneMillion': 4559, 'deathsPerOneMillion': 33, 'tests': 815204, 'testsPerOneMillion': 93908, 'population': 8680837, 'continent': 'Africa', 'oneCasePerPeople': 219, 'oneDeathPerPeople': 29934, 'oneTestPerPeople': 11, 'activePerOneMillion': 0.12, 'recoveredPerOneMillion': 4525.02, 'criticalPerOneMillion': 0}, {'updated': 1751205289562, 'country': 'Tokelau', 'countryInfo': {'_id': 772, 'iso2': 'TK', 'iso3': 'TKL', 'lat': -9, 'long': -172, 'flag': 'https://disease.sh/assets/img/flags/tk.png'}, 'cases': 80, 'todayCases': 0, 'deaths': 0, 'todayDeaths': 0, 'recovered': 0, 'todayRecovered': 0, 'active': 80, 'critical': 0, 'casesPerOneMillion': 58055, 'deathsPerOneMillion': 0, 'tests': 0, 'testsPerOneMillion': 0, 'population': 1378, 'continent': 'Australia-Oceania', 'oneCasePerPeople': 17, 'oneDeathPerPeople': 0, 'oneTestPerPeople': 0, 'activePerOneMillion': 58055.15, 'recoveredPerOneMillion': 0, 'criticalPerOneMillion': 0}, {'updated': 1751205289517, 'country': 'Tonga', 'countryInfo': {'_id': 776, 'iso2': 'TO', 'iso3': 'TON', 'lat': -20, 'long': -175, 'flag': 'https://disease.sh/assets/img/flags/to.png'}, 'cases': 16950, 'todayCases': 0, 'deaths': 13, 'todayDeaths': 0, 'recovered': 15638, 'todayRecovered': 0, 'active': 1299, 'critical': 0, 'casesPerOneMillion': 157310, 'deathsPerOneMillion': 121, 'tests': 535009, 'testsPerOneMillion': 4965327, 'population': 107749, 'continent': 'Australia-Oceania', 'oneCasePerPeople': 6, 'oneDeathPerPeople': 8288, 'oneTestPerPeople': 0, 'activePerOneMillion': 12055.8, 'recoveredPerOneMillion': 145133.6, 'criticalPerOneMillion': 0}, {'updated': 1751205289414, 'country': 'Trinidad and Tobago', 'countryInfo': {'_id': 780, 'iso2': 'TT', 'iso3': 'TTO', 'lat': 11, 'long': -61, 'flag': 'https://disease.sh/assets/img/flags/tt.png'}, 'cases': 191496, 'todayCases': 0, 'deaths': 4390, 'todayDeaths': 0, 'recovered': 187078, 'todayRecovered': 0, 'active': 28, 'critical': 0, 'casesPerOneMillion': 136143, 'deathsPerOneMillion': 3121, 'tests': 913289, 'testsPerOneMillion': 649295, 'population': 1406585, 'continent': 'North America', 'oneCasePerPeople': 7, 'oneDeathPerPeople': 320, 'oneTestPerPeople': 2, 'activePerOneMillion': 19.91, 'recoveredPerOneMillion': 133001.56, 'criticalPerOneMillion': 0}, {'updated': 1751205289330, 'country': 'Tunisia', 'countryInfo': {'_id': 788, 'iso2': 'TN', 'iso3': 'TUN', 'lat': 34, 'long': 9, 'flag': 'https://disease.sh/assets/img/flags/tn.png'}, 'cases': 1153361, 'todayCases': 0, 'deaths': 29423, 'todayDeaths': 0, 'recovered': 0, 'todayRecovered': 0, 'active': 1123938, 'critical': 0, 'casesPerOneMillion': 95741, 'deathsPerOneMillion': 2442, 'tests': 5013383, 'testsPerOneMillion': 416164, 'population': 12046656, 'continent': 'Africa', 'oneCasePerPeople': 10, 'oneDeathPerPeople': 409, 'oneTestPerPeople': 2, 'activePerOneMillion': 93298.75, 'recoveredPerOneMillion': 0, 'criticalPerOneMillion': 0}, {'updated': 1751205289222, 'country': 'Turkey', 'countryInfo': {'_id': 792, 'iso2': 'TR', 'iso3': 'TUR', 'lat': 39, 'long': 35, 'flag': 'https://disease.sh/assets/img/flags/tr.png'}, 'cases': 17232066, 'todayCases': 0, 'deaths': 102174, 'todayDeaths': 0, 'recovered': 0, 'todayRecovered': 0, 'active': 17129892, 'critical': 0, 'casesPerOneMillion': 201399, 'deathsPerOneMillion': 1194, 'tests': 162743369, 'testsPerOneMillion': 1902052, 'population': 85561976, 'continent': 'Asia', 'oneCasePerPeople': 5, 'oneDeathPerPeople': 837, 'oneTestPerPeople': 1, 'activePerOneMillion': 200204.49, 'recoveredPerOneMillion': 0, 'criticalPerOneMillion': 0}, {'updated': 1751205289545, 'country': 'Turks and Caicos Islands', 'countryInfo': {'_id': 796, 'iso2': 'TC', 'iso3': 'TCA', 'lat': 21.75, 'long': -71.5833, 'flag': 'https://disease.sh/assets/img/flags/tc.png'}, 'cases': 6752, 'todayCases': 0, 'deaths': 40, 'todayDeaths': 0, 'recovered': 6709, 'todayRecovered': 0, 'active': 3, 'critical': 4, 'casesPerOneMillion': 169900, 'deathsPerOneMillion': 1007, 'tests': 616788, 'testsPerOneMillion': 15520193, 'population': 39741, 'continent': 'North America', 'oneCasePerPeople': 6, 'oneDeathPerPeople': 994, 'oneTestPerPeople': 0, 'activePerOneMillion': 75.49, 'recoveredPerOneMillion': 168818.1, 'criticalPerOneMillion': 100.65}, {'updated': 1751205289554, 'country': 'Tuvalu', 'countryInfo': {'_id': 798, 'iso2': 'TV', 'iso3': 'TUV', 'lat': -8, 'long': 178, 'flag': 'https://disease.sh/assets/img/flags/tv.png'}, 'cases': 2943, 'todayCases': 0, 'deaths': 1, 'todayDeaths': 0, 'recovered': 0, 'todayRecovered': 0, 'active': 2942, 'critical': 0, 'casesPerOneMillion': 243909, 'deathsPerOneMillion': 83, 'tests': 0, 'testsPerOneMillion': 0, 'population': 12066, 'continent': 'Australia-Oceania', 'oneCasePerPeople': 4, 'oneDeathPerPeople': 12066, 'oneTestPerPeople': 0, 'activePerOneMillion': 243825.63, 'recoveredPerOneMillion': 0, 'criticalPerOneMillion': 0}, {'updated': 1751205289333, 'country': 'UAE', 'countryInfo': {'_id': 784, 'iso2': 'AE', 'iso3': 'ARE', 'lat': 24, 'long': 54, 'flag': 'https://disease.sh/assets/img/flags/ae.png'}, 'cases': 1067030, 'todayCases': 0, 'deaths': 2349, 'todayDeaths': 0, 'recovered': 0, 'todayRecovered': 0, 'active': 1064681, 'critical': 0, 'casesPerOneMillion': 105837, 'deathsPerOneMillion': 233, 'tests': 200732262, 'testsPerOneMillion': 19910389, 'population': 10081785, 'continent': 'Asia', 'oneCasePerPeople': 9, 'oneDeathPerPeople': 4292, 'oneTestPerPeople': 0, 'activePerOneMillion': 105604.41, 'recoveredPerOneMillion': 0, 'criticalPerOneMillion': 0}, {'updated': 1751205289217, 'country': 'UK', 'countryInfo': {'_id': 826, 'iso2': 'GB', 'iso3': 'GBR', 'lat': 54, 'long': -2, 'flag': 'https://disease.sh/assets/img/flags/gb.png'}, 'cases': 24910387, 'todayCases': 0, 'deaths': 232112, 'todayDeaths': 0, 'recovered': 24678275, 'todayRecovered': 0, 'active': 0, 'critical': 0, 'casesPerOneMillion': 363666, 'deathsPerOneMillion': 3389, 'tests': 522526476, 'testsPerOneMillion': 7628357, 'population': 68497907, 'continent': 'Europe', 'oneCasePerPeople': 3, 'oneDeathPerPeople': 295, 'oneTestPerPeople': 0, 'activePerOneMillion': 0, 'recoveredPerOneMillion': 360277.8, 'criticalPerOneMillion': 0}, {'updated': 1751205289199, 'country': 'USA', 'countryInfo': {'_id': 840, 'iso2': 'US', 'iso3': 'USA', 'lat': 38, 'long': -97, 'flag': 'https://disease.sh/assets/img/flags/us.png'}, 'cases': 111820082, 'todayCases': 0, 'deaths': 1219487, 'todayDeaths': 0, 'recovered': 109814428, 'todayRecovered': 0, 'active': 786167, 'critical': 940, 'casesPerOneMillion': 333985, 'deathsPerOneMillion': 3642, 'tests': 1186851502, 'testsPerOneMillion': 3544901, 'population': 334805269, 'continent': 'North America', 'oneCasePerPeople': 3, 'oneDeathPerPeople': 275, 'oneTestPerPeople': 0, 'activePerOneMillion': 2348.13, 'recoveredPerOneMillion': 327994.92, 'criticalPerOneMillion': 2.81}, {'updated': 1751205289419, 'country': 'Uganda', 'countryInfo': {'_id': 800, 'iso2': 'UG', 'iso3': 'UGA', 'lat': 1, 'long': 32, 'flag': 'https://disease.sh/assets/img/flags/ug.png'}, 'cases': 172149, 'todayCases': 0, 'deaths': 3632, 'todayDeaths': 0, 'recovered': 100431, 'todayRecovered': 0, 'active': 68086, 'critical': 0, 'casesPerOneMillion': 3554, 'deathsPerOneMillion': 75, 'tests': 3012408, 'testsPerOneMillion': 62198, 'population': 48432863, 'continent': 'Africa', 'oneCasePerPeople': 281, 'oneDeathPerPeople': 13335, 'oneTestPerPeople': 16, 'activePerOneMillion': 1405.78, 'recoveredPerOneMillion': 2073.61, 'criticalPerOneMillion': 0}, {'updated': 1751205289253, 'country': 'Ukraine', 'countryInfo': {'_id': 804, 'iso2': 'UA', 'iso3': 'UKR', 'lat': 49, 'long': 32, 'flag': 'https://disease.sh/assets/img/flags/ua.png'}, 'cases': 5557995, 'todayCases': 0, 'deaths': 112418, 'todayDeaths': 0, 'recovered': 5445577, 'todayRecovered': 0, 'active': 0, 'critical': 0, 'casesPerOneMillion': 128681, 'deathsPerOneMillion': 2603, 'tests': 32603805, 'testsPerOneMillion': 754855, 'population': 43192122, 'continent': 'Europe', 'oneCasePerPeople': 8, 'oneDeathPerPeople': 384, 'oneTestPerPeople': 1, 'activePerOneMillion': 0, 'recoveredPerOneMillion': 126078.01, 'criticalPerOneMillion': 0}, {'updated': 1751205289335, 'country': 'Uruguay', 'countryInfo': {'_id': 858, 'iso2': 'UY', 'iso3': 'URY', 'lat': -33, 'long': -56, 'flag': 'https://disease.sh/assets/img/flags/uy.png'}, 'cases': 1041111, 'todayCases': 0, 'deaths': 7664, 'todayDeaths': 0, 'recovered': 1030944, 'todayRecovered': 0, 'active': 2503, 'critical': 18, 'casesPerOneMillion': 297799, 'deathsPerOneMillion': 2192, 'tests': 6114822, 'testsPerOneMillion': 1749083, 'population': 3496016, 'continent': 'South America', 'oneCasePerPeople': 3, 'oneDeathPerPeople': 456, 'oneTestPerPeople': 1, 'activePerOneMillion': 715.96, 'recoveredPerOneMillion': 294891.1, 'criticalPerOneMillion': 5.15}, {'updated': 1751205289397, 'country': 'Uzbekistan', 'countryInfo': {'_id': 860, 'iso2': 'UZ', 'iso3': 'UZB', 'lat': 41, 'long': 64, 'flag': 'https://disease.sh/assets/img/flags/uz.png'}, 'cases': 253662, 'todayCases': 0, 'deaths': 1637, 'todayDeaths': 0, 'recovered': 241486, 'todayRecovered': 0, 'active': 10539, 'critical': 23, 'casesPerOneMillion': 7378, 'deathsPerOneMillion': 48, 'tests': 1377915, 'testsPerOneMillion': 40077, 'population': 34382084, 'continent': 'Asia', 'oneCasePerPeople': 136, 'oneDeathPerPeople': 21003, 'oneTestPerPeople': 25, 'activePerOneMillion': 306.53, 'recoveredPerOneMillion': 7023.6, 'criticalPerOneMillion': 0.67}, {'updated': 1751205289525, 'country': 'Vanuatu', 'countryInfo': {'_id': 548, 'iso2': 'VU', 'iso3': 'VUT', 'lat': -16, 'long': 167, 'flag': 'https://disease.sh/assets/img/flags/vu.png'}, 'cases': 12019, 'todayCases': 0, 'deaths': 14, 'todayDeaths': 0, 'recovered': 11976, 'todayRecovered': 0, 'active': 29, 'critical': 0, 'casesPerOneMillion': 37346, 'deathsPerOneMillion': 44, 'tests': 24976, 'testsPerOneMillion': 77606, 'population': 321832, 'continent': 'Australia-Oceania', 'oneCasePerPeople': 27, 'oneDeathPerPeople': 22988, 'oneTestPerPeople': 13, 'activePerOneMillion': 90.11, 'recoveredPerOneMillion': 37211.96, 'criticalPerOneMillion': 0}, {'updated': 1751205289357, 'country': 'Venezuela', 'countryInfo': {'_id': 862, 'iso2': 'VE', 'iso3': 'VEN', 'lat': 8, 'long': -66, 'flag': 'https://disease.sh/assets/img/flags/ve.png'}, 'cases': 552695, 'todayCases': 0, 'deaths': 5856, 'todayDeaths': 0, 'recovered': 546537, 'todayRecovered': 0, 'active': 302, 'critical': 31, 'casesPerOneMillion': 18885, 'deathsPerOneMillion': 200, 'tests': 3359014, 'testsPerOneMillion': 114771, 'population': 29266991, 'continent': 'South America', 'oneCasePerPeople': 53, 'oneDeathPerPeople': 4998, 'oneTestPerPeople': 9, 'activePerOneMillion': 10.32, 'recoveredPerOneMillion': 18674.18, 'criticalPerOneMillion': 1.06}, {'updated': 1751205289228, 'country': 'Vietnam', 'countryInfo': {'_id': 704, 'iso2': 'VN', 'iso3': 'VNM', 'lat': 21, 'long': 105.8, 'flag': 'https://disease.sh/assets/img/flags/vn.png'}, 'cases': 11625195, 'todayCases': 0, 'deaths': 43206, 'todayDeaths': 0, 'recovered': 10640971, 'todayRecovered': 0, 'active': 941018, 'critical': 0, 'casesPerOneMillion': 117481, 'deathsPerOneMillion': 437, 'tests': 85826548, 'testsPerOneMillion': 867342, 'population': 98953541, 'continent': 'Asia', 'oneCasePerPeople': 9, 'oneDeathPerPeople': 2290, 'oneTestPerPeople': 1, 'activePerOneMillion': 9509.7, 'recoveredPerOneMillion': 107535.02, 'criticalPerOneMillion': 0}, {'updated': 1751205289552, 'country': 'Wallis and Futuna', 'countryInfo': {'_id': 876, 'iso2': 'WF', 'iso3': 'WLF', 'lat': -13.3, 'long': -176.2, 'flag': 'https://disease.sh/assets/img/flags/wf.png'}, 'cases': 3550, 'todayCases': 0, 'deaths': 8, 'todayDeaths': 0, 'recovered': 438, 'todayRecovered': 0, 'active': 3104, 'critical': 0, 'casesPerOneMillion': 323256, 'deathsPerOneMillion': 728, 'tests': 20508, 'testsPerOneMillion': 1867419, 'population': 10982, 'continent': 'Australia-Oceania', 'oneCasePerPeople': 3, 'oneDeathPerPeople': 1373, 'oneTestPerPeople': 1, 'activePerOneMillion': 282644.33, 'recoveredPerOneMillion': 39883.45, 'criticalPerOneMillion': 0}, {'updated': 1751205289564, 'country': 'Western Sahara', 'countryInfo': {'_id': 732, 'iso2': 'EH', 'iso3': 'ESH', 'lat': 24.5, 'long': -13, 'flag': 'https://disease.sh/assets/img/flags/eh.png'}, 'cases': 10, 'todayCases': 0, 'deaths': 1, 'todayDeaths': 0, 'recovered': 9, 'todayRecovered': 0, 'active': 0, 'critical': 0, 'casesPerOneMillion': 16, 'deathsPerOneMillion': 2, 'tests': 0, 'testsPerOneMillion': 0, 'population': 626161, 'continent': 'Africa', 'oneCasePerPeople': 62616, 'oneDeathPerPeople': 626161, 'oneTestPerPeople': 0, 'activePerOneMillion': 0, 'recoveredPerOneMillion': 14.37, 'criticalPerOneMillion': 0}, {'updated': 1751205289527, 'country': 'Yemen', 'countryInfo': {'_id': 887, 'iso2': 'YE', 'iso3': 'YEM', 'lat': 15, 'long': 48, 'flag': 'https://disease.sh/assets/img/flags/ye.png'}, 'cases': 11945, 'todayCases': 0, 'deaths': 2159, 'todayDeaths': 0, 'recovered': 9124, 'todayRecovered': 0, 'active': 662, 'critical': 0, 'casesPerOneMillion': 383, 'deathsPerOneMillion': 69, 'tests': 329592, 'testsPerOneMillion': 10579, 'population': 31154867, 'continent': 'Asia', 'oneCasePerPeople': 2608, 'oneDeathPerPeople': 14430, 'oneTestPerPeople': 95, 'activePerOneMillion': 21.25, 'recoveredPerOneMillion': 292.86, 'criticalPerOneMillion': 0}, {'updated': 1751205289378, 'country': 'Zambia', 'countryInfo': {'_id': 894, 'iso2': 'ZM', 'iso3': 'ZMB', 'lat': -15, 'long': 30, 'flag': 'https://disease.sh/assets/img/flags/zm.png'}, 'cases': 349304, 'todayCases': 0, 'deaths': 4069, 'todayDeaths': 0, 'recovered': 341316, 'todayRecovered': 0, 'active': 3919, 'critical': 0, 'casesPerOneMillion': 17940, 'deathsPerOneMillion': 209, 'tests': 4112961, 'testsPerOneMillion': 211244, 'population': 19470234, 'continent': 'Africa', 'oneCasePerPeople': 56, 'oneDeathPerPeople': 4785, 'oneTestPerPeople': 5, 'activePerOneMillion': 201.28, 'recoveredPerOneMillion': 17530.14, 'criticalPerOneMillion': 0}, {'updated': 1751205289395, 'country': 'Zimbabwe', 'countryInfo': {'_id': 716, 'iso2': 'ZW', 'iso3': 'ZWE', 'lat': -20, 'long': 30, 'flag': 'https://disease.sh/assets/img/flags/zw.png'}, 'cases': 266359, 'todayCases': 0, 'deaths': 5740, 'todayDeaths': 0, 'recovered': 258888, 'todayRecovered': 0, 'active': 1731, 'critical': 12, 'casesPerOneMillion': 17373, 'deathsPerOneMillion': 374, 'tests': 2525756, 'testsPerOneMillion': 164744, 'population': 15331428, 'continent': 'Africa', 'oneCasePerPeople': 58, 'oneDeathPerPeople': 2671, 'oneTestPerPeople': 6, 'activePerOneMillion': 112.91, 'recoveredPerOneMillion': 16886.1, 'criticalPerOneMillion': 0.78}]\n"
     ]
    },
    {
     "data": {
      "application/vnd.plotly.v1+json": {
       "config": {
        "plotlyServerURL": "https://plot.ly"
       },
       "data": [
        {
         "customdata": {
          "bdata": "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",
          "dtype": "i4",
          "shape": "231, 3"
         },
         "geo": "geo",
         "hovertemplate": "<b>%{hovertext}</b><br><br>cases=%{marker.color}<br>lat=%{lat}<br>long=%{lon}<br>deaths=%{customdata[1]}<br>recovered=%{customdata[2]}<extra></extra>",
         "hovertext": [
          "Afghanistan",
          "Albania",
          "Algeria",
          "Andorra",
          "Angola",
          "Anguilla",
          "Antigua and Barbuda",
          "Argentina",
          "Armenia",
          "Aruba",
          "Australia",
          "Austria",
          "Azerbaijan",
          "Bahamas",
          "Bahrain",
          "Bangladesh",
          "Barbados",
          "Belarus",
          "Belgium",
          "Belize",
          "Benin",
          "Bermuda",
          "Bhutan",
          "Bolivia",
          "Bosnia",
          "Botswana",
          "Brazil",
          "British Virgin Islands",
          "Brunei",
          "Bulgaria",
          "Burkina Faso",
          "Burundi",
          "Cabo Verde",
          "Cambodia",
          "Cameroon",
          "Canada",
          "Caribbean Netherlands",
          "Cayman Islands",
          "Central African Republic",
          "Chad",
          "Channel Islands",
          "Chile",
          "China",
          "Colombia",
          "Comoros",
          "Congo",
          "Cook Islands",
          "Costa Rica",
          "Croatia",
          "Cuba",
          "Curaçao",
          "Cyprus",
          "Czechia",
          "Côte d'Ivoire",
          "DRC",
          "Denmark",
          "Diamond Princess",
          "Djibouti",
          "Dominica",
          "Dominican Republic",
          "Ecuador",
          "Egypt",
          "El Salvador",
          "Equatorial Guinea",
          "Eritrea",
          "Estonia",
          "Ethiopia",
          "Falkland Islands (Malvinas)",
          "Faroe Islands",
          "Fiji",
          "Finland",
          "France",
          "French Guiana",
          "French Polynesia",
          "Gabon",
          "Gambia",
          "Georgia",
          "Germany",
          "Ghana",
          "Gibraltar",
          "Greece",
          "Greenland",
          "Grenada",
          "Guadeloupe",
          "Guatemala",
          "Guinea",
          "Guinea-Bissau",
          "Guyana",
          "Haiti",
          "Holy See (Vatican City State)",
          "Honduras",
          "Hong Kong",
          "Hungary",
          "Iceland",
          "India",
          "Indonesia",
          "Iran",
          "Iraq",
          "Ireland",
          "Isle of Man",
          "Israel",
          "Italy",
          "Jamaica",
          "Japan",
          "Jordan",
          "Kazakhstan",
          "Kenya",
          "Kiribati",
          "Kuwait",
          "Kyrgyzstan",
          "Lao People's Democratic Republic",
          "Latvia",
          "Lebanon",
          "Lesotho",
          "Liberia",
          "Libyan Arab Jamahiriya",
          "Liechtenstein",
          "Lithuania",
          "Luxembourg",
          "MS Zaandam",
          "Macao",
          "Macedonia",
          "Madagascar",
          "Malawi",
          "Malaysia",
          "Maldives",
          "Mali",
          "Malta",
          "Marshall Islands",
          "Martinique",
          "Mauritania",
          "Mauritius",
          "Mayotte",
          "Mexico",
          "Micronesia",
          "Moldova",
          "Monaco",
          "Mongolia",
          "Montenegro",
          "Montserrat",
          "Morocco",
          "Mozambique",
          "Myanmar",
          "N. Korea",
          "Namibia",
          "Nauru",
          "Nepal",
          "Netherlands",
          "New Caledonia",
          "New Zealand",
          "Nicaragua",
          "Niger",
          "Nigeria",
          "Niue",
          "Norway",
          "Oman",
          "Pakistan",
          "Palau",
          "Palestine",
          "Panama",
          "Papua New Guinea",
          "Paraguay",
          "Peru",
          "Philippines",
          "Poland",
          "Portugal",
          "Qatar",
          "Romania",
          "Russia",
          "Rwanda",
          "Réunion",
          "S. Korea",
          "Saint Helena",
          "Saint Kitts and Nevis",
          "Saint Lucia",
          "Saint Martin",
          "Saint Pierre Miquelon",
          "Saint Vincent and the Grenadines",
          "Samoa",
          "San Marino",
          "Sao Tome and Principe",
          "Saudi Arabia",
          "Senegal",
          "Serbia",
          "Seychelles",
          "Sierra Leone",
          "Singapore",
          "Sint Maarten",
          "Slovakia",
          "Slovenia",
          "Solomon Islands",
          "Somalia",
          "South Africa",
          "South Sudan",
          "Spain",
          "Sri Lanka",
          "St. Barth",
          "Sudan",
          "Suriname",
          "Swaziland",
          "Sweden",
          "Switzerland",
          "Syrian Arab Republic",
          "Taiwan",
          "Tajikistan",
          "Tanzania",
          "Thailand",
          "Timor-Leste",
          "Togo",
          "Tokelau",
          "Tonga",
          "Trinidad and Tobago",
          "Tunisia",
          "Turkey",
          "Turks and Caicos Islands",
          "Tuvalu",
          "UAE",
          "UK",
          "USA",
          "Uganda",
          "Ukraine",
          "Uruguay",
          "Uzbekistan",
          "Vanuatu",
          "Venezuela",
          "Vietnam",
          "Wallis and Futuna",
          "Western Sahara",
          "Yemen",
          "Zambia",
          "Zimbabwe"
         ],
         "lat": {
          "bdata": "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",
          "dtype": "f8"
         },
         "legendgroup": "",
         "lon": {
          "bdata": "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",
          "dtype": "f8"
         },
         "marker": {
          "color": {
           "bdata": "vpIDAA8cBQCKJgQAj7sAAD+jAQBADwAAkiMAAM2NmgD35AYAwKwAAFjdtAAHy1wAor4MAMSUAADNIQsAYUUfAPKvAQD1Kg8A/y5KAPEWAQCEbQAArEkAAOn0AADjfhIAnygGAI4LBQBuL08C4BwAAKc+BQDLcRQAYlYAAMHVAADd+wAAXx8CAMPpAQCqeEsAoi0AAPB6AABQPAAAFR4AAFWNAQCVKlIABq4HAK2oYQCVIwAAH2MAACMcAABj5xIAIPwTAHMEEQCiswAAlmQKAAGeSABAWQEACoQBAIyUMADIAgAASj0AAKY+AAAyUAoAbFQQALffBwB/FAMATUMAAM0nAABmlQkApaUHAIoHAABihwAA/Q0BAFUiFwBAd2QC+X4BAJY1AQCbvwAAUjEAACFoHADDe1ACcZ8CAEZQAACDGV0Awy4AAO1MAADjGQMAHbQTAKyWAACOJQAAmSEBAGuHAAAdAAAA3j0HAAnTLADYByIA8jMDAIEvrwKlNGgAsmF0AAmfJQC2dxoAeJQAACzhSQCxw5cBxWQCADTNAwI1qBoA94oVAEJABQDdEwAAFi4KADEoAwBaVwMA6f0OAL76EgAqjQAAmh8AAIq9BwBGVAAALlQVAED4BQAJAAAAGWwAAGdZBQCGCwEAv10BAMaKUABG2QIAjIEAAEzaAQAKPwAA0oMDAGj5AAARqAAAK6QAABmJdQCzZwAACbEJAB1DAAAobw8AXoYEAHsFAAAQhBMAA5EDAFHLCQDN00gAZaECABEVAAC6Tw8AisWDAMA4AQC3/icAO0gAAMsmAAC0EwQAIwQAAGQJFwBZGAYAcCMYAJIYAADQeQkANSwQABC3AADixwwA+8VFAF8tPwBnp2UANhtWANzZBwAH3DUANxtwAY4JAgADjAcAYYYPAnYIAADPGQAAB3YAACQwAAB8DQAAyiUAAG5CAABJZgAAehoAAP3WDADdWwEADucnABTIAABjHgAAy94tACsrAABlphwAArMUAGJlAADGagAArzM+AINJAAC7UtQA8kMKAIMVAAD5+QAAnEIBALclAQBRBioAvfJDAI/hAADzRZwAekUAANeoAABlyUgApFsAAJSaAABQAAAANkIAAAjsAgBRmREAwvAGAWAaAAB/CwAAFkgQADMafAEyPaoGdaACAOvOVADX4g8A3t4DAPMuAAD3bggA62KxAN4NAAAKAAAAqS4AAHhUBQB3EAQA",
           "dtype": "i4"
          },
          "coloraxis": "coloraxis",
          "size": {
           "bdata": "vpIDAA8cBQCKJgQAj7sAAD+jAQBADwAAkiMAAM2NmgD35AYAwKwAAFjdtAAHy1wAor4MAMSUAADNIQsAYUUfAPKvAQD1Kg8A/y5KAPEWAQCEbQAArEkAAOn0AADjfhIAnygGAI4LBQBuL08C4BwAAKc+BQDLcRQAYlYAAMHVAADd+wAAXx8CAMPpAQCqeEsAoi0AAPB6AABQPAAAFR4AAFWNAQCVKlIABq4HAK2oYQCVIwAAH2MAACMcAABj5xIAIPwTAHMEEQCiswAAlmQKAAGeSABAWQEACoQBAIyUMADIAgAASj0AAKY+AAAyUAoAbFQQALffBwB/FAMATUMAAM0nAABmlQkApaUHAIoHAABihwAA/Q0BAFUiFwBAd2QC+X4BAJY1AQCbvwAAUjEAACFoHADDe1ACcZ8CAEZQAACDGV0Awy4AAO1MAADjGQMAHbQTAKyWAACOJQAAmSEBAGuHAAAdAAAA3j0HAAnTLADYByIA8jMDAIEvrwKlNGgAsmF0AAmfJQC2dxoAeJQAACzhSQCxw5cBxWQCADTNAwI1qBoA94oVAEJABQDdEwAAFi4KADEoAwBaVwMA6f0OAL76EgAqjQAAmh8AAIq9BwBGVAAALlQVAED4BQAJAAAAGWwAAGdZBQCGCwEAv10BAMaKUABG2QIAjIEAAEzaAQAKPwAA0oMDAGj5AAARqAAAK6QAABmJdQCzZwAACbEJAB1DAAAobw8AXoYEAHsFAAAQhBMAA5EDAFHLCQDN00gAZaECABEVAAC6Tw8AisWDAMA4AQC3/icAO0gAAMsmAAC0EwQAIwQAAGQJFwBZGAYAcCMYAJIYAADQeQkANSwQABC3AADixwwA+8VFAF8tPwBnp2UANhtWANzZBwAH3DUANxtwAY4JAgADjAcAYYYPAnYIAADPGQAAB3YAACQwAAB8DQAAyiUAAG5CAABJZgAAehoAAP3WDADdWwEADucnABTIAABjHgAAy94tACsrAABlphwAArMUAGJlAADGagAArzM+AINJAAC7UtQA8kMKAIMVAAD5+QAAnEIBALclAQBRBioAvfJDAI/hAADzRZwAekUAANeoAABlyUgApFsAAJSaAABQAAAANkIAAAjsAgBRmREAwvAGAWAaAAB/CwAAFkgQADMafAEyPaoGdaACAOvOVADX4g8A3t4DAPMuAAD3bggA62KxAN4NAAAKAAAAqS4AAHhUBQB3EAQA",
           "dtype": "i4"
          },
          "sizemode": "area",
          "sizeref": 279550.205,
          "symbol": "circle"
         },
         "mode": "markers",
         "name": "",
         "showlegend": false,
         "type": "scattergeo"
        }
       ],
       "layout": {
        "coloraxis": {
         "colorbar": {
          "title": {
           "text": "cases"
          }
         },
         "colorscale": [
          [
           0,
           "rgb(255,245,240)"
          ],
          [
           0.125,
           "rgb(254,224,210)"
          ],
          [
           0.25,
           "rgb(252,187,161)"
          ],
          [
           0.375,
           "rgb(252,146,114)"
          ],
          [
           0.5,
           "rgb(251,106,74)"
          ],
          [
           0.625,
           "rgb(239,59,44)"
          ],
          [
           0.75,
           "rgb(203,24,29)"
          ],
          [
           0.875,
           "rgb(165,15,21)"
          ],
          [
           1,
           "rgb(103,0,13)"
          ]
         ]
        },
        "geo": {
         "center": {},
         "domain": {
          "x": [
           0,
           1
          ],
          "y": [
           0,
           1
          ]
         },
         "projection": {
          "type": "natural earth"
         }
        },
        "height": 600,
        "legend": {
         "itemsizing": "constant",
         "tracegroupgap": 0
        },
        "margin": {
         "b": 0,
         "l": 0,
         "r": 0,
         "t": 30
        },
        "template": {
         "data": {
          "bar": [
           {
            "error_x": {
             "color": "#2a3f5f"
            },
            "error_y": {
             "color": "#2a3f5f"
            },
            "marker": {
             "line": {
              "color": "#E5ECF6",
              "width": 0.5
             },
             "pattern": {
              "fillmode": "overlay",
              "size": 10,
              "solidity": 0.2
             }
            },
            "type": "bar"
           }
          ],
          "barpolar": [
           {
            "marker": {
             "line": {
              "color": "#E5ECF6",
              "width": 0.5
             },
             "pattern": {
              "fillmode": "overlay",
              "size": 10,
              "solidity": 0.2
             }
            },
            "type": "barpolar"
           }
          ],
          "carpet": [
           {
            "aaxis": {
             "endlinecolor": "#2a3f5f",
             "gridcolor": "white",
             "linecolor": "white",
             "minorgridcolor": "white",
             "startlinecolor": "#2a3f5f"
            },
            "baxis": {
             "endlinecolor": "#2a3f5f",
             "gridcolor": "white",
             "linecolor": "white",
             "minorgridcolor": "white",
             "startlinecolor": "#2a3f5f"
            },
            "type": "carpet"
           }
          ],
          "choropleth": [
           {
            "colorbar": {
             "outlinewidth": 0,
             "ticks": ""
            },
            "type": "choropleth"
           }
          ],
          "contour": [
           {
            "colorbar": {
             "outlinewidth": 0,
             "ticks": ""
            },
            "colorscale": [
             [
              0,
              "#0d0887"
             ],
             [
              0.1111111111111111,
              "#46039f"
             ],
             [
              0.2222222222222222,
              "#7201a8"
             ],
             [
              0.3333333333333333,
              "#9c179e"
             ],
             [
              0.4444444444444444,
              "#bd3786"
             ],
             [
              0.5555555555555556,
              "#d8576b"
             ],
             [
              0.6666666666666666,
              "#ed7953"
             ],
             [
              0.7777777777777778,
              "#fb9f3a"
             ],
             [
              0.8888888888888888,
              "#fdca26"
             ],
             [
              1,
              "#f0f921"
             ]
            ],
            "type": "contour"
           }
          ],
          "contourcarpet": [
           {
            "colorbar": {
             "outlinewidth": 0,
             "ticks": ""
            },
            "type": "contourcarpet"
           }
          ],
          "heatmap": [
           {
            "colorbar": {
             "outlinewidth": 0,
             "ticks": ""
            },
            "colorscale": [
             [
              0,
              "#0d0887"
             ],
             [
              0.1111111111111111,
              "#46039f"
             ],
             [
              0.2222222222222222,
              "#7201a8"
             ],
             [
              0.3333333333333333,
              "#9c179e"
             ],
             [
              0.4444444444444444,
              "#bd3786"
             ],
             [
              0.5555555555555556,
              "#d8576b"
             ],
             [
              0.6666666666666666,
              "#ed7953"
             ],
             [
              0.7777777777777778,
              "#fb9f3a"
             ],
             [
              0.8888888888888888,
              "#fdca26"
             ],
             [
              1,
              "#f0f921"
             ]
            ],
            "type": "heatmap"
           }
          ],
          "histogram": [
           {
            "marker": {
             "pattern": {
              "fillmode": "overlay",
              "size": 10,
              "solidity": 0.2
             }
            },
            "type": "histogram"
           }
          ],
          "histogram2d": [
           {
            "colorbar": {
             "outlinewidth": 0,
             "ticks": ""
            },
            "colorscale": [
             [
              0,
              "#0d0887"
             ],
             [
              0.1111111111111111,
              "#46039f"
             ],
             [
              0.2222222222222222,
              "#7201a8"
             ],
             [
              0.3333333333333333,
              "#9c179e"
             ],
             [
              0.4444444444444444,
              "#bd3786"
             ],
             [
              0.5555555555555556,
              "#d8576b"
             ],
             [
              0.6666666666666666,
              "#ed7953"
             ],
             [
              0.7777777777777778,
              "#fb9f3a"
             ],
             [
              0.8888888888888888,
              "#fdca26"
             ],
             [
              1,
              "#f0f921"
             ]
            ],
            "type": "histogram2d"
           }
          ],
          "histogram2dcontour": [
           {
            "colorbar": {
             "outlinewidth": 0,
             "ticks": ""
            },
            "colorscale": [
             [
              0,
              "#0d0887"
             ],
             [
              0.1111111111111111,
              "#46039f"
             ],
             [
              0.2222222222222222,
              "#7201a8"
             ],
             [
              0.3333333333333333,
              "#9c179e"
             ],
             [
              0.4444444444444444,
              "#bd3786"
             ],
             [
              0.5555555555555556,
              "#d8576b"
             ],
             [
              0.6666666666666666,
              "#ed7953"
             ],
             [
              0.7777777777777778,
              "#fb9f3a"
             ],
             [
              0.8888888888888888,
              "#fdca26"
             ],
             [
              1,
              "#f0f921"
             ]
            ],
            "type": "histogram2dcontour"
           }
          ],
          "mesh3d": [
           {
            "colorbar": {
             "outlinewidth": 0,
             "ticks": ""
            },
            "type": "mesh3d"
           }
          ],
          "parcoords": [
           {
            "line": {
             "colorbar": {
              "outlinewidth": 0,
              "ticks": ""
             }
            },
            "type": "parcoords"
           }
          ],
          "pie": [
           {
            "automargin": true,
            "type": "pie"
           }
          ],
          "scatter": [
           {
            "fillpattern": {
             "fillmode": "overlay",
             "size": 10,
             "solidity": 0.2
            },
            "type": "scatter"
           }
          ],
          "scatter3d": [
           {
            "line": {
             "colorbar": {
              "outlinewidth": 0,
              "ticks": ""
             }
            },
            "marker": {
             "colorbar": {
              "outlinewidth": 0,
              "ticks": ""
             }
            },
            "type": "scatter3d"
           }
          ],
          "scattercarpet": [
           {
            "marker": {
             "colorbar": {
              "outlinewidth": 0,
              "ticks": ""
             }
            },
            "type": "scattercarpet"
           }
          ],
          "scattergeo": [
           {
            "marker": {
             "colorbar": {
              "outlinewidth": 0,
              "ticks": ""
             }
            },
            "type": "scattergeo"
           }
          ],
          "scattergl": [
           {
            "marker": {
             "colorbar": {
              "outlinewidth": 0,
              "ticks": ""
             }
            },
            "type": "scattergl"
           }
          ],
          "scattermap": [
           {
            "marker": {
             "colorbar": {
              "outlinewidth": 0,
              "ticks": ""
             }
            },
            "type": "scattermap"
           }
          ],
          "scattermapbox": [
           {
            "marker": {
             "colorbar": {
              "outlinewidth": 0,
              "ticks": ""
             }
            },
            "type": "scattermapbox"
           }
          ],
          "scatterpolar": [
           {
            "marker": {
             "colorbar": {
              "outlinewidth": 0,
              "ticks": ""
             }
            },
            "type": "scatterpolar"
           }
          ],
          "scatterpolargl": [
           {
            "marker": {
             "colorbar": {
              "outlinewidth": 0,
              "ticks": ""
             }
            },
            "type": "scatterpolargl"
           }
          ],
          "scatterternary": [
           {
            "marker": {
             "colorbar": {
              "outlinewidth": 0,
              "ticks": ""
             }
            },
            "type": "scatterternary"
           }
          ],
          "surface": [
           {
            "colorbar": {
             "outlinewidth": 0,
             "ticks": ""
            },
            "colorscale": [
             [
              0,
              "#0d0887"
             ],
             [
              0.1111111111111111,
              "#46039f"
             ],
             [
              0.2222222222222222,
              "#7201a8"
             ],
             [
              0.3333333333333333,
              "#9c179e"
             ],
             [
              0.4444444444444444,
              "#bd3786"
             ],
             [
              0.5555555555555556,
              "#d8576b"
             ],
             [
              0.6666666666666666,
              "#ed7953"
             ],
             [
              0.7777777777777778,
              "#fb9f3a"
             ],
             [
              0.8888888888888888,
              "#fdca26"
             ],
             [
              1,
              "#f0f921"
             ]
            ],
            "type": "surface"
           }
          ],
          "table": [
           {
            "cells": {
             "fill": {
              "color": "#EBF0F8"
             },
             "line": {
              "color": "white"
             }
            },
            "header": {
             "fill": {
              "color": "#C8D4E3"
             },
             "line": {
              "color": "white"
             }
            },
            "type": "table"
           }
          ]
         },
         "layout": {
          "annotationdefaults": {
           "arrowcolor": "#2a3f5f",
           "arrowhead": 0,
           "arrowwidth": 1
          },
          "autotypenumbers": "strict",
          "coloraxis": {
           "colorbar": {
            "outlinewidth": 0,
            "ticks": ""
           }
          },
          "colorscale": {
           "diverging": [
            [
             0,
             "#8e0152"
            ],
            [
             0.1,
             "#c51b7d"
            ],
            [
             0.2,
             "#de77ae"
            ],
            [
             0.3,
             "#f1b6da"
            ],
            [
             0.4,
             "#fde0ef"
            ],
            [
             0.5,
             "#f7f7f7"
            ],
            [
             0.6,
             "#e6f5d0"
            ],
            [
             0.7,
             "#b8e186"
            ],
            [
             0.8,
             "#7fbc41"
            ],
            [
             0.9,
             "#4d9221"
            ],
            [
             1,
             "#276419"
            ]
           ],
           "sequential": [
            [
             0,
             "#0d0887"
            ],
            [
             0.1111111111111111,
             "#46039f"
            ],
            [
             0.2222222222222222,
             "#7201a8"
            ],
            [
             0.3333333333333333,
             "#9c179e"
            ],
            [
             0.4444444444444444,
             "#bd3786"
            ],
            [
             0.5555555555555556,
             "#d8576b"
            ],
            [
             0.6666666666666666,
             "#ed7953"
            ],
            [
             0.7777777777777778,
             "#fb9f3a"
            ],
            [
             0.8888888888888888,
             "#fdca26"
            ],
            [
             1,
             "#f0f921"
            ]
           ],
           "sequentialminus": [
            [
             0,
             "#0d0887"
            ],
            [
             0.1111111111111111,
             "#46039f"
            ],
            [
             0.2222222222222222,
             "#7201a8"
            ],
            [
             0.3333333333333333,
             "#9c179e"
            ],
            [
             0.4444444444444444,
             "#bd3786"
            ],
            [
             0.5555555555555556,
             "#d8576b"
            ],
            [
             0.6666666666666666,
             "#ed7953"
            ],
            [
             0.7777777777777778,
             "#fb9f3a"
            ],
            [
             0.8888888888888888,
             "#fdca26"
            ],
            [
             1,
             "#f0f921"
            ]
           ]
          },
          "colorway": [
           "#636efa",
           "#EF553B",
           "#00cc96",
           "#ab63fa",
           "#FFA15A",
           "#19d3f3",
           "#FF6692",
           "#B6E880",
           "#FF97FF",
           "#FECB52"
          ],
          "font": {
           "color": "#2a3f5f"
          },
          "geo": {
           "bgcolor": "white",
           "lakecolor": "white",
           "landcolor": "#E5ECF6",
           "showlakes": true,
           "showland": true,
           "subunitcolor": "white"
          },
          "hoverlabel": {
           "align": "left"
          },
          "hovermode": "closest",
          "mapbox": {
           "style": "light"
          },
          "paper_bgcolor": "white",
          "plot_bgcolor": "#E5ECF6",
          "polar": {
           "angularaxis": {
            "gridcolor": "white",
            "linecolor": "white",
            "ticks": ""
           },
           "bgcolor": "#E5ECF6",
           "radialaxis": {
            "gridcolor": "white",
            "linecolor": "white",
            "ticks": ""
           }
          },
          "scene": {
           "xaxis": {
            "backgroundcolor": "#E5ECF6",
            "gridcolor": "white",
            "gridwidth": 2,
            "linecolor": "white",
            "showbackground": true,
            "ticks": "",
            "zerolinecolor": "white"
           },
           "yaxis": {
            "backgroundcolor": "#E5ECF6",
            "gridcolor": "white",
            "gridwidth": 2,
            "linecolor": "white",
            "showbackground": true,
            "ticks": "",
            "zerolinecolor": "white"
           },
           "zaxis": {
            "backgroundcolor": "#E5ECF6",
            "gridcolor": "white",
            "gridwidth": 2,
            "linecolor": "white",
            "showbackground": true,
            "ticks": "",
            "zerolinecolor": "white"
           }
          },
          "shapedefaults": {
           "line": {
            "color": "#2a3f5f"
           }
          },
          "ternary": {
           "aaxis": {
            "gridcolor": "white",
            "linecolor": "white",
            "ticks": ""
           },
           "baxis": {
            "gridcolor": "white",
            "linecolor": "white",
            "ticks": ""
           },
           "bgcolor": "#E5ECF6",
           "caxis": {
            "gridcolor": "white",
            "linecolor": "white",
            "ticks": ""
           }
          },
          "title": {
           "x": 0.05
          },
          "xaxis": {
           "automargin": true,
           "gridcolor": "white",
           "linecolor": "white",
           "ticks": "",
           "title": {
            "standoff": 15
           },
           "zerolinecolor": "white",
           "zerolinewidth": 2
          },
          "yaxis": {
           "automargin": true,
           "gridcolor": "white",
           "linecolor": "white",
           "ticks": "",
           "title": {
            "standoff": 15
           },
           "zerolinecolor": "white",
           "zerolinewidth": 2
          }
         }
        },
        "title": {
         "text": "Global COVID-19 Spread"
        }
       }
      }
     },
     "metadata": {},
     "output_type": "display_data"
    },
    {
     "name": "stdout",
     "output_type": "stream",
     "text": [
      "         Date     Cases  Deaths  Recovered\n",
      "0  2023-02-08  44684973  530748          0\n",
      "1  2023-02-09  44685087  530750          0\n",
      "2  2023-02-10  44683862  530750          0\n",
      "3  2023-02-11  44685219  530750          0\n",
      "4  2023-02-12  44685425  530753          0\n",
      "5  2023-02-13  44685499  530753          0\n",
      "6  2023-02-14  44685601  530756          0\n",
      "7  2023-02-15  44685727  530757          0\n",
      "8  2023-02-16  44685884  530757          0\n",
      "9  2023-02-17  44686001  530757          0\n",
      "10 2023-02-18  44686143  530760          0\n",
      "11 2023-02-19  44686263  530761          0\n",
      "12 2023-02-20  44686358  530761          0\n",
      "13 2023-02-21  44686483  530762          0\n",
      "14 2023-02-22  44686676  530763          0\n",
      "15 2023-02-23  44686842  530764          0\n",
      "16 2023-02-24  44687025  530764          0\n",
      "17 2023-02-25  44687243  530769          0\n",
      "18 2023-02-26  44687428  530770          0\n",
      "19 2023-02-27  44687597  530771          0\n",
      "20 2023-02-28  44687837  530772          0\n",
      "21 2023-03-01  44688105  530772          0\n",
      "22 2023-03-02  44688388  530772          0\n",
      "23 2023-03-03  44688722  530775          0\n",
      "24 2023-03-04  44689046  530775          0\n",
      "25 2023-03-05  44689327  530775          0\n",
      "26 2023-03-06  44689593  530775          0\n",
      "27 2023-03-07  44689919  530775          0\n",
      "28 2023-03-08  44690298  530776          0\n",
      "29 2023-03-09  44690738  530779          0\n",
      "<class 'pandas.core.frame.DataFrame'>\n",
      "RangeIndex: 30 entries, 0 to 29\n",
      "Data columns (total 4 columns):\n",
      " #   Column     Non-Null Count  Dtype         \n",
      "---  ------     --------------  -----         \n",
      " 0   Date       30 non-null     datetime64[ns]\n",
      " 1   Cases      30 non-null     int64         \n",
      " 2   Deaths     30 non-null     int64         \n",
      " 3   Recovered  30 non-null     int64         \n",
      "dtypes: datetime64[ns](1), int64(3)\n",
      "memory usage: 1.1 KB\n"
     ]
    },
    {
     "data": {
      "application/vnd.jupyter.widget-view+json": {
       "model_id": "6a872fe12ed94128a6a4e5ae8b2ae6ad",
       "version_major": 2,
       "version_minor": 0
      },
      "text/plain": [
       "interactive(children=(Dropdown(description='Country:', index=94, options=('Afghanistan', 'Albania', 'Algeria',…"
      ]
     },
     "metadata": {},
     "output_type": "display_data"
    }
   ],
   "source": [
    "url=\"https://disease.sh/v3/covid-19/historical/all?lastdays=30\"\n",
    "response=requests.get(url)\n",
    "print(response)\n",
    "data=response.json()\n",
    "cases_df=pd.DataFrame(list(data[\"cases\"].items()),columns=['Date','Cases'])\n",
    "deaths_df=pd.DataFrame(list(data['deaths'].items()),columns=['Date','Deaths'])\n",
    "recovered_df=pd.DataFrame(list(data['recovered'].items()),columns=['Date','Recovered'])\n",
    "merged_df=pd.merge(cases_df,deaths_df,on='Date')\n",
    "merged_df=pd.merge(merged_df,recovered_df,on='Date')\n",
    "merged_df['Date']=pd.to_datetime(merged_df['Date'],format='%m/%d/%y')\n",
    "fig=make_subplots(specs=[[{\"secondary_y\": True}]])\n",
    "fig.add_trace(\n",
    "    go.Scatter(x=merged_df['Date'],y=merged_df['Cases'],name=\"Cases\",line=dict(color='blue')),\n",
    "    secondary_y=False,\n",
    ")\n",
    "fig.add_trace(\n",
    "    go.Scatter(x=merged_df['Date'],y=merged_df['Deaths'],name='Deaths',line=dict(color='red')),\n",
    "    secondary_y=True,\n",
    ")\n",
    "fig.add_trace(\n",
    "    go.Scatter(x=merged_df['Date'],y=merged_df['Recovered'],name=\"Recovered\",line=dict(color='green')),\n",
    "    secondary_y=False,\n",
    ")\n",
    "fig.update_layout(\n",
    "    title_text=\"Global COVID-19 Trends (Last 30 Days)\",\n",
    "    hovermode=\"x unified\"\n",
    ")\n",
    "fig.update_yaxes(title_text=\"Cases/Recovered\",secondary_y=False)\n",
    "fig.update_yaxes(title_text=\"Deaths\",secondary_y=True)\n",
    "fig.show()\n",
    "countries_url=\"https://disease.sh/v3/covid-19/countries\"\n",
    "countries_data=requests.get(countries_url).json()\n",
    "print(countries_data)\n",
    "countries_df=pd.DataFrame(countries_data)\n",
    "countries_df=countries_df[['country','cases','deaths','recovered','active','countryInfo']]\n",
    "countries_df['lat']=countries_df['countryInfo'].apply(lambda x: x['lat'])\n",
    "countries_df['long']=countries_df['countryInfo'].apply(lambda x: x['long'])\n",
    "fig=px.scatter_geo(countries_df,\n",
    "                   lat='lat',\n",
    "                   lon='long',\n",
    "                   color=\"cases\",\n",
    "                   size=\"cases\",\n",
    "                   hover_name=\"country\",\n",
    "                   hover_data=[\"cases\",\"deaths\",\"recovered\"],\n",
    "                   projection=\"natural earth\",\n",
    "                   title=\"Global COVID-19 Spread\",\n",
    "                   color_continuous_scale=px.colors.sequential.Reds)\n",
    "fig.update_layout(height=600,margin={\"r\":0,\"t\":30,\"l\":0,\"b\":0})\n",
    "fig.show()\n",
    "def get_country_historical_data(country):\n",
    "    url=f\"https://disease.sh/v3/covid-19/historical/{country}?lastdates=30\"\n",
    "    response=requests.get(url)\n",
    "    if response.status_code==200:\n",
    "        data=response.json()\n",
    "        timeline=data['timeline']\n",
    "        df=pd.DataFrame({\n",
    "            'Date':list(timeline['cases'].keys()),\n",
    "            'Cases':list(timeline['cases'].values()),\n",
    "            'Deaths':list(timeline['deaths'].values()),\n",
    "            'Recovered':list(timeline['recovered'].values())\n",
    "        })\n",
    "        df['Date']=pd.to_datetime(df['Date'],format='%m/%d/%y')\n",
    "        return df\n",
    "    else:\n",
    "        return None\n",
    "india_df=get_country_historical_data('India') \n",
    "print(india_df)  \n",
    "india_df.info()\n",
    "from ipywidgets import interact,widgets\n",
    "country_dropdown=widgets.Dropdown(options=sorted(countries_df['country'].unique()),\n",
    "                                  value='India',\n",
    "                                  description='Country'\n",
    "                                  )\n",
    "from ipywidgets import interact, widgets\n",
    "\n",
    "\n",
    "country_dropdown = widgets.Dropdown(\n",
    "    options=sorted(countries_df['country'].unique()),\n",
    "    value='India',\n",
    "    description='Country:'\n",
    ")\n",
    "\n",
    "\n",
    "data_type_radio = widgets.RadioButtons(\n",
    "    options=['Cases', 'Deaths', 'Recovered', 'Active'],\n",
    "    value='Cases',\n",
    "    description='Data Type:'\n",
    ")\n",
    "\n",
    "@interact(country=country_dropdown, data_type=data_type_radio)\n",
    "def update_plots(country, data_type):\n",
    "    \n",
    "    country_df = get_country_historical_data(country)\n",
    "    \n",
    "    if country_df is not None:\n",
    "        \n",
    "        fig1 = px.line(country_df, x='Date', y=data_type, \n",
    "                       title=f\"{country} - COVID-19 {data_type} Over Time\")\n",
    "        fig1.show()\n",
    "        \n",
    "        \n",
    "        country_data = countries_df[countries_df['country'] == country].iloc[0]\n",
    "        fig2 = px.scatter_geo(countries_df, \n",
    "                             lat='lat', \n",
    "                             lon='long', \n",
    "                             size=data_type.lower(),\n",
    "                             color=data_type.lower(),\n",
    "                             hover_name=\"country\",\n",
    "                             projection=\"natural earth\",\n",
    "                             title=f\"Global COVID-19 {data_type}\")\n",
    "        \n",
    "        \n",
    "        fig2.add_trace(\n",
    "            go.Scattergeo(\n",
    "                lon=[country_data['long']],\n",
    "                lat=[country_data['lat']],\n",
    "                text=[country],\n",
    "                mode='markers',\n",
    "                marker=dict(size=15, color='black'),\n",
    "                name='Selected Country'\n",
    "            )\n",
    "        )\n",
    "        \n",
    "        fig2.update_layout(height=500, margin={\"r\":0,\"t\":30,\"l\":0,\"b\":0})\n",
    "        fig2.show()\n"
   ]
  },
  {
   "cell_type": "code",
   "execution_count": null,
   "id": "51e65922",
   "metadata": {},
   "outputs": [],
   "source": []
  },
  {
   "cell_type": "code",
   "execution_count": null,
   "id": "6394919d",
   "metadata": {},
   "outputs": [],
   "source": []
  }
 ],
 "metadata": {
  "kernelspec": {
   "display_name": ".venv",
   "language": "python",
   "name": "python3"
  },
  "language_info": {
   "codemirror_mode": {
    "name": "ipython",
    "version": 3
   },
   "file_extension": ".py",
   "mimetype": "text/x-python",
   "name": "python",
   "nbconvert_exporter": "python",
   "pygments_lexer": "ipython3",
   "version": "3.13.2"
  }
 },
 "nbformat": 4,
 "nbformat_minor": 5
}
